{
 "cells": [
  {
   "cell_type": "markdown",
   "metadata": {},
   "source": [
    "# Importing Libraries"
   ]
  },
  {
   "cell_type": "code",
   "execution_count": 248,
   "metadata": {},
   "outputs": [],
   "source": [
    "import numpy as np\n",
    "import pandas as pd\n",
    "from sklearn.metrics import confusion_matrix as cm\n",
    "from sklearn.metrics import accuracy_score as asc\n",
    "from sklearn.metrics import r2_score as r\n",
    "from sklearn.preprocessing import LabelEncoder\n",
    "import matplotlib.pyplot as plt\n",
    "import seaborn as sns\n",
    "import matplotlib.pyplot as plt\n",
    "import statsmodels.api as sm\n",
    "from sklearn.decomposition import PCA\n",
    "from sklearn.model_selection import train_test_split\n",
    "from sklearn import linear_model\n",
    "from sklearn.metrics import r2_score as r2\n",
    "from sklearn.metrics import mean_squared_error\n",
    "from sklearn.neighbors import KNeighborsRegressor as KNN\n",
    "from sklearn.tree import DecisionTreeRegressor as DTR\n",
    "from sklearn.ensemble import RandomForestRegressor as RFR\n",
    "from statsmodels.stats.outliers_influence import variance_inflation_factor\n",
    "from sklearn.preprocessing import Normalizer"
   ]
  },
  {
   "cell_type": "markdown",
   "metadata": {},
   "source": [
    "# Knocking 10 % data"
   ]
  },
  {
   "cell_type": "code",
   "execution_count": 249,
   "metadata": {},
   "outputs": [],
   "source": [
    "# we have used if else loop to avoid further knocking if it is alraedy done once\n",
    "if df_ori['X1'].isnull().sum() == 0:\n",
    "    for i in range(1,9):\n",
    "        df_ori[f'X{i}'] = df_ori[f'X{i}'].sample(frac = 0.9)\n",
    "else:\n",
    "    print(\"knocking already done\")"
   ]
  },
  {
   "cell_type": "markdown",
   "metadata": {},
   "source": [
    "##### Creating a knocked data .csv file"
   ]
  },
  {
   "cell_type": "code",
   "execution_count": 250,
   "metadata": {},
   "outputs": [],
   "source": [
    "df_ori.to_csv('knocked_0.csv',sep=',', index = False, mode = 'w', header = True)"
   ]
  },
  {
   "cell_type": "markdown",
   "metadata": {},
   "source": [
    "### Reading csv"
   ]
  },
  {
   "cell_type": "code",
   "execution_count": 251,
   "metadata": {},
   "outputs": [],
   "source": [
    "df = pd.read_csv(\"knock_0.csv\")\n",
    "df_ori= pd.read_excel(\"ENB2012_data.xlsx\")"
   ]
  },
  {
   "cell_type": "markdown",
   "metadata": {},
   "source": [
    "## Correlation matrix for original data"
   ]
  },
  {
   "cell_type": "code",
   "execution_count": 252,
   "metadata": {},
   "outputs": [
    {
     "data": {
      "text/html": [
       "<div>\n",
       "<style scoped>\n",
       "    .dataframe tbody tr th:only-of-type {\n",
       "        vertical-align: middle;\n",
       "    }\n",
       "\n",
       "    .dataframe tbody tr th {\n",
       "        vertical-align: top;\n",
       "    }\n",
       "\n",
       "    .dataframe thead th {\n",
       "        text-align: right;\n",
       "    }\n",
       "</style>\n",
       "<table border=\"1\" class=\"dataframe\">\n",
       "  <thead>\n",
       "    <tr style=\"text-align: right;\">\n",
       "      <th></th>\n",
       "      <th>X1</th>\n",
       "      <th>X2</th>\n",
       "      <th>X3</th>\n",
       "      <th>X4</th>\n",
       "      <th>X5</th>\n",
       "      <th>X6</th>\n",
       "      <th>X7</th>\n",
       "      <th>X8</th>\n",
       "      <th>Y1</th>\n",
       "      <th>Y2</th>\n",
       "    </tr>\n",
       "  </thead>\n",
       "  <tbody>\n",
       "    <tr>\n",
       "      <th>X1</th>\n",
       "      <td>1.000000e+00</td>\n",
       "      <td>-9.919015e-01</td>\n",
       "      <td>-2.037817e-01</td>\n",
       "      <td>-8.688234e-01</td>\n",
       "      <td>8.277473e-01</td>\n",
       "      <td>0.000000</td>\n",
       "      <td>1.283986e-17</td>\n",
       "      <td>1.764620e-17</td>\n",
       "      <td>0.622272</td>\n",
       "      <td>0.634339</td>\n",
       "    </tr>\n",
       "    <tr>\n",
       "      <th>X2</th>\n",
       "      <td>-9.919015e-01</td>\n",
       "      <td>1.000000e+00</td>\n",
       "      <td>1.955016e-01</td>\n",
       "      <td>8.807195e-01</td>\n",
       "      <td>-8.581477e-01</td>\n",
       "      <td>0.000000</td>\n",
       "      <td>1.318356e-16</td>\n",
       "      <td>-3.558613e-16</td>\n",
       "      <td>-0.658120</td>\n",
       "      <td>-0.672999</td>\n",
       "    </tr>\n",
       "    <tr>\n",
       "      <th>X3</th>\n",
       "      <td>-2.037817e-01</td>\n",
       "      <td>1.955016e-01</td>\n",
       "      <td>1.000000e+00</td>\n",
       "      <td>-2.923165e-01</td>\n",
       "      <td>2.809757e-01</td>\n",
       "      <td>0.000000</td>\n",
       "      <td>-7.969726e-19</td>\n",
       "      <td>0.000000e+00</td>\n",
       "      <td>0.455671</td>\n",
       "      <td>0.427117</td>\n",
       "    </tr>\n",
       "    <tr>\n",
       "      <th>X4</th>\n",
       "      <td>-8.688234e-01</td>\n",
       "      <td>8.807195e-01</td>\n",
       "      <td>-2.923165e-01</td>\n",
       "      <td>1.000000e+00</td>\n",
       "      <td>-9.725122e-01</td>\n",
       "      <td>0.000000</td>\n",
       "      <td>-1.381805e-16</td>\n",
       "      <td>-1.079129e-16</td>\n",
       "      <td>-0.861828</td>\n",
       "      <td>-0.862547</td>\n",
       "    </tr>\n",
       "    <tr>\n",
       "      <th>X5</th>\n",
       "      <td>8.277473e-01</td>\n",
       "      <td>-8.581477e-01</td>\n",
       "      <td>2.809757e-01</td>\n",
       "      <td>-9.725122e-01</td>\n",
       "      <td>1.000000e+00</td>\n",
       "      <td>0.000000</td>\n",
       "      <td>1.861418e-18</td>\n",
       "      <td>0.000000e+00</td>\n",
       "      <td>0.889430</td>\n",
       "      <td>0.895785</td>\n",
       "    </tr>\n",
       "    <tr>\n",
       "      <th>X6</th>\n",
       "      <td>0.000000e+00</td>\n",
       "      <td>0.000000e+00</td>\n",
       "      <td>0.000000e+00</td>\n",
       "      <td>0.000000e+00</td>\n",
       "      <td>0.000000e+00</td>\n",
       "      <td>1.000000</td>\n",
       "      <td>0.000000e+00</td>\n",
       "      <td>0.000000e+00</td>\n",
       "      <td>-0.002587</td>\n",
       "      <td>0.014290</td>\n",
       "    </tr>\n",
       "    <tr>\n",
       "      <th>X7</th>\n",
       "      <td>1.283986e-17</td>\n",
       "      <td>1.318356e-16</td>\n",
       "      <td>-7.969726e-19</td>\n",
       "      <td>-1.381805e-16</td>\n",
       "      <td>1.861418e-18</td>\n",
       "      <td>0.000000</td>\n",
       "      <td>1.000000e+00</td>\n",
       "      <td>2.129642e-01</td>\n",
       "      <td>0.269842</td>\n",
       "      <td>0.207505</td>\n",
       "    </tr>\n",
       "    <tr>\n",
       "      <th>X8</th>\n",
       "      <td>1.764620e-17</td>\n",
       "      <td>-3.558613e-16</td>\n",
       "      <td>0.000000e+00</td>\n",
       "      <td>-1.079129e-16</td>\n",
       "      <td>0.000000e+00</td>\n",
       "      <td>0.000000</td>\n",
       "      <td>2.129642e-01</td>\n",
       "      <td>1.000000e+00</td>\n",
       "      <td>0.087368</td>\n",
       "      <td>0.050525</td>\n",
       "    </tr>\n",
       "    <tr>\n",
       "      <th>Y1</th>\n",
       "      <td>6.222719e-01</td>\n",
       "      <td>-6.581199e-01</td>\n",
       "      <td>4.556714e-01</td>\n",
       "      <td>-8.618281e-01</td>\n",
       "      <td>8.894305e-01</td>\n",
       "      <td>-0.002587</td>\n",
       "      <td>2.698417e-01</td>\n",
       "      <td>8.736846e-02</td>\n",
       "      <td>1.000000</td>\n",
       "      <td>0.975862</td>\n",
       "    </tr>\n",
       "    <tr>\n",
       "      <th>Y2</th>\n",
       "      <td>6.343391e-01</td>\n",
       "      <td>-6.729989e-01</td>\n",
       "      <td>4.271170e-01</td>\n",
       "      <td>-8.625466e-01</td>\n",
       "      <td>8.957852e-01</td>\n",
       "      <td>0.014290</td>\n",
       "      <td>2.075050e-01</td>\n",
       "      <td>5.052512e-02</td>\n",
       "      <td>0.975862</td>\n",
       "      <td>1.000000</td>\n",
       "    </tr>\n",
       "  </tbody>\n",
       "</table>\n",
       "</div>"
      ],
      "text/plain": [
       "              X1            X2            X3            X4            X5  \\\n",
       "X1  1.000000e+00 -9.919015e-01 -2.037817e-01 -8.688234e-01  8.277473e-01   \n",
       "X2 -9.919015e-01  1.000000e+00  1.955016e-01  8.807195e-01 -8.581477e-01   \n",
       "X3 -2.037817e-01  1.955016e-01  1.000000e+00 -2.923165e-01  2.809757e-01   \n",
       "X4 -8.688234e-01  8.807195e-01 -2.923165e-01  1.000000e+00 -9.725122e-01   \n",
       "X5  8.277473e-01 -8.581477e-01  2.809757e-01 -9.725122e-01  1.000000e+00   \n",
       "X6  0.000000e+00  0.000000e+00  0.000000e+00  0.000000e+00  0.000000e+00   \n",
       "X7  1.283986e-17  1.318356e-16 -7.969726e-19 -1.381805e-16  1.861418e-18   \n",
       "X8  1.764620e-17 -3.558613e-16  0.000000e+00 -1.079129e-16  0.000000e+00   \n",
       "Y1  6.222719e-01 -6.581199e-01  4.556714e-01 -8.618281e-01  8.894305e-01   \n",
       "Y2  6.343391e-01 -6.729989e-01  4.271170e-01 -8.625466e-01  8.957852e-01   \n",
       "\n",
       "          X6            X7            X8        Y1        Y2  \n",
       "X1  0.000000  1.283986e-17  1.764620e-17  0.622272  0.634339  \n",
       "X2  0.000000  1.318356e-16 -3.558613e-16 -0.658120 -0.672999  \n",
       "X3  0.000000 -7.969726e-19  0.000000e+00  0.455671  0.427117  \n",
       "X4  0.000000 -1.381805e-16 -1.079129e-16 -0.861828 -0.862547  \n",
       "X5  0.000000  1.861418e-18  0.000000e+00  0.889430  0.895785  \n",
       "X6  1.000000  0.000000e+00  0.000000e+00 -0.002587  0.014290  \n",
       "X7  0.000000  1.000000e+00  2.129642e-01  0.269842  0.207505  \n",
       "X8  0.000000  2.129642e-01  1.000000e+00  0.087368  0.050525  \n",
       "Y1 -0.002587  2.698417e-01  8.736846e-02  1.000000  0.975862  \n",
       "Y2  0.014290  2.075050e-01  5.052512e-02  0.975862  1.000000  "
      ]
     },
     "metadata": {},
     "output_type": "display_data"
    },
    {
     "data": {
      "text/plain": [
       "<matplotlib.axes._subplots.AxesSubplot at 0x20ed8e22ba8>"
      ]
     },
     "execution_count": 252,
     "metadata": {},
     "output_type": "execute_result"
    },
    {
     "data": {
      "image/png": "[encoded data removed]",
      "text/plain": [
       "<Figure size 432x288 with 2 Axes>"
      ]
     },
     "metadata": {
      "needs_background": "light"
     },
     "output_type": "display_data"
    }
   ],
   "source": [
    "corrmat = df_ori.corr()\n",
    "# to find the correlation matrix for features only\n",
    "display(corrmat)\n",
    "\n",
    "# also we can find the heatmap to get better visual idea\n",
    "sns.heatmap(corrmat, xticklabels = corrmat.columns, yticklabels = corrmat.columns, cmap = 'RdBu')"
   ]
  },
  {
   "cell_type": "markdown",
   "metadata": {},
   "source": [
    "# Doing Imputations"
   ]
  },
  {
   "cell_type": "markdown",
   "metadata": {},
   "source": [
    "# X1 Imputation"
   ]
  },
  {
   "cell_type": "code",
   "execution_count": 255,
   "metadata": {},
   "outputs": [
    {
     "data": {
      "text/plain": [
       "<matplotlib.axes._subplots.AxesSubplot at 0x20ed904dd30>"
      ]
     },
     "execution_count": 255,
     "metadata": {},
     "output_type": "execute_result"
    },
    {
     "data": {
      "image/png": "[encoded data removed]",
      "text/plain": [
       "<Figure size 432x288 with 1 Axes>"
      ]
     },
     "metadata": {
      "needs_background": "light"
     },
     "output_type": "display_data"
    }
   ],
   "source": [
    "X1_ori = df_ori.X1\n",
    "X1 = df.X1\n",
    "sns.distplot(X1_ori)"
   ]
  },
  {
   "cell_type": "code",
   "execution_count": 256,
   "metadata": {},
   "outputs": [
    {
     "data": {
      "text/plain": [
       "count    768.000000\n",
       "mean       0.764167\n",
       "std        0.105777\n",
       "min        0.620000\n",
       "25%        0.682500\n",
       "50%        0.750000\n",
       "75%        0.830000\n",
       "max        0.980000\n",
       "Name: X1, dtype: float64"
      ]
     },
     "execution_count": 256,
     "metadata": {},
     "output_type": "execute_result"
    }
   ],
   "source": [
    "X1_ori.describe()"
   ]
  },
  {
   "cell_type": "code",
   "execution_count": 257,
   "metadata": {},
   "outputs": [
    {
     "data": {
      "text/plain": [
       "0.90    64\n",
       "0.79    64\n",
       "0.71    64\n",
       "0.66    64\n",
       "0.98    64\n",
       "0.64    64\n",
       "0.86    64\n",
       "0.76    64\n",
       "0.74    64\n",
       "0.82    64\n",
       "0.62    64\n",
       "0.69    64\n",
       "Name: X1, dtype: int64"
      ]
     },
     "execution_count": 257,
     "metadata": {},
     "output_type": "execute_result"
    }
   ],
   "source": [
    "X1_ori.value_counts()"
   ]
  },
  {
   "cell_type": "markdown",
   "metadata": {},
   "source": [
    "#### filling with mean = 0.74 as standard deviation is less and all values have equal frequencies"
   ]
  },
  {
   "cell_type": "code",
   "execution_count": 258,
   "metadata": {},
   "outputs": [],
   "source": [
    "m = 0.74\n",
    "X1_fill = X1.fillna(0)\n",
    "X1_fill = np.array(X1_fill)\n",
    "X1_imp = []\n",
    "for i in range(len(X1_fill)):\n",
    "    if X1_fill[i] == 0:\n",
    "        X1_imp.append(m)\n",
    "    else:\n",
    "        X1_imp.append(X1_fill[i])"
   ]
  },
  {
   "cell_type": "code",
   "execution_count": 259,
   "metadata": {},
   "outputs": [],
   "source": [
    "tr1 = 0\n",
    "fa1 = 0\n",
    "for i in range(len(X1_ori)):\n",
    "    if X1_ori[i] == X1_imp[i]:\n",
    "        tr1 = tr1 + 1\n",
    "    else:\n",
    "        fa1 = fa1 + 1"
   ]
  },
  {
   "cell_type": "code",
   "execution_count": 260,
   "metadata": {},
   "outputs": [
    {
     "name": "stdout",
     "output_type": "stream",
     "text": [
      "Accuracy compared to original feature is 0.9114583333333334\n"
     ]
    }
   ],
   "source": [
    "accuracy = tr1/768\n",
    "print(f\"Accuracy compared to original feature is {accuracy}\")"
   ]
  },
  {
   "cell_type": "markdown",
   "metadata": {},
   "source": [
    "# X2 Imputation"
   ]
  },
  {
   "cell_type": "code",
   "execution_count": 261,
   "metadata": {},
   "outputs": [
    {
     "data": {
      "text/plain": [
       "<matplotlib.axes._subplots.AxesSubplot at 0x20ed90c5940>"
      ]
     },
     "execution_count": 261,
     "metadata": {},
     "output_type": "execute_result"
    },
    {
     "data": {
      "image/png": "[encoded data removed]",
      "text/plain": [
       "<Figure size 432x288 with 1 Axes>"
      ]
     },
     "metadata": {
      "needs_background": "light"
     },
     "output_type": "display_data"
    }
   ],
   "source": [
    "X2_ori = df_ori.X2\n",
    "X2 = df.X2\n",
    "sns.distplot(X2_ori)"
   ]
  },
  {
   "cell_type": "code",
   "execution_count": 262,
   "metadata": {},
   "outputs": [
    {
     "data": {
      "text/plain": [
       "count    768.000000\n",
       "mean     671.708333\n",
       "std       88.086116\n",
       "min      514.500000\n",
       "25%      606.375000\n",
       "50%      673.750000\n",
       "75%      741.125000\n",
       "max      808.500000\n",
       "Name: X2, dtype: float64"
      ]
     },
     "execution_count": 262,
     "metadata": {},
     "output_type": "execute_result"
    }
   ],
   "source": [
    "X2_ori.describe()"
   ]
  },
  {
   "cell_type": "code",
   "execution_count": 263,
   "metadata": {},
   "outputs": [
    {
     "data": {
      "text/plain": [
       "563.5    64\n",
       "735.0    64\n",
       "686.0    64\n",
       "637.0    64\n",
       "808.5    64\n",
       "514.5    64\n",
       "759.5    64\n",
       "710.5    64\n",
       "661.5    64\n",
       "612.5    64\n",
       "784.0    64\n",
       "588.0    64\n",
       "Name: X2, dtype: int64"
      ]
     },
     "execution_count": 263,
     "metadata": {},
     "output_type": "execute_result"
    }
   ],
   "source": [
    "X2_ori.value_counts()"
   ]
  },
  {
   "cell_type": "code",
   "execution_count": 264,
   "metadata": {},
   "outputs": [],
   "source": [
    "m = 661.5\n",
    "X2_fill = X2.fillna(0)\n",
    "X2_fill = np.array(X2_fill)\n",
    "X2_imp = []\n",
    "for i in range(len(X2_fill)):\n",
    "    if X2_fill[i] == 0:\n",
    "        X2_imp.append(m)\n",
    "    else:\n",
    "        X2_imp.append(X2_fill[i])"
   ]
  },
  {
   "cell_type": "code",
   "execution_count": 265,
   "metadata": {},
   "outputs": [],
   "source": [
    "tr2 = 0\n",
    "fa2 = 0\n",
    "for i in range(len(X2_ori)):\n",
    "    if X2_ori[i] == X2_imp[i]:\n",
    "        tr2 = tr2 + 1\n",
    "    else:\n",
    "        fa2 = fa2 + 1"
   ]
  },
  {
   "cell_type": "code",
   "execution_count": 266,
   "metadata": {},
   "outputs": [
    {
     "name": "stdout",
     "output_type": "stream",
     "text": [
      "Accuracy compared to original feature is 0.9140625\n"
     ]
    }
   ],
   "source": [
    "accuracy = tr2/768\n",
    "print(f\"Accuracy compared to original feature is {accuracy}\")"
   ]
  },
  {
   "cell_type": "markdown",
   "metadata": {},
   "source": [
    "# X3 Imputation"
   ]
  },
  {
   "cell_type": "code",
   "execution_count": 267,
   "metadata": {},
   "outputs": [
    {
     "data": {
      "text/plain": [
       "<matplotlib.axes._subplots.AxesSubplot at 0x20ed9132358>"
      ]
     },
     "execution_count": 267,
     "metadata": {},
     "output_type": "execute_result"
    },
    {
     "data": {
      "image/png": "[encoded data removed]",
      "text/plain": [
       "<Figure size 432x288 with 1 Axes>"
      ]
     },
     "metadata": {
      "needs_background": "light"
     },
     "output_type": "display_data"
    }
   ],
   "source": [
    "X3_ori = df_ori.X3\n",
    "X3 = df.X3\n",
    "sns.distplot(X3_ori)"
   ]
  },
  {
   "cell_type": "code",
   "execution_count": 268,
   "metadata": {},
   "outputs": [
    {
     "data": {
      "text/plain": [
       "count    768.000000\n",
       "mean     318.500000\n",
       "std       43.626481\n",
       "min      245.000000\n",
       "25%      294.000000\n",
       "50%      318.500000\n",
       "75%      343.000000\n",
       "max      416.500000\n",
       "Name: X3, dtype: float64"
      ]
     },
     "execution_count": 268,
     "metadata": {},
     "output_type": "execute_result"
    }
   ],
   "source": [
    "X3_ori.describe()"
   ]
  },
  {
   "cell_type": "code",
   "execution_count": 269,
   "metadata": {},
   "outputs": [
    {
     "data": {
      "text/plain": [
       "318.5    192\n",
       "294.0    192\n",
       "343.0    128\n",
       "367.5     64\n",
       "245.0     64\n",
       "269.5     64\n",
       "416.5     64\n",
       "Name: X3, dtype: int64"
      ]
     },
     "execution_count": 269,
     "metadata": {},
     "output_type": "execute_result"
    }
   ],
   "source": [
    "X3_ori.value_counts()"
   ]
  },
  {
   "cell_type": "markdown",
   "metadata": {},
   "source": [
    "#### We filled the null values with mean, as mean = mode = 318.5"
   ]
  },
  {
   "cell_type": "code",
   "execution_count": 270,
   "metadata": {},
   "outputs": [],
   "source": [
    "m = X3_ori.mean()\n",
    "X3_fill = X3.fillna(0)\n",
    "X3_fill = np.array(X3_fill)\n",
    "X3_imp = []\n",
    "for i in range(len(X3_fill)):\n",
    "    if X3_fill[i] == 0:\n",
    "        X3_imp.append(m)\n",
    "    else:\n",
    "        X3_imp.append(X3_fill[i])"
   ]
  },
  {
   "cell_type": "code",
   "execution_count": 271,
   "metadata": {},
   "outputs": [],
   "source": [
    "tr3 = 0\n",
    "fa3 = 0\n",
    "for i in range(len(X3_ori)):\n",
    "    if X3_ori[i] == X3_imp[i]:\n",
    "        tr3 = tr3 + 1\n",
    "    else:\n",
    "        fa3 = fa3 + 1"
   ]
  },
  {
   "cell_type": "code",
   "execution_count": 272,
   "metadata": {},
   "outputs": [
    {
     "name": "stdout",
     "output_type": "stream",
     "text": [
      "Accuracy compared to original feature is 0.9205729166666666\n"
     ]
    }
   ],
   "source": [
    "accuracy = tr3/768\n",
    "print(f\"Accuracy compared to original feature is {accuracy}\")"
   ]
  },
  {
   "cell_type": "markdown",
   "metadata": {},
   "source": [
    "# X4 imputation"
   ]
  },
  {
   "cell_type": "code",
   "execution_count": 273,
   "metadata": {},
   "outputs": [
    {
     "data": {
      "text/plain": [
       "<matplotlib.axes._subplots.AxesSubplot at 0x20ed91c95f8>"
      ]
     },
     "execution_count": 273,
     "metadata": {},
     "output_type": "execute_result"
    },
    {
     "data": {
      "image/png": "[encoded data removed]",
      "text/plain": [
       "<Figure size 432x288 with 1 Axes>"
      ]
     },
     "metadata": {
      "needs_background": "light"
     },
     "output_type": "display_data"
    }
   ],
   "source": [
    "X4_ori = df_ori.X4\n",
    "X4 = df.X4\n",
    "sns.distplot(X4_ori)"
   ]
  },
  {
   "cell_type": "code",
   "execution_count": 274,
   "metadata": {},
   "outputs": [
    {
     "data": {
      "text/plain": [
       "220.50    384\n",
       "147.00    192\n",
       "122.50    128\n",
       "110.25     64\n",
       "Name: X4, dtype: int64"
      ]
     },
     "execution_count": 274,
     "metadata": {},
     "output_type": "execute_result"
    }
   ],
   "source": [
    "X4_ori.value_counts()"
   ]
  },
  {
   "cell_type": "markdown",
   "metadata": {},
   "source": [
    "#### since 50% data of the X4_ori is 220.50 = mode, so we will fill null values with mode"
   ]
  },
  {
   "cell_type": "code",
   "execution_count": 275,
   "metadata": {},
   "outputs": [],
   "source": [
    "m = X4_ori.mean()\n",
    "X4_fill = X4.fillna(0)\n",
    "X4_fill = np.array(X4_fill)\n",
    "X4_imp_mean = []\n",
    "for i in range(len(X4_fill)):\n",
    "    if X4_fill[i] == 0:\n",
    "        X4_imp_mean.append(m)\n",
    "    else:\n",
    "        X4_imp_mean.append(X4_fill[i])"
   ]
  },
  {
   "cell_type": "code",
   "execution_count": 276,
   "metadata": {},
   "outputs": [],
   "source": [
    "tr41 = 0\n",
    "fa41 = 0\n",
    "for i in range(len(X4_ori)):\n",
    "    if X4_ori[i] == X4_imp_mean[i]:\n",
    "        tr41 = tr41 + 1\n",
    "    else:\n",
    "        fa41 = fa41 + 1"
   ]
  },
  {
   "cell_type": "code",
   "execution_count": 277,
   "metadata": {},
   "outputs": [
    {
     "name": "stdout",
     "output_type": "stream",
     "text": [
      "Accuracy compared to original feature is 0.8997395833333334\n"
     ]
    }
   ],
   "source": [
    "accuracy = tr41/768\n",
    "print(f\"Accuracy compared to original feature is {accuracy}\")"
   ]
  },
  {
   "cell_type": "code",
   "execution_count": 278,
   "metadata": {},
   "outputs": [],
   "source": [
    "m = 220.5\n",
    "X4_fill = X4.fillna(0)\n",
    "X4_fill = np.array(X4_fill)\n",
    "X4_imp = []\n",
    "for i in range(len(X4_fill)):\n",
    "    if X4_fill[i] == 0:\n",
    "        X4_imp.append(np.float(m))\n",
    "    else:\n",
    "        X4_imp.append(np.float(X4_fill[i]))"
   ]
  },
  {
   "cell_type": "code",
   "execution_count": 279,
   "metadata": {},
   "outputs": [],
   "source": [
    "tr4 = 0\n",
    "fa4 = 0\n",
    "for i in range(len(X4_ori)):\n",
    "    if X4_ori[i] == X4_imp[i]:\n",
    "        tr4 = tr4 + 1\n",
    "    else:\n",
    "        fa4 = fa4 + 1"
   ]
  },
  {
   "cell_type": "code",
   "execution_count": 280,
   "metadata": {},
   "outputs": [
    {
     "name": "stdout",
     "output_type": "stream",
     "text": [
      "Accuracy compared to original feature is 0.9557291666666666\n"
     ]
    }
   ],
   "source": [
    "accuracy = tr4/768\n",
    "print(f\"Accuracy compared to original feature is {accuracy}\")"
   ]
  },
  {
   "cell_type": "markdown",
   "metadata": {},
   "source": [
    "# X5 imputation"
   ]
  },
  {
   "cell_type": "markdown",
   "metadata": {},
   "source": [
    "#### here instaed of imputing by any machine learning technique, we are imputing such that it will fill the value of preceeding cell in place of null value as it has only two values so can be treated as a class"
   ]
  },
  {
   "cell_type": "code",
   "execution_count": 281,
   "metadata": {},
   "outputs": [
    {
     "data": {
      "text/plain": [
       "<matplotlib.axes._subplots.AxesSubplot at 0x20ed9246cf8>"
      ]
     },
     "execution_count": 281,
     "metadata": {},
     "output_type": "execute_result"
    },
    {
     "data": {
      "image/png": "[encoded data removed]",
      "text/plain": [
       "<Figure size 432x288 with 1 Axes>"
      ]
     },
     "metadata": {
      "needs_background": "light"
     },
     "output_type": "display_data"
    }
   ],
   "source": [
    "X5_ori = df_ori.X5\n",
    "X5 = df.X5\n",
    "sns.distplot(X5_ori)"
   ]
  },
  {
   "cell_type": "code",
   "execution_count": 282,
   "metadata": {},
   "outputs": [],
   "source": [
    "X5_imp = []\n",
    "X5_fill = X5.fillna(0)\n",
    "X5_fill = np.array(X5_fill)\n",
    "for i in range(len(X5_fill)):\n",
    "    if X5_fill[i] == 0:\n",
    "        X5_imp.append(X5_fill[i-1])\n",
    "    else:\n",
    "        X5_imp.append(X5_fill[i])"
   ]
  },
  {
   "cell_type": "code",
   "execution_count": 283,
   "metadata": {},
   "outputs": [],
   "source": [
    "# Encoding\n",
    "X5_ori_enc = 2 * X5_ori\n",
    "X5_imp_enc = 2 * X5_imp"
   ]
  },
  {
   "cell_type": "code",
   "execution_count": 284,
   "metadata": {},
   "outputs": [],
   "source": [
    "tr5 = 0\n",
    "fa5 = 0\n",
    "for i in range(len(X5_ori)):\n",
    "    if np.int(X5_ori[i]) == np.int(X5_imp[i]):\n",
    "        tr5 = tr5 + 1\n",
    "    else:\n",
    "        fa5 = fa5 + 1"
   ]
  },
  {
   "cell_type": "code",
   "execution_count": 285,
   "metadata": {},
   "outputs": [
    {
     "name": "stdout",
     "output_type": "stream",
     "text": [
      "Accuracy compared to original feature is 0.9856770833333334\n"
     ]
    }
   ],
   "source": [
    "print(f\"Accuracy compared to original feature is {tr5/768}\")"
   ]
  },
  {
   "cell_type": "markdown",
   "metadata": {},
   "source": [
    "# X6 imputation"
   ]
  },
  {
   "cell_type": "markdown",
   "metadata": {},
   "source": [
    "#### here instaed of imputing by any machine learning technique, we are imputing such that it will fill the value of preceeding cell in place of null value as it is a class"
   ]
  },
  {
   "cell_type": "code",
   "execution_count": 286,
   "metadata": {},
   "outputs": [
    {
     "data": {
      "text/plain": [
       "<matplotlib.axes._subplots.AxesSubplot at 0x20ed8e2a1d0>"
      ]
     },
     "execution_count": 286,
     "metadata": {},
     "output_type": "execute_result"
    },
    {
     "data": {
      "image/png": "[encoded data removed]",
      "text/plain": [
       "<Figure size 432x288 with 1 Axes>"
      ]
     },
     "metadata": {
      "needs_background": "light"
     },
     "output_type": "display_data"
    }
   ],
   "source": [
    "X6_ori = df_ori.X6\n",
    "X6 = df.X6\n",
    "sns.distplot(X6_ori)"
   ]
  },
  {
   "cell_type": "code",
   "execution_count": 287,
   "metadata": {},
   "outputs": [],
   "source": [
    "X6_fill = X6.fillna(6)\n",
    "X6_fill = np.array(X6_fill)\n",
    "X6_imp = []\n",
    "for i in range(len(X6_fill)):\n",
    "    if X6_fill[i] == 6:\n",
    "        X6_imp.append(X6_fill[i-4])\n",
    "    else:\n",
    "        X6_imp.append(X6_fill[i])"
   ]
  },
  {
   "cell_type": "code",
   "execution_count": 288,
   "metadata": {},
   "outputs": [
    {
     "data": {
      "text/plain": [
       "array([[190,   0,   0,   0,   0],\n",
       "       [  0, 192,   0,   0,   0],\n",
       "       [  0,   0, 190,   0,   0],\n",
       "       [  0,   0,   0, 191,   0],\n",
       "       [  2,   0,   2,   1,   0]], dtype=int64)"
      ]
     },
     "execution_count": 288,
     "metadata": {},
     "output_type": "execute_result"
    }
   ],
   "source": [
    "cm(X6_imp, X6_ori)"
   ]
  },
  {
   "cell_type": "code",
   "execution_count": 289,
   "metadata": {},
   "outputs": [
    {
     "name": "stdout",
     "output_type": "stream",
     "text": [
      "Accuracy compared to original feature is 0.9934895833333334\n"
     ]
    }
   ],
   "source": [
    "print(f\"Accuracy compared to original feature is {asc(X6_ori, X6_imp)}\")"
   ]
  },
  {
   "cell_type": "markdown",
   "metadata": {},
   "source": [
    "# X7 imputation"
   ]
  },
  {
   "cell_type": "markdown",
   "metadata": {},
   "source": [
    "#### here also instaed of imputing by any machine learning technique, we are imputing such that it will fill the value of preceeding cell in place of null value as it has only 4 values and can be treated as a class"
   ]
  },
  {
   "cell_type": "code",
   "execution_count": 290,
   "metadata": {},
   "outputs": [
    {
     "data": {
      "text/plain": [
       "count    768.000000\n",
       "mean       0.234375\n",
       "std        0.133221\n",
       "min        0.000000\n",
       "25%        0.100000\n",
       "50%        0.250000\n",
       "75%        0.400000\n",
       "max        0.400000\n",
       "Name: X7, dtype: float64"
      ]
     },
     "execution_count": 290,
     "metadata": {},
     "output_type": "execute_result"
    },
    {
     "data": {
      "image/png": "[encoded data removed]",
      "text/plain": [
       "<Figure size 432x288 with 1 Axes>"
      ]
     },
     "metadata": {
      "needs_background": "light"
     },
     "output_type": "display_data"
    }
   ],
   "source": [
    "X7_ori = df_ori.X7\n",
    "X7 = df.X7\n",
    "sns.distplot(X7_ori)\n",
    "X7_ori.describe()"
   ]
  },
  {
   "cell_type": "code",
   "execution_count": 291,
   "metadata": {},
   "outputs": [],
   "source": [
    "X7_fill = X7.fillna(6)\n",
    "X7_fill = np.array(X7_fill)\n",
    "X7_imp = []\n",
    "for i in range(len(X7_fill)):\n",
    "    if X7_fill[i] == 6:\n",
    "        X7_imp.append(X7_fill[i-1])\n",
    "    else:\n",
    "        X7_imp.append(X7_fill[i])"
   ]
  },
  {
   "cell_type": "code",
   "execution_count": 292,
   "metadata": {},
   "outputs": [],
   "source": [
    "tr = 0\n",
    "fa = 0\n",
    "for i in range(len(X7_ori)):\n",
    "    if np.int(X7_ori[i]) == np.int(X7_imp[i]):\n",
    "        tr = tr + 1\n",
    "    else:\n",
    "        fa = fa + 1"
   ]
  },
  {
   "cell_type": "code",
   "execution_count": 293,
   "metadata": {},
   "outputs": [
    {
     "name": "stdout",
     "output_type": "stream",
     "text": [
      "Accuracy compared to original feature is 0.9869791666666666\n"
     ]
    }
   ],
   "source": [
    "accuracy = tr/768\n",
    "print(f\"Accuracy compared to original feature is {accuracy}\")"
   ]
  },
  {
   "cell_type": "markdown",
   "metadata": {},
   "source": [
    "# X8 imputation"
   ]
  },
  {
   "cell_type": "markdown",
   "metadata": {},
   "source": [
    "#### here also instaed of imputing by any machine learning technique, we are imputing such that it will fill the value of preceeding cell in place of null value as it is a class"
   ]
  },
  {
   "cell_type": "code",
   "execution_count": 294,
   "metadata": {},
   "outputs": [
    {
     "data": {
      "text/plain": [
       "<matplotlib.axes._subplots.AxesSubplot at 0x20ed92a33c8>"
      ]
     },
     "execution_count": 294,
     "metadata": {},
     "output_type": "execute_result"
    },
    {
     "data": {
      "image/png": "[encoded data removed]",
      "text/plain": [
       "<Figure size 432x288 with 1 Axes>"
      ]
     },
     "metadata": {
      "needs_background": "light"
     },
     "output_type": "display_data"
    }
   ],
   "source": [
    "X8_ori = df_ori.X8\n",
    "X8 = df.X8\n",
    "sns.distplot(X8_ori)"
   ]
  },
  {
   "cell_type": "code",
   "execution_count": 295,
   "metadata": {},
   "outputs": [],
   "source": [
    "X8_fill = X8.fillna(6)\n",
    "X8_fill = np.array(X8_fill)\n",
    "X8_imp = []\n",
    "for i in range(len(X8_fill)):\n",
    "    if X8_fill[i] == 6:\n",
    "        X8_imp.append(X8_fill[i-1])\n",
    "    else:\n",
    "        X8_imp.append(X8_fill[i])"
   ]
  },
  {
   "cell_type": "code",
   "execution_count": 296,
   "metadata": {},
   "outputs": [
    {
     "data": {
      "text/plain": [
       "array([[ 48,   0,   0,   0,   0,   0,   0],\n",
       "       [  0, 144,   0,   0,   0,   0,   0],\n",
       "       [  0,   0, 144,   1,   0,   0,   0],\n",
       "       [  0,   0,   0, 138,   1,   0,   0],\n",
       "       [  0,   0,   0,   0, 142,   0,   0],\n",
       "       [  0,   0,   0,   0,   0, 144,   0],\n",
       "       [  0,   0,   0,   5,   1,   0,   0]], dtype=int64)"
      ]
     },
     "execution_count": 296,
     "metadata": {},
     "output_type": "execute_result"
    }
   ],
   "source": [
    "cm(X8_imp, X8_ori)"
   ]
  },
  {
   "cell_type": "code",
   "execution_count": 297,
   "metadata": {},
   "outputs": [
    {
     "name": "stdout",
     "output_type": "stream",
     "text": [
      "Accuracy compared to original feature is 0.9895833333333334\n"
     ]
    }
   ],
   "source": [
    "print(f\"Accuracy compared to original feature is {asc(X8_imp, X8_ori)}\")"
   ]
  },
  {
   "cell_type": "code",
   "execution_count": 298,
   "metadata": {},
   "outputs": [],
   "source": [
    "dict = {'X1': X1_imp, 'X2': X2_imp, 'X3': X3_imp, 'X4': X4_imp, 'X5': X5_imp, 'X6': X6_imp, 'X7': X7_imp, 'X8': X8_imp, 'Y1': df_ori.Y1, 'Y2': df_ori.Y2}\n",
    "df_imp = pd.DataFrame(dict)\n",
    "df_imp.to_csv('imputed_data_simple.csv', index = False, mode = 'w', header = True)"
   ]
  },
  {
   "cell_type": "markdown",
   "metadata": {},
   "source": []
  },
  {
   "cell_type": "markdown",
   "metadata": {},
   "source": [
    "# Reading imputed data"
   ]
  },
  {
   "cell_type": "code",
   "execution_count": 299,
   "metadata": {},
   "outputs": [],
   "source": [
    "df = pd.read_csv('imputed_data_simple.csv')\n",
    "Y1 = df.iloc[:,8].values  # Y1 is heating load\n",
    "Y2 = df.iloc[:,9].values  # Y2 is cooling load\n",
    "X = df.iloc[:,[0,1,2,3, 4, 5, 6, 7]].values"
   ]
  },
  {
   "cell_type": "markdown",
   "metadata": {},
   "source": [
    "# VIF for imputed data"
   ]
  },
  {
   "cell_type": "code",
   "execution_count": 300,
   "metadata": {},
   "outputs": [
    {
     "name": "stdout",
     "output_type": "stream",
     "text": [
      "VIF DATA\n",
      "----------------------------------------------------------------------------------------------------\n"
     ]
    },
    {
     "data": {
      "text/plain": [
       "const    1402.521983\n",
       "X1          5.491314\n",
       "X2          6.513736\n",
       "X3          2.576616\n",
       "X4          4.996355\n",
       "X5          6.821018\n",
       "X6          1.014001\n",
       "X7          1.024634\n",
       "X8          1.071561\n",
       "Y1         24.293891\n",
       "Y2         22.680645\n",
       "dtype: float64"
      ]
     },
     "metadata": {},
     "output_type": "display_data"
    }
   ],
   "source": [
    "# Finding the VIF for all the features\n",
    "VX = sm.tools.add_constant(df)\n",
    "#create series for both\n",
    "series = pd.Series([variance_inflation_factor(VX.values, i) for i in range(VX.shape[1])],index = VX.columns)\n",
    "print('VIF DATA')\n",
    "print('-'*100)\n",
    "display(series)"
   ]
  },
  {
   "cell_type": "markdown",
   "metadata": {},
   "source": [
    "## Splitting in training and testing sets for heating load"
   ]
  },
  {
   "cell_type": "code",
   "execution_count": 301,
   "metadata": {},
   "outputs": [],
   "source": [
    "X1_train,X1_test,y1_train,y1_test = train_test_split(X, Y1, test_size=0.2, random_state = 0 )"
   ]
  },
  {
   "cell_type": "markdown",
   "metadata": {},
   "source": [
    "## Splitting in training and testing sets for Cooling load"
   ]
  },
  {
   "cell_type": "code",
   "execution_count": 302,
   "metadata": {},
   "outputs": [],
   "source": [
    "X2_train,X2_test,y2_train,y2_test = train_test_split(X, Y2, test_size=0.2, random_state = 0)"
   ]
  },
  {
   "cell_type": "markdown",
   "metadata": {},
   "source": [
    "# Can we reduce data ???"
   ]
  },
  {
   "cell_type": "code",
   "execution_count": 303,
   "metadata": {},
   "outputs": [
    {
     "data": {
      "text/plain": [
       "array([0.76878787])"
      ]
     },
     "execution_count": 303,
     "metadata": {},
     "output_type": "execute_result"
    }
   ],
   "source": [
    "pca = PCA(n_components = 1)\n",
    "X_reduced = pca.fit_transform(X)\n",
    "pca.explained_variance_ratio_"
   ]
  },
  {
   "cell_type": "code",
   "execution_count": 304,
   "metadata": {},
   "outputs": [
    {
     "data": {
      "text/plain": [
       "array([0.87651375])"
      ]
     },
     "execution_count": 304,
     "metadata": {},
     "output_type": "execute_result"
    }
   ],
   "source": [
    "## Trying to reduce after normalizing\n",
    "X_norm = Normalizer().fit_transform(X)\n",
    "X_reduced = pca.fit_transform(X_norm)\n",
    "pca.explained_variance_ratio_"
   ]
  },
  {
   "cell_type": "markdown",
   "metadata": {},
   "source": [
    "###### still the variance explained is very less so we can not reduce the data"
   ]
  },
  {
   "cell_type": "markdown",
   "metadata": {},
   "source": [
    "# Model Fitting imputed Data"
   ]
  },
  {
   "cell_type": "markdown",
   "metadata": {},
   "source": [
    "# 1) KNN regressor"
   ]
  },
  {
   "cell_type": "markdown",
   "metadata": {},
   "source": [
    "###### for heating data"
   ]
  },
  {
   "cell_type": "code",
   "execution_count": 305,
   "metadata": {},
   "outputs": [],
   "source": [
    "from sklearn.model_selection import cross_val_score\n",
    "scores_knn=[]\n",
    "k_red1=[]\n",
    "for i in range(30):\n",
    "    regr_heat_KNN = KNN(n_neighbors = i+1)\n",
    "    scores1 = cross_val_score(regr_heat_KNN,X, Y1,cv=10)\n",
    "    scores_knn.append(scores1.mean())\n",
    "    k_red1.append(i+1)"
   ]
  },
  {
   "cell_type": "code",
   "execution_count": 306,
   "metadata": {},
   "outputs": [
    {
     "name": "stdout",
     "output_type": "stream",
     "text": [
      "Thus maximum Cross_val_score = 0.8549001303838498 is for k = 3 for heating load .\n"
     ]
    },
    {
     "data": {
      "image/png": "[encoded data removed]",
      "text/plain": [
       "<Figure size 432x288 with 1 Axes>"
      ]
     },
     "metadata": {
      "needs_background": "light"
     },
     "output_type": "display_data"
    }
   ],
   "source": [
    "plt.scatter(k_red1,scores_knn )\n",
    "plt.xlabel(\"K\")\n",
    "plt.ylabel(\"Cross_val_score\")\n",
    "plt.title(\"Cross_val_score vs K for heating load\")\n",
    "print(f'Thus maximum Cross_val_score = {scores_knn[scores_knn.index(np.max(scores_knn))]} is for k = {scores_knn.index(np.max(scores_knn)) + 1} for heating load .')"
   ]
  },
  {
   "cell_type": "markdown",
   "metadata": {},
   "source": [
    "###### For cooling data"
   ]
  },
  {
   "cell_type": "code",
   "execution_count": 308,
   "metadata": {},
   "outputs": [],
   "source": [
    "scores_knn1=[]\n",
    "k_red2=[]\n",
    "for i in range(30):\n",
    "    regr_cool_KNN = KNN(n_neighbors = i+1)\n",
    "    scores1 = cross_val_score(regr_cool_KNN,X, Y2,cv=10)\n",
    "    scores_knn1.append(scores1.mean())\n",
    "    k_red2.append(i+1)"
   ]
  },
  {
   "cell_type": "code",
   "execution_count": 309,
   "metadata": {},
   "outputs": [
    {
     "name": "stdout",
     "output_type": "stream",
     "text": [
      "Thus maximum Cross_val_score = 0.8960873927099087 is for k = 3 for cooling load .\n"
     ]
    },
    {
     "data": {
      "image/png": "[encoded data removed]",
      "text/plain": [
       "<Figure size 432x288 with 1 Axes>"
      ]
     },
     "metadata": {
      "needs_background": "light"
     },
     "output_type": "display_data"
    }
   ],
   "source": [
    "plt.scatter(k_red2,scores_knn1 )\n",
    "plt.xlabel(\"K\")\n",
    "plt.ylabel(\"Cross_val_score\")\n",
    "plt.title(\"Cross_val_score vs K for cooling load\")\n",
    "print(f'Thus maximum Cross_val_score = {scores_knn1[scores_knn1.index(np.max(scores_knn1)) ]} is for k = {scores_knn1.index(np.max(scores_knn1)) + 1} for cooling load .')"
   ]
  },
  {
   "cell_type": "code",
   "execution_count": 310,
   "metadata": {},
   "outputs": [
    {
     "data": {
      "text/plain": [
       "KNeighborsRegressor(algorithm='auto', leaf_size=30, metric='minkowski',\n",
       "                    metric_params=None, n_jobs=None, n_neighbors=3, p=2,\n",
       "                    weights='uniform')"
      ]
     },
     "execution_count": 310,
     "metadata": {},
     "output_type": "execute_result"
    }
   ],
   "source": [
    "# fitting KNN for both with optimum K\n",
    "Reg_heat_KNN = KNN(n_neighbors =scores_knn.index(np.max(scores_knn)) + 1)\n",
    "Reg_heat_KNN.fit(X1_train,y1_train)\n",
    "\n",
    "Reg_cool_KNN = KNN(n_neighbors = scores_knn.index(np.max(scores_knn)) + 1)\n",
    "Reg_cool_KNN.fit(X2_train,y2_train)"
   ]
  },
  {
   "cell_type": "markdown",
   "metadata": {},
   "source": [
    "###### Accuracy for both"
   ]
  },
  {
   "cell_type": "code",
   "execution_count": 313,
   "metadata": {},
   "outputs": [
    {
     "name": "stdout",
     "output_type": "stream",
     "text": [
      "Accuracy for heating data model is 0.8920060777732547\n",
      "Accuracy for cooling data model is 0.9179193677837663\n"
     ]
    }
   ],
   "source": [
    "print(f'Accuracy for heating data model is {Reg_heat_KNN.score(X1_test,y1_test)}')\n",
    "print(f'Accuracy for cooling data model is {Reg_cool_KNN.score(X2_test,y2_test)}')"
   ]
  },
  {
   "cell_type": "markdown",
   "metadata": {},
   "source": [
    "###### RMSE value"
   ]
  },
  {
   "cell_type": "code",
   "execution_count": 314,
   "metadata": {},
   "outputs": [
    {
     "name": "stdout",
     "output_type": "stream",
     "text": [
      "Heating RMSE: 3.4533123463735746\n",
      "Cooling RMSE: 2.7785143626571487\n"
     ]
    }
   ],
   "source": [
    "import math\n",
    "from sklearn.metrics import r2_score\n",
    "Y1_predict = Reg_heat_KNN.predict(X1_test)\n",
    "Y2_predict = Reg_cool_KNN.predict(X2_test)\n",
    "regression_model_mse_heat = mean_squared_error(y1_test,Y1_predict )\n",
    "regression_model_rmse_heat = math.sqrt(regression_model_mse_heat)\n",
    "regression_model_mse_cool = mean_squared_error( y2_test,Y2_predict )\n",
    "regression_model_rmse_cool = math.sqrt(regression_model_mse_cool)\n",
    "# Printing the RMSE values of test and train\n",
    "print(f'Heating RMSE: {regression_model_rmse_heat}')\n",
    "print(f'Cooling RMSE: {regression_model_rmse_cool}')"
   ]
  },
  {
   "cell_type": "markdown",
   "metadata": {},
   "source": [
    "###### r2_score"
   ]
  },
  {
   "cell_type": "code",
   "execution_count": 315,
   "metadata": {},
   "outputs": [
    {
     "name": "stdout",
     "output_type": "stream",
     "text": [
      "Heating r2_score: 0.8920060777732547\n",
      "Cooling r2_score: 0.9179193677837663\n"
     ]
    }
   ],
   "source": [
    "heat_r2 = r2_score(y1_test,Y1_predict)\n",
    "cool_r2 = r2_score(y2_test,Y2_predict)\n",
    "print(f'Heating r2_score: {heat_r2}')\n",
    "print(f'Cooling r2_score: {cool_r2}')"
   ]
  },
  {
   "cell_type": "markdown",
   "metadata": {},
   "source": [
    "###### Cross_val_score"
   ]
  },
  {
   "cell_type": "code",
   "execution_count": 316,
   "metadata": {},
   "outputs": [
    {
     "name": "stdout",
     "output_type": "stream",
     "text": [
      "Cross val score of KNN with Heating Load: 0.8488452584944302\n",
      "Cross val score of KNN with Cooling Load: 0.8666014306202905\n"
     ]
    }
   ],
   "source": [
    "# For heating load\n",
    "from sklearn.model_selection import cross_val_score\n",
    "Regr_heat_KNN = KNN(n_neighbors = 4)\n",
    "scores1 = cross_val_score(Regr_heat_KNN,X1_test, y1_test,cv=10)\n",
    "print(f'Cross val score of KNN with Heating Load: {scores1.mean()}')\n",
    "\n",
    "# For cooling load\n",
    "Regr_cool_KNN = KNN(n_neighbors = 4)\n",
    "scores2 = cross_val_score(Regr_cool_KNN,X2_test, y2_test,cv=10)\n",
    "print(f'Cross val score of KNN with Cooling Load: {scores2.mean()}')"
   ]
  },
  {
   "cell_type": "markdown",
   "metadata": {},
   "source": [
    "# 2) Decision Tree Regressor"
   ]
  },
  {
   "cell_type": "markdown",
   "metadata": {},
   "source": [
    "###### For heating data"
   ]
  },
  {
   "cell_type": "code",
   "execution_count": 317,
   "metadata": {},
   "outputs": [
    {
     "data": {
      "image/png": "[encoded data removed]",
      "text/plain": [
       "<Figure size 432x288 with 1 Axes>"
      ]
     },
     "metadata": {
      "needs_background": "light"
     },
     "output_type": "display_data"
    },
    {
     "name": "stdout",
     "output_type": "stream",
     "text": [
      "maximum accuracy is 0.9700568016312152 for depth with 12\n"
     ]
    }
   ],
   "source": [
    "#By changing the max_depth\n",
    "acu11 = []\n",
    "dep1 =[]\n",
    "for i in range(1,20):\n",
    "\n",
    "    reg_dt11 = DTR(max_depth=i)\n",
    "\n",
    "\n",
    "    reg_dt11 = reg_dt11.fit(X1_train,y1_train)\n",
    "\n",
    "    #Predict the response for test dataset\n",
    "    y11_pred = reg_dt11.predict(X1_test)\n",
    "    dep1.append(i)\n",
    "    acu11.append(r2(y1_test, y11_pred))\n",
    "plt.plot(dep1,acu11)\n",
    "plt.xlabel(\"Max-depth\")\n",
    "plt.ylabel(\"Accuracy\")\n",
    "plt.title(\"Max-Depth vs Accuracy for heating load\")\n",
    "plt.show()\n",
    "max_accu11 = np.max(acu11)\n",
    "index = acu11.index(max_accu11)\n",
    "print(f\"maximum accuracy is {max_accu11} for depth with {dep1[index]}\")"
   ]
  },
  {
   "cell_type": "code",
   "execution_count": 318,
   "metadata": {},
   "outputs": [
    {
     "data": {
      "text/plain": [
       "DecisionTreeRegressor(criterion='mse', max_depth=12, max_features=None,\n",
       "                      max_leaf_nodes=None, min_impurity_decrease=0.0,\n",
       "                      min_impurity_split=None, min_samples_leaf=1,\n",
       "                      min_samples_split=2, min_weight_fraction_leaf=0.0,\n",
       "                      presort=False, random_state=None, splitter='best')"
      ]
     },
     "execution_count": 318,
     "metadata": {},
     "output_type": "execute_result"
    }
   ],
   "source": [
    "# since maximum accuracy is with optimum depth\n",
    "Reg_heat_DTR = DTR(max_depth = dep1[index])\n",
    "Reg_heat_DTR.fit(X1_train,y1_train)"
   ]
  },
  {
   "cell_type": "markdown",
   "metadata": {},
   "source": [
    "###### For cooling data"
   ]
  },
  {
   "cell_type": "code",
   "execution_count": 319,
   "metadata": {},
   "outputs": [
    {
     "data": {
      "image/png": "[encoded data removed]",
      "text/plain": [
       "<Figure size 432x288 with 1 Axes>"
      ]
     },
     "metadata": {
      "needs_background": "light"
     },
     "output_type": "display_data"
    },
    {
     "name": "stdout",
     "output_type": "stream",
     "text": [
      "maximum accuracy is 0.9446250623049983 for split with 8\n"
     ]
    }
   ],
   "source": [
    "#By changing the max_depth\n",
    "acu21 = []\n",
    "dep2 =[]\n",
    "for i in range(1,20):\n",
    "\n",
    "    reg_dt11 = DTR(max_depth=i)\n",
    "\n",
    "\n",
    "    reg_dt11 = reg_dt11.fit(X2_train,y2_train)\n",
    "\n",
    "    #Predict the response for test dataset\n",
    "    y11_pred = reg_dt11.predict(X2_test)\n",
    "    dep2.append(i)\n",
    "    acu21.append(r2(y2_test, y11_pred))\n",
    "plt.plot(dep2,acu21)\n",
    "plt.xlabel(\"Max-depth\")\n",
    "plt.ylabel(\"Accuracy\")\n",
    "plt.title(\"Max-Depth vs Accuracy for heating load\")\n",
    "plt.show()\n",
    "max_accu11 = np.max(acu21)\n",
    "index = acu21.index(max_accu11)\n",
    "print(f\"maximum accuracy is {max_accu11} for split with {dep2[index]}\")"
   ]
  },
  {
   "cell_type": "code",
   "execution_count": 320,
   "metadata": {},
   "outputs": [
    {
     "data": {
      "text/plain": [
       "DecisionTreeRegressor(criterion='mse', max_depth=8, max_features=None,\n",
       "                      max_leaf_nodes=None, min_impurity_decrease=0.0,\n",
       "                      min_impurity_split=None, min_samples_leaf=1,\n",
       "                      min_samples_split=2, min_weight_fraction_leaf=0.0,\n",
       "                      presort=False, random_state=None, splitter='best')"
      ]
     },
     "execution_count": 320,
     "metadata": {},
     "output_type": "execute_result"
    }
   ],
   "source": [
    "# since maximum accuracy is with optimum depth\n",
    "Reg_cool_DTR = DTR(max_depth = dep2[index])\n",
    "Reg_cool_DTR.fit(X2_train,y2_train)"
   ]
  },
  {
   "cell_type": "markdown",
   "metadata": {},
   "source": [
    "###### Accuracy for both"
   ]
  },
  {
   "cell_type": "code",
   "execution_count": 321,
   "metadata": {},
   "outputs": [
    {
     "name": "stdout",
     "output_type": "stream",
     "text": [
      "Accuracy for heating data model is 0.9631390755153755\n",
      "Accuracy for cooling data model is 0.9371064772227665\n"
     ]
    }
   ],
   "source": [
    "print(f'Accuracy for heating data model is {Reg_heat_DTR.score(X1_test,y1_test)}')\n",
    "print(f'Accuracy for cooling data model is {Reg_cool_DTR.score(X2_test,y2_test)}')"
   ]
  },
  {
   "cell_type": "markdown",
   "metadata": {},
   "source": [
    "###### RMSE value"
   ]
  },
  {
   "cell_type": "code",
   "execution_count": 322,
   "metadata": {},
   "outputs": [
    {
     "name": "stdout",
     "output_type": "stream",
     "text": [
      "Heating RMSE: 2.0175268151664865\n",
      "Cooling RMSE: 2.432177464314123\n"
     ]
    }
   ],
   "source": [
    "Y1_predict = Reg_heat_DTR.predict(X1_test)\n",
    "Y2_predict = Reg_cool_DTR.predict(X2_test)\n",
    "regression_model_mse_heat = mean_squared_error(y1_test,Y1_predict )\n",
    "regression_model_rmse_heat = math.sqrt(regression_model_mse_heat)\n",
    "regression_model_mse_cool = mean_squared_error( y2_test,Y2_predict )\n",
    "regression_model_rmse_cool = math.sqrt(regression_model_mse_cool)\n",
    "# Printing the RMSE values of test and train\n",
    "print(f'Heating RMSE: {regression_model_rmse_heat}')\n",
    "print(f'Cooling RMSE: {regression_model_rmse_cool}')"
   ]
  },
  {
   "cell_type": "markdown",
   "metadata": {},
   "source": [
    "###### r2_score"
   ]
  },
  {
   "cell_type": "code",
   "execution_count": 323,
   "metadata": {},
   "outputs": [
    {
     "name": "stdout",
     "output_type": "stream",
     "text": [
      "Heating r2_score: 0.9631390755153755\n",
      "Cooling r2_score: 0.9371064772227665\n"
     ]
    }
   ],
   "source": [
    "heat_r2 = r2_score(y1_test,Y1_predict)\n",
    "cool_r2 = r2_score(y2_test,Y2_predict)\n",
    "print(f'Heating r2_score: {heat_r2}')\n",
    "print(f'Cooling r2_score: {cool_r2}')"
   ]
  },
  {
   "cell_type": "markdown",
   "metadata": {},
   "source": [
    "# 3) Random Forest Regressor"
   ]
  },
  {
   "cell_type": "markdown",
   "metadata": {},
   "source": [
    "###### For heating data"
   ]
  },
  {
   "cell_type": "code",
   "execution_count": 324,
   "metadata": {},
   "outputs": [
    {
     "name": "stderr",
     "output_type": "stream",
     "text": [
      "C:\\Users\\hp\\Anaconda3\\lib\\site-packages\\sklearn\\ensemble\\forest.py:245: FutureWarning: The default value of n_estimators will change from 10 in version 0.20 to 100 in 0.22.\n",
      "  \"10 in version 0.20 to 100 in 0.22.\", FutureWarning)\n",
      "C:\\Users\\hp\\Anaconda3\\lib\\site-packages\\sklearn\\ensemble\\forest.py:245: FutureWarning: The default value of n_estimators will change from 10 in version 0.20 to 100 in 0.22.\n",
      "  \"10 in version 0.20 to 100 in 0.22.\", FutureWarning)\n",
      "C:\\Users\\hp\\Anaconda3\\lib\\site-packages\\sklearn\\ensemble\\forest.py:245: FutureWarning: The default value of n_estimators will change from 10 in version 0.20 to 100 in 0.22.\n",
      "  \"10 in version 0.20 to 100 in 0.22.\", FutureWarning)\n",
      "C:\\Users\\hp\\Anaconda3\\lib\\site-packages\\sklearn\\ensemble\\forest.py:245: FutureWarning: The default value of n_estimators will change from 10 in version 0.20 to 100 in 0.22.\n",
      "  \"10 in version 0.20 to 100 in 0.22.\", FutureWarning)\n",
      "C:\\Users\\hp\\Anaconda3\\lib\\site-packages\\sklearn\\ensemble\\forest.py:245: FutureWarning: The default value of n_estimators will change from 10 in version 0.20 to 100 in 0.22.\n",
      "  \"10 in version 0.20 to 100 in 0.22.\", FutureWarning)\n",
      "C:\\Users\\hp\\Anaconda3\\lib\\site-packages\\sklearn\\ensemble\\forest.py:245: FutureWarning: The default value of n_estimators will change from 10 in version 0.20 to 100 in 0.22.\n",
      "  \"10 in version 0.20 to 100 in 0.22.\", FutureWarning)\n",
      "C:\\Users\\hp\\Anaconda3\\lib\\site-packages\\sklearn\\ensemble\\forest.py:245: FutureWarning: The default value of n_estimators will change from 10 in version 0.20 to 100 in 0.22.\n",
      "  \"10 in version 0.20 to 100 in 0.22.\", FutureWarning)\n",
      "C:\\Users\\hp\\Anaconda3\\lib\\site-packages\\sklearn\\ensemble\\forest.py:245: FutureWarning: The default value of n_estimators will change from 10 in version 0.20 to 100 in 0.22.\n",
      "  \"10 in version 0.20 to 100 in 0.22.\", FutureWarning)\n",
      "C:\\Users\\hp\\Anaconda3\\lib\\site-packages\\sklearn\\ensemble\\forest.py:245: FutureWarning: The default value of n_estimators will change from 10 in version 0.20 to 100 in 0.22.\n",
      "  \"10 in version 0.20 to 100 in 0.22.\", FutureWarning)\n",
      "C:\\Users\\hp\\Anaconda3\\lib\\site-packages\\sklearn\\ensemble\\forest.py:245: FutureWarning: The default value of n_estimators will change from 10 in version 0.20 to 100 in 0.22.\n",
      "  \"10 in version 0.20 to 100 in 0.22.\", FutureWarning)\n",
      "C:\\Users\\hp\\Anaconda3\\lib\\site-packages\\sklearn\\ensemble\\forest.py:245: FutureWarning: The default value of n_estimators will change from 10 in version 0.20 to 100 in 0.22.\n",
      "  \"10 in version 0.20 to 100 in 0.22.\", FutureWarning)\n",
      "C:\\Users\\hp\\Anaconda3\\lib\\site-packages\\sklearn\\ensemble\\forest.py:245: FutureWarning: The default value of n_estimators will change from 10 in version 0.20 to 100 in 0.22.\n",
      "  \"10 in version 0.20 to 100 in 0.22.\", FutureWarning)\n",
      "C:\\Users\\hp\\Anaconda3\\lib\\site-packages\\sklearn\\ensemble\\forest.py:245: FutureWarning: The default value of n_estimators will change from 10 in version 0.20 to 100 in 0.22.\n",
      "  \"10 in version 0.20 to 100 in 0.22.\", FutureWarning)\n",
      "C:\\Users\\hp\\Anaconda3\\lib\\site-packages\\sklearn\\ensemble\\forest.py:245: FutureWarning: The default value of n_estimators will change from 10 in version 0.20 to 100 in 0.22.\n",
      "  \"10 in version 0.20 to 100 in 0.22.\", FutureWarning)\n",
      "C:\\Users\\hp\\Anaconda3\\lib\\site-packages\\sklearn\\ensemble\\forest.py:245: FutureWarning: The default value of n_estimators will change from 10 in version 0.20 to 100 in 0.22.\n",
      "  \"10 in version 0.20 to 100 in 0.22.\", FutureWarning)\n",
      "C:\\Users\\hp\\Anaconda3\\lib\\site-packages\\sklearn\\ensemble\\forest.py:245: FutureWarning: The default value of n_estimators will change from 10 in version 0.20 to 100 in 0.22.\n",
      "  \"10 in version 0.20 to 100 in 0.22.\", FutureWarning)\n",
      "C:\\Users\\hp\\Anaconda3\\lib\\site-packages\\sklearn\\ensemble\\forest.py:245: FutureWarning: The default value of n_estimators will change from 10 in version 0.20 to 100 in 0.22.\n",
      "  \"10 in version 0.20 to 100 in 0.22.\", FutureWarning)\n",
      "C:\\Users\\hp\\Anaconda3\\lib\\site-packages\\sklearn\\ensemble\\forest.py:245: FutureWarning: The default value of n_estimators will change from 10 in version 0.20 to 100 in 0.22.\n",
      "  \"10 in version 0.20 to 100 in 0.22.\", FutureWarning)\n",
      "C:\\Users\\hp\\Anaconda3\\lib\\site-packages\\sklearn\\ensemble\\forest.py:245: FutureWarning: The default value of n_estimators will change from 10 in version 0.20 to 100 in 0.22.\n",
      "  \"10 in version 0.20 to 100 in 0.22.\", FutureWarning)\n"
     ]
    },
    {
     "data": {
      "image/png": "[encoded data removed]",
      "text/plain": [
       "<Figure size 432x288 with 1 Axes>"
      ]
     },
     "metadata": {
      "needs_background": "light"
     },
     "output_type": "display_data"
    },
    {
     "name": "stdout",
     "output_type": "stream",
     "text": [
      "maximum accuracy is 0.9871652105134492 for split with 14\n"
     ]
    }
   ],
   "source": [
    "#By changing the max_depth\n",
    "acu11 = []\n",
    "dep1 =[]\n",
    "for i in range(1,20):\n",
    "\n",
    "    reg_dt11 = RFR(max_depth=i)\n",
    "\n",
    "\n",
    "    reg_dt11 = reg_dt11.fit(X1_train,y1_train)\n",
    "\n",
    "    #Predict the response for test dataset\n",
    "    y11_pred = reg_dt11.predict(X1_test)\n",
    "    dep1.append(i)\n",
    "    acu11.append(r2(y1_test, y11_pred))\n",
    "plt.plot(dep1,acu11)\n",
    "plt.xlabel(\"Max-depth\")\n",
    "plt.ylabel(\"Accuracy\")\n",
    "plt.title(\"Max-Depth vs Accuracy for heating load\")\n",
    "plt.show()\n",
    "max_accu11 = np.max(acu11)\n",
    "index = acu11.index(max_accu11)\n",
    "print(f\"maximum accuracy is {max_accu11} for split with {dep1[index]}\")"
   ]
  },
  {
   "cell_type": "code",
   "execution_count": 325,
   "metadata": {},
   "outputs": [
    {
     "name": "stderr",
     "output_type": "stream",
     "text": [
      "C:\\Users\\hp\\Anaconda3\\lib\\site-packages\\sklearn\\ensemble\\forest.py:245: FutureWarning: The default value of n_estimators will change from 10 in version 0.20 to 100 in 0.22.\n",
      "  \"10 in version 0.20 to 100 in 0.22.\", FutureWarning)\n"
     ]
    },
    {
     "data": {
      "text/plain": [
       "RandomForestRegressor(bootstrap=True, criterion='mse', max_depth=14,\n",
       "                      max_features='auto', max_leaf_nodes=None,\n",
       "                      min_impurity_decrease=0.0, min_impurity_split=None,\n",
       "                      min_samples_leaf=1, min_samples_split=2,\n",
       "                      min_weight_fraction_leaf=0.0, n_estimators=10,\n",
       "                      n_jobs=None, oob_score=False, random_state=None,\n",
       "                      verbose=0, warm_start=False)"
      ]
     },
     "execution_count": 325,
     "metadata": {},
     "output_type": "execute_result"
    }
   ],
   "source": [
    "Reg_heat_RFR = RFR(max_depth = dep1[index])\n",
    "Reg_heat_RFR.fit(X1_train,y1_train)"
   ]
  },
  {
   "cell_type": "markdown",
   "metadata": {},
   "source": [
    "###### For cooling data"
   ]
  },
  {
   "cell_type": "code",
   "execution_count": 326,
   "metadata": {},
   "outputs": [
    {
     "name": "stderr",
     "output_type": "stream",
     "text": [
      "C:\\Users\\hp\\Anaconda3\\lib\\site-packages\\sklearn\\ensemble\\forest.py:245: FutureWarning: The default value of n_estimators will change from 10 in version 0.20 to 100 in 0.22.\n",
      "  \"10 in version 0.20 to 100 in 0.22.\", FutureWarning)\n",
      "C:\\Users\\hp\\Anaconda3\\lib\\site-packages\\sklearn\\ensemble\\forest.py:245: FutureWarning: The default value of n_estimators will change from 10 in version 0.20 to 100 in 0.22.\n",
      "  \"10 in version 0.20 to 100 in 0.22.\", FutureWarning)\n",
      "C:\\Users\\hp\\Anaconda3\\lib\\site-packages\\sklearn\\ensemble\\forest.py:245: FutureWarning: The default value of n_estimators will change from 10 in version 0.20 to 100 in 0.22.\n",
      "  \"10 in version 0.20 to 100 in 0.22.\", FutureWarning)\n",
      "C:\\Users\\hp\\Anaconda3\\lib\\site-packages\\sklearn\\ensemble\\forest.py:245: FutureWarning: The default value of n_estimators will change from 10 in version 0.20 to 100 in 0.22.\n",
      "  \"10 in version 0.20 to 100 in 0.22.\", FutureWarning)\n",
      "C:\\Users\\hp\\Anaconda3\\lib\\site-packages\\sklearn\\ensemble\\forest.py:245: FutureWarning: The default value of n_estimators will change from 10 in version 0.20 to 100 in 0.22.\n",
      "  \"10 in version 0.20 to 100 in 0.22.\", FutureWarning)\n",
      "C:\\Users\\hp\\Anaconda3\\lib\\site-packages\\sklearn\\ensemble\\forest.py:245: FutureWarning: The default value of n_estimators will change from 10 in version 0.20 to 100 in 0.22.\n",
      "  \"10 in version 0.20 to 100 in 0.22.\", FutureWarning)\n",
      "C:\\Users\\hp\\Anaconda3\\lib\\site-packages\\sklearn\\ensemble\\forest.py:245: FutureWarning: The default value of n_estimators will change from 10 in version 0.20 to 100 in 0.22.\n",
      "  \"10 in version 0.20 to 100 in 0.22.\", FutureWarning)\n",
      "C:\\Users\\hp\\Anaconda3\\lib\\site-packages\\sklearn\\ensemble\\forest.py:245: FutureWarning: The default value of n_estimators will change from 10 in version 0.20 to 100 in 0.22.\n",
      "  \"10 in version 0.20 to 100 in 0.22.\", FutureWarning)\n",
      "C:\\Users\\hp\\Anaconda3\\lib\\site-packages\\sklearn\\ensemble\\forest.py:245: FutureWarning: The default value of n_estimators will change from 10 in version 0.20 to 100 in 0.22.\n",
      "  \"10 in version 0.20 to 100 in 0.22.\", FutureWarning)\n",
      "C:\\Users\\hp\\Anaconda3\\lib\\site-packages\\sklearn\\ensemble\\forest.py:245: FutureWarning: The default value of n_estimators will change from 10 in version 0.20 to 100 in 0.22.\n",
      "  \"10 in version 0.20 to 100 in 0.22.\", FutureWarning)\n",
      "C:\\Users\\hp\\Anaconda3\\lib\\site-packages\\sklearn\\ensemble\\forest.py:245: FutureWarning: The default value of n_estimators will change from 10 in version 0.20 to 100 in 0.22.\n",
      "  \"10 in version 0.20 to 100 in 0.22.\", FutureWarning)\n",
      "C:\\Users\\hp\\Anaconda3\\lib\\site-packages\\sklearn\\ensemble\\forest.py:245: FutureWarning: The default value of n_estimators will change from 10 in version 0.20 to 100 in 0.22.\n",
      "  \"10 in version 0.20 to 100 in 0.22.\", FutureWarning)\n",
      "C:\\Users\\hp\\Anaconda3\\lib\\site-packages\\sklearn\\ensemble\\forest.py:245: FutureWarning: The default value of n_estimators will change from 10 in version 0.20 to 100 in 0.22.\n",
      "  \"10 in version 0.20 to 100 in 0.22.\", FutureWarning)\n",
      "C:\\Users\\hp\\Anaconda3\\lib\\site-packages\\sklearn\\ensemble\\forest.py:245: FutureWarning: The default value of n_estimators will change from 10 in version 0.20 to 100 in 0.22.\n",
      "  \"10 in version 0.20 to 100 in 0.22.\", FutureWarning)\n",
      "C:\\Users\\hp\\Anaconda3\\lib\\site-packages\\sklearn\\ensemble\\forest.py:245: FutureWarning: The default value of n_estimators will change from 10 in version 0.20 to 100 in 0.22.\n",
      "  \"10 in version 0.20 to 100 in 0.22.\", FutureWarning)\n",
      "C:\\Users\\hp\\Anaconda3\\lib\\site-packages\\sklearn\\ensemble\\forest.py:245: FutureWarning: The default value of n_estimators will change from 10 in version 0.20 to 100 in 0.22.\n",
      "  \"10 in version 0.20 to 100 in 0.22.\", FutureWarning)\n",
      "C:\\Users\\hp\\Anaconda3\\lib\\site-packages\\sklearn\\ensemble\\forest.py:245: FutureWarning: The default value of n_estimators will change from 10 in version 0.20 to 100 in 0.22.\n",
      "  \"10 in version 0.20 to 100 in 0.22.\", FutureWarning)\n",
      "C:\\Users\\hp\\Anaconda3\\lib\\site-packages\\sklearn\\ensemble\\forest.py:245: FutureWarning: The default value of n_estimators will change from 10 in version 0.20 to 100 in 0.22.\n",
      "  \"10 in version 0.20 to 100 in 0.22.\", FutureWarning)\n",
      "C:\\Users\\hp\\Anaconda3\\lib\\site-packages\\sklearn\\ensemble\\forest.py:245: FutureWarning: The default value of n_estimators will change from 10 in version 0.20 to 100 in 0.22.\n",
      "  \"10 in version 0.20 to 100 in 0.22.\", FutureWarning)\n"
     ]
    },
    {
     "data": {
      "image/png": "[encoded data removed]",
      "text/plain": [
       "<Figure size 432x288 with 1 Axes>"
      ]
     },
     "metadata": {
      "needs_background": "light"
     },
     "output_type": "display_data"
    },
    {
     "name": "stdout",
     "output_type": "stream",
     "text": [
      "maximum accuracy is 0.9645332423022134 for split with 14\n"
     ]
    }
   ],
   "source": [
    "#By changing the max_depth\n",
    "acu21 = []\n",
    "dep2 =[]\n",
    "for i in range(1,20):\n",
    "\n",
    "    reg_dt11 = RFR(max_depth=i)\n",
    "\n",
    "\n",
    "    reg_dt11 = reg_dt11.fit(X2_train,y2_train)\n",
    "\n",
    "    #Predict the response for test dataset\n",
    "    y11_pred = reg_dt11.predict(X2_test)\n",
    "    dep2.append(i)\n",
    "    acu21.append(r2(y2_test, y11_pred))\n",
    "plt.plot(dep2,acu21)\n",
    "plt.xlabel(\"Max-depth\")\n",
    "plt.ylabel(\"Accuracy\")\n",
    "plt.title(\"Max-Depth vs Accuracy for heating load\")\n",
    "plt.show()\n",
    "max_accu11 = np.max(acu21)\n",
    "index = acu21.index(max_accu11)\n",
    "print(f\"maximum accuracy is {max_accu11} for split with {dep2[index]}\")"
   ]
  },
  {
   "cell_type": "code",
   "execution_count": 327,
   "metadata": {},
   "outputs": [
    {
     "name": "stderr",
     "output_type": "stream",
     "text": [
      "C:\\Users\\hp\\Anaconda3\\lib\\site-packages\\sklearn\\ensemble\\forest.py:245: FutureWarning: The default value of n_estimators will change from 10 in version 0.20 to 100 in 0.22.\n",
      "  \"10 in version 0.20 to 100 in 0.22.\", FutureWarning)\n"
     ]
    },
    {
     "data": {
      "text/plain": [
       "RandomForestRegressor(bootstrap=True, criterion='mse', max_depth=14,\n",
       "                      max_features='auto', max_leaf_nodes=None,\n",
       "                      min_impurity_decrease=0.0, min_impurity_split=None,\n",
       "                      min_samples_leaf=1, min_samples_split=2,\n",
       "                      min_weight_fraction_leaf=0.0, n_estimators=10,\n",
       "                      n_jobs=None, oob_score=False, random_state=None,\n",
       "                      verbose=0, warm_start=False)"
      ]
     },
     "execution_count": 327,
     "metadata": {},
     "output_type": "execute_result"
    }
   ],
   "source": [
    "Reg_cool_RFR = RFR(max_depth = dep2[index])\n",
    "Reg_cool_RFR.fit(X2_train,y2_train)"
   ]
  },
  {
   "cell_type": "markdown",
   "metadata": {},
   "source": [
    "###### Accuracy for both"
   ]
  },
  {
   "cell_type": "code",
   "execution_count": 328,
   "metadata": {},
   "outputs": [
    {
     "name": "stdout",
     "output_type": "stream",
     "text": [
      "Accuracy for heating data model is 0.9803855760870019\n",
      "Accuracy for cooling data model is 0.9557890181983442\n"
     ]
    }
   ],
   "source": [
    "print(f'Accuracy for heating data model is {Reg_heat_RFR.score(X1_test,y1_test)}')\n",
    "print(f'Accuracy for cooling data model is {Reg_cool_RFR.score(X2_test,y2_test)}')"
   ]
  },
  {
   "cell_type": "markdown",
   "metadata": {},
   "source": [
    "###### RMSE value"
   ]
  },
  {
   "cell_type": "code",
   "execution_count": 329,
   "metadata": {},
   "outputs": [
    {
     "name": "stdout",
     "output_type": "stream",
     "text": [
      "Heating RMSE: 1.47171590250673\n",
      "Cooling RMSE: 2.039188528672368\n"
     ]
    }
   ],
   "source": [
    "Y1_predict = Reg_heat_RFR.predict(X1_test)\n",
    "Y2_predict = Reg_cool_RFR.predict(X2_test)\n",
    "regression_model_mse_heat = mean_squared_error(y1_test,Y1_predict )\n",
    "regression_model_rmse_heat = math.sqrt(regression_model_mse_heat)\n",
    "regression_model_mse_cool = mean_squared_error( y2_test,Y2_predict )\n",
    "regression_model_rmse_cool = math.sqrt(regression_model_mse_cool)\n",
    "# Printing the RMSE values of test and train\n",
    "print(f'Heating RMSE: {regression_model_rmse_heat}')\n",
    "print(f'Cooling RMSE: {regression_model_rmse_cool}')"
   ]
  },
  {
   "cell_type": "markdown",
   "metadata": {},
   "source": [
    "###### r2_score"
   ]
  },
  {
   "cell_type": "code",
   "execution_count": 330,
   "metadata": {},
   "outputs": [
    {
     "name": "stdout",
     "output_type": "stream",
     "text": [
      "Heating r2_score: 0.9803855760870019\n",
      "Cooling r2_score: 0.9557890181983442\n"
     ]
    }
   ],
   "source": [
    "heat_r2 = r2_score(y1_test,Y1_predict)\n",
    "cool_r2 = r2_score(y2_test,Y2_predict)\n",
    "print(f'Heating r2_score: {heat_r2}')\n",
    "print(f'Cooling r2_score: {cool_r2}')"
   ]
  }
 ],
 "metadata": {
  "kernelspec": {
   "display_name": "Python 3",
   "language": "python",
   "name": "python3"
  },
  "language_info": {
   "codemirror_mode": {
    "name": "ipython",
    "version": 3
   },
   "file_extension": ".py",
   "mimetype": "text/x-python",
   "name": "python",
   "nbconvert_exporter": "python",
   "pygments_lexer": "ipython3",
   "version": "3.7.3"
  }
 },
 "nbformat": 4,
 "nbformat_minor": 2
}
