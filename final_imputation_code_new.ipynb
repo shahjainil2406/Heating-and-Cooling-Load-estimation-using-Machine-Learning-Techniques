{
 "cells": [
  {
   "cell_type": "code",
   "execution_count": 1,
   "metadata": {},
   "outputs": [],
   "source": [
    "import numpy as np\n",
    "import pandas as pd\n",
    "import matplotlib.pyplot as plt\n",
    "import statsmodels.api as sm \n",
    "import seaborn as sns\n",
    "from sklearn.metrics import accuracy_score as asc"
   ]
  },
  {
   "cell_type": "code",
   "execution_count": 2,
   "metadata": {},
   "outputs": [],
   "source": [
    "df_ori = pd.read_excel(\"ENB2012_data.xlsx\")\n",
    "Y1 = df_ori.iloc[:,8].values  # Y1 is heating load\n",
    "Y2 = df_ori.iloc[:,9].values  # Y2 is cooling load\n",
    "X = df_ori.iloc[:,[1, 2, 3, 4, 5, 6, 7]].values "
   ]
  },
  {
   "cell_type": "code",
   "execution_count": 3,
   "metadata": {},
   "outputs": [
    {
     "data": {
      "text/html": [
       "<div>\n",
       "<style scoped>\n",
       "    .dataframe tbody tr th:only-of-type {\n",
       "        vertical-align: middle;\n",
       "    }\n",
       "\n",
       "    .dataframe tbody tr th {\n",
       "        vertical-align: top;\n",
       "    }\n",
       "\n",
       "    .dataframe thead th {\n",
       "        text-align: right;\n",
       "    }\n",
       "</style>\n",
       "<table border=\"1\" class=\"dataframe\">\n",
       "  <thead>\n",
       "    <tr style=\"text-align: right;\">\n",
       "      <th></th>\n",
       "      <th>X1</th>\n",
       "      <th>X2</th>\n",
       "      <th>X3</th>\n",
       "      <th>X4</th>\n",
       "      <th>X5</th>\n",
       "      <th>X6</th>\n",
       "      <th>X7</th>\n",
       "      <th>X8</th>\n",
       "      <th>Y1</th>\n",
       "      <th>Y2</th>\n",
       "    </tr>\n",
       "  </thead>\n",
       "  <tbody>\n",
       "    <tr>\n",
       "      <th>X1</th>\n",
       "      <td>1.000000e+00</td>\n",
       "      <td>-9.919015e-01</td>\n",
       "      <td>-2.037817e-01</td>\n",
       "      <td>-8.688234e-01</td>\n",
       "      <td>8.277473e-01</td>\n",
       "      <td>0.000000</td>\n",
       "      <td>1.283986e-17</td>\n",
       "      <td>1.764620e-17</td>\n",
       "      <td>0.622272</td>\n",
       "      <td>0.634339</td>\n",
       "    </tr>\n",
       "    <tr>\n",
       "      <th>X2</th>\n",
       "      <td>-9.919015e-01</td>\n",
       "      <td>1.000000e+00</td>\n",
       "      <td>1.955016e-01</td>\n",
       "      <td>8.807195e-01</td>\n",
       "      <td>-8.581477e-01</td>\n",
       "      <td>0.000000</td>\n",
       "      <td>1.318356e-16</td>\n",
       "      <td>-3.558613e-16</td>\n",
       "      <td>-0.658120</td>\n",
       "      <td>-0.672999</td>\n",
       "    </tr>\n",
       "    <tr>\n",
       "      <th>X3</th>\n",
       "      <td>-2.037817e-01</td>\n",
       "      <td>1.955016e-01</td>\n",
       "      <td>1.000000e+00</td>\n",
       "      <td>-2.923165e-01</td>\n",
       "      <td>2.809757e-01</td>\n",
       "      <td>0.000000</td>\n",
       "      <td>-7.969726e-19</td>\n",
       "      <td>0.000000e+00</td>\n",
       "      <td>0.455671</td>\n",
       "      <td>0.427117</td>\n",
       "    </tr>\n",
       "    <tr>\n",
       "      <th>X4</th>\n",
       "      <td>-8.688234e-01</td>\n",
       "      <td>8.807195e-01</td>\n",
       "      <td>-2.923165e-01</td>\n",
       "      <td>1.000000e+00</td>\n",
       "      <td>-9.725122e-01</td>\n",
       "      <td>0.000000</td>\n",
       "      <td>-1.381805e-16</td>\n",
       "      <td>-1.079129e-16</td>\n",
       "      <td>-0.861828</td>\n",
       "      <td>-0.862547</td>\n",
       "    </tr>\n",
       "    <tr>\n",
       "      <th>X5</th>\n",
       "      <td>8.277473e-01</td>\n",
       "      <td>-8.581477e-01</td>\n",
       "      <td>2.809757e-01</td>\n",
       "      <td>-9.725122e-01</td>\n",
       "      <td>1.000000e+00</td>\n",
       "      <td>0.000000</td>\n",
       "      <td>1.861418e-18</td>\n",
       "      <td>0.000000e+00</td>\n",
       "      <td>0.889430</td>\n",
       "      <td>0.895785</td>\n",
       "    </tr>\n",
       "    <tr>\n",
       "      <th>X6</th>\n",
       "      <td>0.000000e+00</td>\n",
       "      <td>0.000000e+00</td>\n",
       "      <td>0.000000e+00</td>\n",
       "      <td>0.000000e+00</td>\n",
       "      <td>0.000000e+00</td>\n",
       "      <td>1.000000</td>\n",
       "      <td>0.000000e+00</td>\n",
       "      <td>0.000000e+00</td>\n",
       "      <td>-0.002587</td>\n",
       "      <td>0.014290</td>\n",
       "    </tr>\n",
       "    <tr>\n",
       "      <th>X7</th>\n",
       "      <td>1.283986e-17</td>\n",
       "      <td>1.318356e-16</td>\n",
       "      <td>-7.969726e-19</td>\n",
       "      <td>-1.381805e-16</td>\n",
       "      <td>1.861418e-18</td>\n",
       "      <td>0.000000</td>\n",
       "      <td>1.000000e+00</td>\n",
       "      <td>2.129642e-01</td>\n",
       "      <td>0.269842</td>\n",
       "      <td>0.207505</td>\n",
       "    </tr>\n",
       "    <tr>\n",
       "      <th>X8</th>\n",
       "      <td>1.764620e-17</td>\n",
       "      <td>-3.558613e-16</td>\n",
       "      <td>0.000000e+00</td>\n",
       "      <td>-1.079129e-16</td>\n",
       "      <td>0.000000e+00</td>\n",
       "      <td>0.000000</td>\n",
       "      <td>2.129642e-01</td>\n",
       "      <td>1.000000e+00</td>\n",
       "      <td>0.087368</td>\n",
       "      <td>0.050525</td>\n",
       "    </tr>\n",
       "    <tr>\n",
       "      <th>Y1</th>\n",
       "      <td>6.222719e-01</td>\n",
       "      <td>-6.581199e-01</td>\n",
       "      <td>4.556714e-01</td>\n",
       "      <td>-8.618281e-01</td>\n",
       "      <td>8.894305e-01</td>\n",
       "      <td>-0.002587</td>\n",
       "      <td>2.698417e-01</td>\n",
       "      <td>8.736846e-02</td>\n",
       "      <td>1.000000</td>\n",
       "      <td>0.975862</td>\n",
       "    </tr>\n",
       "    <tr>\n",
       "      <th>Y2</th>\n",
       "      <td>6.343391e-01</td>\n",
       "      <td>-6.729989e-01</td>\n",
       "      <td>4.271170e-01</td>\n",
       "      <td>-8.625466e-01</td>\n",
       "      <td>8.957852e-01</td>\n",
       "      <td>0.014290</td>\n",
       "      <td>2.075050e-01</td>\n",
       "      <td>5.052512e-02</td>\n",
       "      <td>0.975862</td>\n",
       "      <td>1.000000</td>\n",
       "    </tr>\n",
       "  </tbody>\n",
       "</table>\n",
       "</div>"
      ],
      "text/plain": [
       "              X1            X2            X3            X4            X5  \\\n",
       "X1  1.000000e+00 -9.919015e-01 -2.037817e-01 -8.688234e-01  8.277473e-01   \n",
       "X2 -9.919015e-01  1.000000e+00  1.955016e-01  8.807195e-01 -8.581477e-01   \n",
       "X3 -2.037817e-01  1.955016e-01  1.000000e+00 -2.923165e-01  2.809757e-01   \n",
       "X4 -8.688234e-01  8.807195e-01 -2.923165e-01  1.000000e+00 -9.725122e-01   \n",
       "X5  8.277473e-01 -8.581477e-01  2.809757e-01 -9.725122e-01  1.000000e+00   \n",
       "X6  0.000000e+00  0.000000e+00  0.000000e+00  0.000000e+00  0.000000e+00   \n",
       "X7  1.283986e-17  1.318356e-16 -7.969726e-19 -1.381805e-16  1.861418e-18   \n",
       "X8  1.764620e-17 -3.558613e-16  0.000000e+00 -1.079129e-16  0.000000e+00   \n",
       "Y1  6.222719e-01 -6.581199e-01  4.556714e-01 -8.618281e-01  8.894305e-01   \n",
       "Y2  6.343391e-01 -6.729989e-01  4.271170e-01 -8.625466e-01  8.957852e-01   \n",
       "\n",
       "          X6            X7            X8        Y1        Y2  \n",
       "X1  0.000000  1.283986e-17  1.764620e-17  0.622272  0.634339  \n",
       "X2  0.000000  1.318356e-16 -3.558613e-16 -0.658120 -0.672999  \n",
       "X3  0.000000 -7.969726e-19  0.000000e+00  0.455671  0.427117  \n",
       "X4  0.000000 -1.381805e-16 -1.079129e-16 -0.861828 -0.862547  \n",
       "X5  0.000000  1.861418e-18  0.000000e+00  0.889430  0.895785  \n",
       "X6  1.000000  0.000000e+00  0.000000e+00 -0.002587  0.014290  \n",
       "X7  0.000000  1.000000e+00  2.129642e-01  0.269842  0.207505  \n",
       "X8  0.000000  2.129642e-01  1.000000e+00  0.087368  0.050525  \n",
       "Y1 -0.002587  2.698417e-01  8.736846e-02  1.000000  0.975862  \n",
       "Y2  0.014290  2.075050e-01  5.052512e-02  0.975862  1.000000  "
      ]
     },
     "metadata": {},
     "output_type": "display_data"
    },
    {
     "data": {
      "text/plain": [
       "<matplotlib.axes._subplots.AxesSubplot at 0x58abe93128>"
      ]
     },
     "execution_count": 3,
     "metadata": {},
     "output_type": "execute_result"
    },
    {
     "data": {
      "image/png": "[encoded data removed]",
      "text/plain": [
       "<Figure size 432x288 with 2 Axes>"
      ]
     },
     "metadata": {
      "needs_background": "light"
     },
     "output_type": "display_data"
    }
   ],
   "source": [
    "corrmat = df_ori.corr()\n",
    "# to find the correlation matrix for features only\n",
    "display(corrmat)\n",
    "\n",
    "# also we can find the heatmap to get better visual idea\n",
    "sns.heatmap(corrmat, xticklabels = corrmat.columns, yticklabels = corrmat.columns, cmap = 'RdBu')"
   ]
  },
  {
   "cell_type": "markdown",
   "metadata": {},
   "source": [
    "# Knocking out 10% of the data"
   ]
  },
  {
   "cell_type": "code",
   "execution_count": 4,
   "metadata": {},
   "outputs": [],
   "source": [
    "# we have used if else loop to avoid further knocking if it is alraedy done once\n",
    "if df_ori['X1'].isnull().sum() == 0:\n",
    "    for i in range(1,9):\n",
    "        df_ori[f'X{i}'] = df_ori[f'X{i}'].sample(frac = 0.9)\n",
    "else:\n",
    "    print(\"knocking already done\")"
   ]
  },
  {
   "cell_type": "markdown",
   "metadata": {},
   "source": [
    "## Creating a knocked data .csv file"
   ]
  },
  {
   "cell_type": "code",
   "execution_count": 5,
   "metadata": {},
   "outputs": [],
   "source": [
    "df_ori.to_csv('knocked_data1.csv',sep=',', index = False, mode = 'w', header = True)"
   ]
  },
  {
   "cell_type": "markdown",
   "metadata": {},
   "source": [
    "# Imputation of X1"
   ]
  },
  {
   "cell_type": "code",
   "execution_count": 6,
   "metadata": {},
   "outputs": [
    {
     "data": {
      "text/html": [
       "<div>\n",
       "<style scoped>\n",
       "    .dataframe tbody tr th:only-of-type {\n",
       "        vertical-align: middle;\n",
       "    }\n",
       "\n",
       "    .dataframe tbody tr th {\n",
       "        vertical-align: top;\n",
       "    }\n",
       "\n",
       "    .dataframe thead th {\n",
       "        text-align: right;\n",
       "    }\n",
       "</style>\n",
       "<table border=\"1\" class=\"dataframe\">\n",
       "  <thead>\n",
       "    <tr style=\"text-align: right;\">\n",
       "      <th></th>\n",
       "      <th>X1</th>\n",
       "      <th>X2</th>\n",
       "      <th>X3</th>\n",
       "      <th>X4</th>\n",
       "      <th>X5</th>\n",
       "      <th>X6</th>\n",
       "      <th>X7</th>\n",
       "      <th>X8</th>\n",
       "      <th>Y1</th>\n",
       "      <th>Y2</th>\n",
       "    </tr>\n",
       "  </thead>\n",
       "  <tbody>\n",
       "    <tr>\n",
       "      <th>0</th>\n",
       "      <td>0.98</td>\n",
       "      <td>514.5</td>\n",
       "      <td>294.0</td>\n",
       "      <td>110.25</td>\n",
       "      <td>7.0</td>\n",
       "      <td>2.0</td>\n",
       "      <td>0.0</td>\n",
       "      <td>0.0</td>\n",
       "      <td>15.55</td>\n",
       "      <td>21.33</td>\n",
       "    </tr>\n",
       "    <tr>\n",
       "      <th>1</th>\n",
       "      <td>0.98</td>\n",
       "      <td>514.5</td>\n",
       "      <td>294.0</td>\n",
       "      <td>110.25</td>\n",
       "      <td>7.0</td>\n",
       "      <td>3.0</td>\n",
       "      <td>0.0</td>\n",
       "      <td>0.0</td>\n",
       "      <td>15.55</td>\n",
       "      <td>21.33</td>\n",
       "    </tr>\n",
       "    <tr>\n",
       "      <th>2</th>\n",
       "      <td>0.98</td>\n",
       "      <td>514.5</td>\n",
       "      <td>NaN</td>\n",
       "      <td>110.25</td>\n",
       "      <td>7.0</td>\n",
       "      <td>4.0</td>\n",
       "      <td>0.0</td>\n",
       "      <td>NaN</td>\n",
       "      <td>15.55</td>\n",
       "      <td>21.33</td>\n",
       "    </tr>\n",
       "    <tr>\n",
       "      <th>3</th>\n",
       "      <td>0.98</td>\n",
       "      <td>514.5</td>\n",
       "      <td>294.0</td>\n",
       "      <td>NaN</td>\n",
       "      <td>7.0</td>\n",
       "      <td>5.0</td>\n",
       "      <td>0.0</td>\n",
       "      <td>0.0</td>\n",
       "      <td>15.55</td>\n",
       "      <td>21.33</td>\n",
       "    </tr>\n",
       "    <tr>\n",
       "      <th>4</th>\n",
       "      <td>0.90</td>\n",
       "      <td>563.5</td>\n",
       "      <td>318.5</td>\n",
       "      <td>NaN</td>\n",
       "      <td>7.0</td>\n",
       "      <td>2.0</td>\n",
       "      <td>0.0</td>\n",
       "      <td>0.0</td>\n",
       "      <td>20.84</td>\n",
       "      <td>28.28</td>\n",
       "    </tr>\n",
       "  </tbody>\n",
       "</table>\n",
       "</div>"
      ],
      "text/plain": [
       "     X1     X2     X3      X4   X5   X6   X7   X8     Y1     Y2\n",
       "0  0.98  514.5  294.0  110.25  7.0  2.0  0.0  0.0  15.55  21.33\n",
       "1  0.98  514.5  294.0  110.25  7.0  3.0  0.0  0.0  15.55  21.33\n",
       "2  0.98  514.5    NaN  110.25  7.0  4.0  0.0  NaN  15.55  21.33\n",
       "3  0.98  514.5  294.0     NaN  7.0  5.0  0.0  0.0  15.55  21.33\n",
       "4  0.90  563.5  318.5     NaN  7.0  2.0  0.0  0.0  20.84  28.28"
      ]
     },
     "execution_count": 6,
     "metadata": {},
     "output_type": "execute_result"
    }
   ],
   "source": [
    "multi_reg_df = pd.read_csv(\"knocked_data.csv\")\n",
    "multi_reg_df.head()"
   ]
  },
  {
   "cell_type": "markdown",
   "metadata": {},
   "source": [
    "### 1) Data imputation using multiple linear regression"
   ]
  },
  {
   "cell_type": "code",
   "execution_count": 7,
   "metadata": {},
   "outputs": [],
   "source": [
    "# importing libraries\n",
    "import statsmodels.api as sm\n",
    "from sklearn.linear_model import LinearRegression\n",
    "from sklearn import linear_model\n",
    "\n",
    "# Drop all the rows having null values to form X_train,y_train\n",
    "X_lr = multi_reg_df.drop(['X3','X4','X5','X6','X7','X8','Y2'],axis=1)\n",
    "pure_X = X_lr.dropna()\n",
    "X_train = pure_X.drop('X1',axis=1)\n",
    "y_train = pure_X.X1\n",
    "\n",
    "#Take those rows having X1 valus as null\n",
    "X_test = X_lr[X_lr['X1'].isnull()].drop('X1',axis=1)\n",
    "\n",
    "# For now fill the NA values of X2 in X_test by mean of X2\n",
    "X_test_fill = X_test.fillna(X_test.mean()['X2'])"
   ]
  },
  {
   "cell_type": "code",
   "execution_count": 8,
   "metadata": {},
   "outputs": [
    {
     "name": "stderr",
     "output_type": "stream",
     "text": [
      "C:\\Users\\Admin\\Anaconda3\\lib\\site-packages\\numpy\\core\\fromnumeric.py:2389: FutureWarning: Method .ptp is deprecated and will be removed in a future version. Use numpy.ptp instead.\n",
      "  return ptp(axis=axis, out=out, **kwargs)\n"
     ]
    },
    {
     "name": "stdout",
     "output_type": "stream",
     "text": [
      "                            OLS Regression Results                            \n",
      "==============================================================================\n",
      "Dep. Variable:                     X1   R-squared:                       0.985\n",
      "Model:                            OLS   Adj. R-squared:                  0.985\n",
      "Method:                 Least Squares   F-statistic:                 2.071e+04\n",
      "Date:                Mon, 28 Oct 2019   Prob (F-statistic):               0.00\n",
      "Time:                        08:02:34   Log-Likelihood:                 1806.4\n",
      "No. Observations:                 616   AIC:                            -3607.\n",
      "Df Residuals:                     613   BIC:                            -3593.\n",
      "Df Model:                           2                                         \n",
      "Covariance Type:            nonrobust                                         \n",
      "==============================================================================\n",
      "                 coef    std err          t      P>|t|      [0.025      0.975]\n",
      "------------------------------------------------------------------------------\n",
      "const          1.6101      0.006    257.906      0.000       1.598       1.622\n",
      "X2            -0.0012   7.67e-06   -161.579      0.000      -0.001      -0.001\n",
      "Y1            -0.0006   6.74e-05     -8.993      0.000      -0.001      -0.000\n",
      "==============================================================================\n",
      "Omnibus:                       86.799   Durbin-Watson:                   0.158\n",
      "Prob(Omnibus):                  0.000   Jarque-Bera (JB):               60.445\n",
      "Skew:                           0.654   Prob(JB):                     7.49e-14\n",
      "Kurtosis:                       2.199   Cond. No.                     8.13e+03\n",
      "==============================================================================\n",
      "\n",
      "Warnings:\n",
      "[1] Standard Errors assume that the covariance matrix of the errors is correctly specified.\n",
      "[2] The condition number is large, 8.13e+03. This might indicate that there are\n",
      "strong multicollinearity or other numerical problems.\n"
     ]
    }
   ],
   "source": [
    "# Fit the model\n",
    "regr_lr = linear_model.LinearRegression()\n",
    "regr_lr.fit(X_train,y_train)\n",
    "X_train = sm.add_constant(X_train)\n",
    "regr_lr2 = sm.OLS(y_train,X_train)\n",
    "model_lr = regr_lr2.fit()\n",
    "print(model_lr.summary())"
   ]
  },
  {
   "cell_type": "code",
   "execution_count": 9,
   "metadata": {},
   "outputs": [],
   "source": [
    "# Predict the values of X1 from model after feature engineering\n",
    "predicted_X1 = regr_lr.predict(X_test_fill)\n",
    "X_lr.X1[X_lr.X1.isnull()]= predicted_X1"
   ]
  },
  {
   "cell_type": "code",
   "execution_count": 10,
   "metadata": {},
   "outputs": [
    {
     "data": {
      "text/plain": [
       "0.9975611332705464"
      ]
     },
     "execution_count": 10,
     "metadata": {},
     "output_type": "execute_result"
    }
   ],
   "source": [
    "from sklearn.metrics import r2_score\n",
    "df1 = pd.read_excel('ENB2012_data.xlsx')\n",
    "r2_score(df1.X1,X_lr.X1)\n"
   ]
  },
  {
   "cell_type": "code",
   "execution_count": 11,
   "metadata": {},
   "outputs": [
    {
     "data": {
      "image/png": "[encoded data removed]",
      "text/plain": [
       "<Figure size 432x288 with 1 Axes>"
      ]
     },
     "metadata": {
      "needs_background": "light"
     },
     "output_type": "display_data"
    }
   ],
   "source": [
    "import matplotlib.pyplot as plt\n",
    "plt.scatter(df1.X2,X_lr.X1,color='blue',marker='o')\n",
    "plt.scatter(df1.X2,df1.X1,color='red',marker='*')\n",
    "plt.xlabel('X2')\n",
    "plt.ylabel('X1')\n",
    "plt.title('Plot X1 Vs X2 ; red = actual data; blue = predicted data')\n",
    "plt.show()"
   ]
  },
  {
   "cell_type": "code",
   "execution_count": 12,
   "metadata": {},
   "outputs": [],
   "source": [
    "df_ori = pd.read_excel(\"ENB2012_data.xlsx\")\n",
    "\n",
    "X1_ori = df_ori.iloc[:,0].values\n",
    "\n",
    "df_rest_features_ori = df_ori.drop('X1', axis = 1)\n",
    "\n",
    "df_rest_features_ori.to_csv('X1_after_imputation_lr.csv',sep=',', index = False, mode = 'w', header = True)\n",
    "\n",
    "df_new_read = pd.read_csv(\"X1_after_imputation_lr.csv\")\n",
    "X1_new = X_lr.X1\n",
    "\n",
    "df_new_read['X1'] = X1_new\n",
    "\n",
    "df_new_read.to_csv('X1_after_imputation_lr.csv', index = False, mode = 'w', header = True)\n"
   ]
  },
  {
   "cell_type": "markdown",
   "metadata": {},
   "source": [
    "### 2) Data imputation of X1 using Decision Tree Regressor "
   ]
  },
  {
   "cell_type": "code",
   "execution_count": 13,
   "metadata": {},
   "outputs": [],
   "source": [
    "X_dt = multi_reg_df.drop(['X4','X5','X6','X7','X3','X8'],axis=1)\n",
    "X1=X_dt.dropna()\n",
    "X_train = X1.drop('X1',axis=1)\n",
    "Y_train = X1['X1']\n",
    "X_test = X_dt[X_dt['X1'].isnull()].drop('X1',axis=1)\n",
    "X_test_fill = X_test.fillna(X_test.mean()['X2'])\n"
   ]
  },
  {
   "cell_type": "code",
   "execution_count": 14,
   "metadata": {},
   "outputs": [
    {
     "data": {
      "text/plain": [
       "DecisionTreeRegressor(criterion='mse', max_depth=None, max_features=None,\n",
       "                      max_leaf_nodes=None, min_impurity_decrease=0.0,\n",
       "                      min_impurity_split=None, min_samples_leaf=1,\n",
       "                      min_samples_split=2, min_weight_fraction_leaf=0.0,\n",
       "                      presort=False, random_state=0, splitter='best')"
      ]
     },
     "execution_count": 14,
     "metadata": {},
     "output_type": "execute_result"
    }
   ],
   "source": [
    "from sklearn.tree import DecisionTreeRegressor\n",
    "regr_dt = DecisionTreeRegressor(random_state=0)\n",
    "regr_dt.fit(X_train, Y_train)"
   ]
  },
  {
   "cell_type": "code",
   "execution_count": 15,
   "metadata": {},
   "outputs": [],
   "source": [
    "predicted_X1 = regr_dt.predict(X_test_fill)"
   ]
  },
  {
   "cell_type": "code",
   "execution_count": 16,
   "metadata": {},
   "outputs": [],
   "source": [
    "X_dt.X1[X_dt.X1.isnull()]= predicted_X1"
   ]
  },
  {
   "cell_type": "code",
   "execution_count": 17,
   "metadata": {},
   "outputs": [
    {
     "data": {
      "text/plain": [
       "0.9989629295879684"
      ]
     },
     "execution_count": 17,
     "metadata": {},
     "output_type": "execute_result"
    }
   ],
   "source": [
    "from sklearn.metrics import r2_score\n",
    "df1 = pd.read_excel('ENB2012_data.xlsx')\n",
    "r2_score(df1.X1,X_dt.X1)"
   ]
  },
  {
   "cell_type": "code",
   "execution_count": 18,
   "metadata": {},
   "outputs": [
    {
     "data": {
      "image/png": "[encoded data removed]",
      "text/plain": [
       "<Figure size 432x288 with 1 Axes>"
      ]
     },
     "metadata": {
      "needs_background": "light"
     },
     "output_type": "display_data"
    }
   ],
   "source": [
    "import matplotlib.pyplot as plt\n",
    "plt.scatter(df1.X2,X_dt.X1,color='blue',marker='o')\n",
    "plt.scatter(df1.X2,df1.X1,color='red',marker='*')\n",
    "plt.xlabel('X2')\n",
    "plt.ylabel('X1')\n",
    "plt.title('Plot X1 Vs X2 ; red = actual data; blue = predicted data')\n",
    "plt.show()"
   ]
  },
  {
   "cell_type": "code",
   "execution_count": 19,
   "metadata": {},
   "outputs": [],
   "source": [
    "\n",
    "df_rest_features_ori.to_csv('X1_after_imputation_dt.csv',sep=',', index = False, mode = 'w', header = True)\n",
    "\n",
    "df_new_read = pd.read_csv(\"X1_after_imputation_dt.csv\")\n",
    "X1_new = X_dt.X1\n",
    "\n",
    "df_new_read['X1'] = X1_new\n",
    "\n",
    "df_new_read.to_csv('X1_after_imputation_dt.csv', index = False, mode = 'w', header = True)\n"
   ]
  },
  {
   "cell_type": "markdown",
   "metadata": {},
   "source": [
    "### 3) Data imputation of X1 using KNN Regressor "
   ]
  },
  {
   "cell_type": "code",
   "execution_count": 20,
   "metadata": {},
   "outputs": [],
   "source": [
    "X_knn = multi_reg_df.drop(['X4','X5','X6','X7','X3','X8'],axis=1)\n",
    "X1=X_knn.dropna()\n",
    "X_train = X1.drop('X1',axis=1)\n",
    "Y_train = X1['X1']\n",
    "X_test = X_knn[X_knn['X1'].isnull()].drop('X1',axis=1)\n",
    "X_test_fill = X_test.fillna(X_test.mean()['X2'])"
   ]
  },
  {
   "cell_type": "code",
   "execution_count": 21,
   "metadata": {},
   "outputs": [],
   "source": [
    "# import the libraries\n",
    "from sklearn.neighbors import KNeighborsRegressor\n",
    "\n",
    "\n",
    "# Fit the model\n",
    "neigh = KNeighborsRegressor(n_neighbors=5)\n",
    "neigh.fit(X_train, Y_train)\n",
    "\n",
    "# Predict new X4 values from KNN\n",
    "predicted_X1_values = neigh.predict(X_test_fill)\n"
   ]
  },
  {
   "cell_type": "code",
   "execution_count": 22,
   "metadata": {},
   "outputs": [
    {
     "data": {
      "text/plain": [
       "0.9989629295879684"
      ]
     },
     "execution_count": 22,
     "metadata": {},
     "output_type": "execute_result"
    }
   ],
   "source": [
    "X_knn.X1[X_knn.X1.isnull()]= predicted_X1_values\n",
    "r2_score(df1.X1,X_knn.X1)"
   ]
  },
  {
   "cell_type": "code",
   "execution_count": 23,
   "metadata": {},
   "outputs": [
    {
     "data": {
      "image/png": "[encoded data removed]",
      "text/plain": [
       "<Figure size 432x288 with 1 Axes>"
      ]
     },
     "metadata": {
      "needs_background": "light"
     },
     "output_type": "display_data"
    }
   ],
   "source": [
    "import matplotlib.pyplot as plt\n",
    "plt.scatter(df1.X2,X_knn.X1,color='blue',marker='o')\n",
    "plt.scatter(df1.X2,df1.X1,color='red',marker='*')\n",
    "plt.xlabel('X2')\n",
    "plt.ylabel('X1')\n",
    "plt.title('Plot X1 Vs X2 ; red = actual data; blue = predicted data')\n",
    "plt.show()"
   ]
  },
  {
   "cell_type": "code",
   "execution_count": 24,
   "metadata": {},
   "outputs": [],
   "source": [
    "df_rest_features_ori.to_csv('X1_after_imputation_knn.csv',sep=',', index = False, mode = 'w', header = True)\n",
    "\n",
    "df_new_read = pd.read_csv(\"X1_after_imputation_knn.csv\")\n",
    "X1_new = X_knn.X1\n",
    "\n",
    "df_new_read['X1'] = X1_new\n",
    "\n",
    "df_new_read.to_csv('X1_after_imputation_knn.csv', index = False, mode = 'w', header = True)\n"
   ]
  },
  {
   "cell_type": "markdown",
   "metadata": {},
   "source": [
    "### 4) Data imputation of X1 using Random Forest Regressor"
   ]
  },
  {
   "cell_type": "code",
   "execution_count": 25,
   "metadata": {},
   "outputs": [],
   "source": [
    "X_rf = multi_reg_df.drop(['X4','X5','X6','X7','X3','X8'],axis=1)\n",
    "X1=X_rf.dropna()\n",
    "X_train = X1.drop('X1',axis=1)\n",
    "Y_train = X1['X1']\n",
    "X_test = X_rf[X_rf['X1'].isnull()].drop('X1',axis=1)\n",
    "X_test_fill = X_test.fillna(X_test.mean()['X2'])\n",
    "\n"
   ]
  },
  {
   "cell_type": "code",
   "execution_count": 26,
   "metadata": {},
   "outputs": [
    {
     "name": "stderr",
     "output_type": "stream",
     "text": [
      "C:\\Users\\Admin\\Anaconda3\\lib\\site-packages\\sklearn\\ensemble\\forest.py:245: FutureWarning: The default value of n_estimators will change from 10 in version 0.20 to 100 in 0.22.\n",
      "  \"10 in version 0.20 to 100 in 0.22.\", FutureWarning)\n"
     ]
    },
    {
     "data": {
      "text/plain": [
       "RandomForestRegressor(bootstrap=True, criterion='mse', max_depth=None,\n",
       "                      max_features='auto', max_leaf_nodes=None,\n",
       "                      min_impurity_decrease=0.0, min_impurity_split=None,\n",
       "                      min_samples_leaf=1, min_samples_split=2,\n",
       "                      min_weight_fraction_leaf=0.0, n_estimators=10,\n",
       "                      n_jobs=None, oob_score=False, random_state=None,\n",
       "                      verbose=0, warm_start=False)"
      ]
     },
     "execution_count": 26,
     "metadata": {},
     "output_type": "execute_result"
    }
   ],
   "source": [
    "from sklearn.ensemble import RandomForestRegressor\n",
    "regr_rf = RandomForestRegressor()\n",
    "regr_rf.fit(X_train,Y_train)"
   ]
  },
  {
   "cell_type": "code",
   "execution_count": 27,
   "metadata": {},
   "outputs": [],
   "source": [
    "predicted_X1 = regr_rf.predict(X_test_fill)"
   ]
  },
  {
   "cell_type": "code",
   "execution_count": 28,
   "metadata": {},
   "outputs": [
    {
     "data": {
      "text/plain": [
       "0.9991698775713131"
      ]
     },
     "execution_count": 28,
     "metadata": {},
     "output_type": "execute_result"
    }
   ],
   "source": [
    "X_rf.X1[X_rf.X1.isnull()]= predicted_X1\n",
    "r2_score(df1.X1,X_rf.X1)"
   ]
  },
  {
   "cell_type": "code",
   "execution_count": 29,
   "metadata": {},
   "outputs": [
    {
     "data": {
      "image/png": "[encoded data removed]",
      "text/plain": [
       "<Figure size 432x288 with 1 Axes>"
      ]
     },
     "metadata": {
      "needs_background": "light"
     },
     "output_type": "display_data"
    }
   ],
   "source": [
    "import matplotlib.pyplot as plt\n",
    "plt.scatter(df1.X2,X_rf.X1,color='blue',marker='o')\n",
    "plt.scatter(df1.X2,df1.X1,color='red',marker='*')\n",
    "plt.xlabel('X2')\n",
    "plt.ylabel('X1')\n",
    "plt.title('Plot X1 Vs X2 ; red = actual data; blue = predicted data')\n",
    "plt.show()"
   ]
  },
  {
   "cell_type": "code",
   "execution_count": 30,
   "metadata": {},
   "outputs": [],
   "source": [
    "df_rest_features_ori.to_csv('X1_after_imputation_rf.csv',sep=',', index = False, mode = 'w', header = True)\n",
    "\n",
    "df_new_read = pd.read_csv(\"X1_after_imputation_rf.csv\")\n",
    "X1_new = X_rf.X1\n",
    "\n",
    "df_new_read['X1'] = X1_new\n",
    "\n",
    "df_new_read.to_csv('X1_after_imputation_rf.csv', index = False, mode = 'w', header = True)\n"
   ]
  },
  {
   "cell_type": "code",
   "execution_count": 31,
   "metadata": {},
   "outputs": [],
   "source": [
    "df_ori = pd.read_csv(\"knocked_data.csv\")\n",
    "\n",
    "df_rest_features_ori = df_ori.drop('X1', axis = 1)\n",
    "\n",
    "df_rest_features_ori.to_csv('X1_after_imputation_finl_rf.csv',sep=',', index = False, mode = 'w', header = True)\n",
    "\n",
    "df_new_read = pd.read_csv(\"X1_after_imputation_finl_rf.csv\")\n",
    "X1_new = X_rf.X1\n",
    "\n",
    "df_new_read['X1'] = X1_new\n",
    "\n",
    "df_new_read.to_csv('X1_after_imputation_finl_rf.csv', index = False, mode = 'w', header = True)\n"
   ]
  },
  {
   "cell_type": "markdown",
   "metadata": {},
   "source": [
    "# Imputation of X2 using  modified X1 "
   ]
  },
  {
   "cell_type": "markdown",
   "metadata": {},
   "source": [
    "### 1) by linear regression"
   ]
  },
  {
   "cell_type": "code",
   "execution_count": 32,
   "metadata": {},
   "outputs": [
    {
     "name": "stdout",
     "output_type": "stream",
     "text": [
      "                                 OLS Regression Results                                \n",
      "=======================================================================================\n",
      "Dep. Variable:                     X2   R-squared (uncentered):                   0.939\n",
      "Model:                            OLS   Adj. R-squared (uncentered):              0.939\n",
      "Method:                 Least Squares   F-statistic:                              5344.\n",
      "Date:                Mon, 28 Oct 2019   Prob (F-statistic):                        0.00\n",
      "Time:                        08:02:41   Log-Likelihood:                         -4516.9\n",
      "No. Observations:                 691   AIC:                                      9038.\n",
      "Df Residuals:                     689   BIC:                                      9047.\n",
      "Df Model:                           2                                                  \n",
      "Covariance Type:            nonrobust                                                  \n",
      "==============================================================================\n",
      "                 coef    std err          t      P>|t|      [0.025      0.975]\n",
      "------------------------------------------------------------------------------\n",
      "Y1            -8.0473      0.745    -10.808      0.000      -9.509      -6.585\n",
      "X1          1087.2882     23.586     46.100      0.000    1040.980    1133.596\n",
      "==============================================================================\n",
      "Omnibus:                       41.429   Durbin-Watson:                   0.335\n",
      "Prob(Omnibus):                  0.000   Jarque-Bera (JB):               46.555\n",
      "Skew:                          -0.619   Prob(JB):                     7.78e-11\n",
      "Kurtosis:                       2.713   Cond. No.                         90.6\n",
      "==============================================================================\n",
      "\n",
      "Warnings:\n",
      "[1] Standard Errors assume that the covariance matrix of the errors is correctly specified.\n"
     ]
    }
   ],
   "source": [
    "X1_knn = pd.read_csv('X1_after_imputation_finl_rf.csv')\n",
    "X_lr = X1_knn.drop(['X3','X4','X5','X6','X7','X8','Y2'],axis=1)\n",
    "pure_X = X_lr.dropna()\n",
    "X_train = pure_X.drop('X2',axis=1)\n",
    "y_train = pure_X.X2\n",
    "\n",
    "#Take those rows having X1 valus as null\n",
    "X_test = X_lr[X_lr['X2'].isnull()].drop('X2',axis=1)\n",
    "regr_lr1 = linear_model.LinearRegression()\n",
    "regr_lr1.fit(X_train,y_train)\n",
    "regr_lr2 = sm.OLS(y_train,X_train)\n",
    "model_lr = regr_lr2.fit()\n",
    "print(model_lr.summary())\n",
    "predicted_X2 = regr_lr1.predict(X_test)\n",
    "X_lr.X2[X_lr.X2.isnull()]= predicted_X2"
   ]
  },
  {
   "cell_type": "code",
   "execution_count": 33,
   "metadata": {},
   "outputs": [
    {
     "data": {
      "text/plain": [
       "0.9977930104453551"
      ]
     },
     "execution_count": 33,
     "metadata": {},
     "output_type": "execute_result"
    }
   ],
   "source": [
    "r2_score(df1.X2,X_lr.X2)"
   ]
  },
  {
   "cell_type": "code",
   "execution_count": 34,
   "metadata": {},
   "outputs": [
    {
     "data": {
      "image/png": "[encoded data removed]",
      "text/plain": [
       "<Figure size 432x288 with 1 Axes>"
      ]
     },
     "metadata": {
      "needs_background": "light"
     },
     "output_type": "display_data"
    }
   ],
   "source": [
    "import matplotlib.pyplot as plt\n",
    "plt.scatter(df1.X1,X_lr.X2,color='blue',marker='o')\n",
    "plt.scatter(df1.X1,df1.X2,color='red',marker='*')\n",
    "plt.xlabel('X1')\n",
    "plt.ylabel('X2')\n",
    "plt.title('Plot X1 Vs X2 ; red = actual data; blue = predicted data')\n",
    "plt.show()"
   ]
  },
  {
   "cell_type": "code",
   "execution_count": 35,
   "metadata": {},
   "outputs": [],
   "source": [
    "df2=pd.read_csv('X1_after_imputation_rf.csv')\n",
    "\n",
    "df_rest_features_ori = df2.drop('X2', axis = 1)\n",
    "\n",
    "df_rest_features_ori.to_csv('X2_after_imputation_lr_with_X1_rf.csv',sep=',', index = False, mode = 'w', header = True)\n",
    "\n",
    "df_new_read = pd.read_csv(\"X2_after_imputation_lr_with_X1_rf.csv\")\n",
    "X2_new = X_lr.X2\n",
    "\n",
    "df_new_read['X2'] = X2_new\n",
    "\n",
    "df_new_read.to_csv('X2_after_imputation_lr_with_X1_rf.csv', index = False, mode = 'w', header = True)\n"
   ]
  },
  {
   "cell_type": "markdown",
   "metadata": {},
   "source": [
    "### 2) X2 by Dt"
   ]
  },
  {
   "cell_type": "code",
   "execution_count": 36,
   "metadata": {},
   "outputs": [],
   "source": [
    "X_dt = X1_knn.drop(['X3','X4','X5','X6','X7','X8','Y2'],axis=1)\n",
    "pure_X = X_dt.dropna()\n",
    "X_train = pure_X.drop('X2',axis=1)\n",
    "y_train = pure_X.X2\n",
    "\n",
    "#Take those rows having X1 valus as null\n",
    "X_test = X_dt[X_dt['X2'].isnull()].drop('X2',axis=1)"
   ]
  },
  {
   "cell_type": "code",
   "execution_count": 37,
   "metadata": {},
   "outputs": [],
   "source": [
    "from sklearn.tree import DecisionTreeRegressor\n",
    "regr_dt = DecisionTreeRegressor(random_state=0)\n",
    "regr_dt.fit(X_train, y_train)\n",
    "predicted_X2 = regr_dt.predict(X_test)\n",
    "X_dt.X2[X_dt.X2.isnull()]= predicted_X2"
   ]
  },
  {
   "cell_type": "code",
   "execution_count": 38,
   "metadata": {},
   "outputs": [
    {
     "data": {
      "text/plain": [
       "0.99919311457773"
      ]
     },
     "execution_count": 38,
     "metadata": {},
     "output_type": "execute_result"
    }
   ],
   "source": [
    "r2_score(df1.X2,X_dt.X2)"
   ]
  },
  {
   "cell_type": "code",
   "execution_count": 39,
   "metadata": {},
   "outputs": [
    {
     "data": {
      "image/png": "[encoded data removed]",
      "text/plain": [
       "<Figure size 432x288 with 1 Axes>"
      ]
     },
     "metadata": {
      "needs_background": "light"
     },
     "output_type": "display_data"
    }
   ],
   "source": [
    "import matplotlib.pyplot as plt\n",
    "plt.scatter(df1.X1,X_dt.X2,color='blue',marker='o')\n",
    "plt.scatter(df1.X1,df1.X2,color='red',marker='*')\n",
    "plt.xlabel('X1')\n",
    "plt.ylabel('X2')\n",
    "plt.title('Plot X1 Vs X2 ; red = actual data; blue = predicted data')\n",
    "plt.show()"
   ]
  },
  {
   "cell_type": "code",
   "execution_count": 40,
   "metadata": {},
   "outputs": [],
   "source": [
    "df_rest_features_ori.to_csv('X2_after_imputation_dt_with_X1_rf.csv',sep=',', index = False, mode = 'w', header = True)\n",
    "\n",
    "df_new_read = pd.read_csv(\"X2_after_imputation_dt_with_X1_rf.csv\")\n",
    "X2_new = X_dt.X2\n",
    "\n",
    "df_new_read['X2'] = X2_new\n",
    "\n",
    "df_new_read.to_csv('X2_after_imputation_dt_with_X1_rf.csv', index = False, mode = 'w', header = True)\n"
   ]
  },
  {
   "cell_type": "markdown",
   "metadata": {},
   "source": [
    "### 3) X2 by random forest"
   ]
  },
  {
   "cell_type": "code",
   "execution_count": 41,
   "metadata": {},
   "outputs": [],
   "source": [
    "X_rf = X1_knn.drop(['X3','X4','X5','X6','X7','X8','Y2'],axis=1)\n",
    "pure_X = X_rf.dropna()\n",
    "X_train = pure_X.drop('X2',axis=1)\n",
    "y_train = pure_X.X2\n",
    "\n",
    "#Take those rows having X1 valus as null\n",
    "X_test = X_rf[X_rf['X2'].isnull()].drop('X2',axis=1)"
   ]
  },
  {
   "cell_type": "code",
   "execution_count": 42,
   "metadata": {},
   "outputs": [
    {
     "name": "stderr",
     "output_type": "stream",
     "text": [
      "C:\\Users\\Admin\\Anaconda3\\lib\\site-packages\\sklearn\\ensemble\\forest.py:245: FutureWarning: The default value of n_estimators will change from 10 in version 0.20 to 100 in 0.22.\n",
      "  \"10 in version 0.20 to 100 in 0.22.\", FutureWarning)\n"
     ]
    },
    {
     "data": {
      "text/plain": [
       "RandomForestRegressor(bootstrap=True, criterion='mse', max_depth=None,\n",
       "                      max_features='auto', max_leaf_nodes=None,\n",
       "                      min_impurity_decrease=0.0, min_impurity_split=None,\n",
       "                      min_samples_leaf=1, min_samples_split=2,\n",
       "                      min_weight_fraction_leaf=0.0, n_estimators=10,\n",
       "                      n_jobs=None, oob_score=False, random_state=None,\n",
       "                      verbose=0, warm_start=False)"
      ]
     },
     "execution_count": 42,
     "metadata": {},
     "output_type": "execute_result"
    }
   ],
   "source": [
    "from sklearn.ensemble import RandomForestRegressor\n",
    "regr_rf = RandomForestRegressor()\n",
    "regr_rf.fit(X_train,y_train)"
   ]
  },
  {
   "cell_type": "code",
   "execution_count": 43,
   "metadata": {},
   "outputs": [],
   "source": [
    "predicted_X2 = regr_rf.predict(X_test)\n",
    "X_rf.X2[X_rf.X2.isnull()]= predicted_X2"
   ]
  },
  {
   "cell_type": "code",
   "execution_count": 44,
   "metadata": {},
   "outputs": [
    {
     "data": {
      "text/plain": [
       "0.99919311457773"
      ]
     },
     "execution_count": 44,
     "metadata": {},
     "output_type": "execute_result"
    }
   ],
   "source": [
    "r2_score(df1.X2,X_rf.X2)"
   ]
  },
  {
   "cell_type": "code",
   "execution_count": 45,
   "metadata": {},
   "outputs": [
    {
     "data": {
      "image/png": "[encoded data removed]",
      "text/plain": [
       "<Figure size 432x288 with 1 Axes>"
      ]
     },
     "metadata": {
      "needs_background": "light"
     },
     "output_type": "display_data"
    }
   ],
   "source": [
    "import matplotlib.pyplot as plt\n",
    "plt.scatter(df1.X1,X_rf.X2,color='blue',marker='o')\n",
    "plt.scatter(df1.X1,df1.X2,color='red',marker='*')\n",
    "plt.xlabel('X1')\n",
    "plt.ylabel('X2')\n",
    "plt.title('Plot X1 Vs X2 ; red = actual data; blue = predicted data')\n",
    "plt.show()"
   ]
  },
  {
   "cell_type": "code",
   "execution_count": 46,
   "metadata": {},
   "outputs": [],
   "source": [
    "df_rest_features_ori.to_csv('X2_after_imputation_rf_with_X1_rf.csv',sep=',', index = False, mode = 'w', header = True)\n",
    "\n",
    "df_new_read = pd.read_csv(\"X2_after_imputation_rf_with_X1_rf.csv\")\n",
    "X2_new = X_rf.X2\n",
    "\n",
    "df_new_read['X2'] = X2_new\n",
    "\n",
    "df_new_read.to_csv('X2_after_imputation_rf_with_X1_rf.csv', index = False, mode = 'w', header = True)\n"
   ]
  },
  {
   "cell_type": "markdown",
   "metadata": {},
   "source": [
    "### 4) X2 by KNN"
   ]
  },
  {
   "cell_type": "code",
   "execution_count": 47,
   "metadata": {},
   "outputs": [],
   "source": [
    "X_knn = X1_knn.drop(['X4','X5','X6','X7','X3','X8'],axis=1)\n",
    "X1=X_knn.dropna()\n",
    "X_train = X1.drop('X2',axis=1)\n",
    "Y_train = X1['X2']\n",
    "X_test = X_knn[X_knn['X2'].isnull()].drop('X2',axis=1)"
   ]
  },
  {
   "cell_type": "code",
   "execution_count": 48,
   "metadata": {},
   "outputs": [],
   "source": [
    "# import the libraries\n",
    "from sklearn.neighbors import KNeighborsRegressor\n",
    "\n",
    "\n",
    "# Fit the model\n",
    "neigh = KNeighborsRegressor(n_neighbors=5)\n",
    "neigh.fit(X_train, Y_train)\n",
    "\n",
    "# Predict new X4 values from KNN\n",
    "predicted_X2_values = neigh.predict(X_test)\n"
   ]
  },
  {
   "cell_type": "code",
   "execution_count": 49,
   "metadata": {},
   "outputs": [
    {
     "data": {
      "text/plain": [
       "0.9879128563743949"
      ]
     },
     "execution_count": 49,
     "metadata": {},
     "output_type": "execute_result"
    }
   ],
   "source": [
    "X_knn.X2[X_knn.X2.isnull()]= predicted_X2_values\n",
    "r2_score(df1.X2,X_knn.X2)"
   ]
  },
  {
   "cell_type": "code",
   "execution_count": 50,
   "metadata": {},
   "outputs": [
    {
     "data": {
      "image/png": "[encoded data removed]",
      "text/plain": [
       "<Figure size 432x288 with 1 Axes>"
      ]
     },
     "metadata": {
      "needs_background": "light"
     },
     "output_type": "display_data"
    }
   ],
   "source": [
    "import matplotlib.pyplot as plt\n",
    "plt.scatter(df1.X1,X_knn.X2,color='blue',marker='o')\n",
    "plt.scatter(df1.X1,df1.X2,color='red',marker='*')\n",
    "plt.xlabel('X1')\n",
    "plt.ylabel('X2')\n",
    "plt.title('Plot X1 Vs X2 ; red = actual data; blue = predicted data')\n",
    "plt.show()"
   ]
  },
  {
   "cell_type": "code",
   "execution_count": 51,
   "metadata": {},
   "outputs": [],
   "source": [
    "df_rest_features_ori.to_csv('X2_after_imputation_knn_with_X1_rf.csv',sep=',', index = False, mode = 'w', header = True)\n",
    "\n",
    "df_new_read = pd.read_csv(\"X2_after_imputation_knn_with_X1_rf.csv\")\n",
    "X2_new = X_knn.X2\n",
    "\n",
    "df_new_read['X2'] = X2_new\n",
    "\n",
    "df_new_read.to_csv('X2_after_imputation_knn_with_X1_rf.csv', index = False, mode = 'w', header = True)\n"
   ]
  },
  {
   "cell_type": "code",
   "execution_count": 52,
   "metadata": {},
   "outputs": [],
   "source": [
    "df_ori = pd.read_csv(\"X1_after_imputation_finl_rf.csv\")\n",
    "\n",
    "df_rest_features_ori = df_ori.drop('X2', axis = 1)\n",
    "\n",
    "df_rest_features_ori.to_csv('X2_after_imputation_finl_rf.csv',sep=',', index = False, mode = 'w', header = True)\n",
    "\n",
    "df_new_read = pd.read_csv(\"X2_after_imputation_finl_rf.csv\")\n",
    "X2_new = X_rf.X2\n",
    "\n",
    "df_new_read['X2'] = X2_new\n",
    "\n",
    "df_new_read.to_csv('X2_after_imputation_finl_rf.csv', index = False, mode = 'w', header = True)\n"
   ]
  },
  {
   "cell_type": "markdown",
   "metadata": {},
   "source": [
    "# Imputation of X5 using X1_rf, X2_rf, Y1, Y2"
   ]
  },
  {
   "cell_type": "markdown",
   "metadata": {},
   "source": [
    "### 1) using KNN"
   ]
  },
  {
   "cell_type": "code",
   "execution_count": 53,
   "metadata": {},
   "outputs": [],
   "source": [
    "from sklearn.neighbors import KNeighborsClassifier\n",
    "from sklearn import preprocessing\n",
    "from sklearn.metrics import confusion_matrix\n",
    "\n",
    "# Made a new dataframe for correlated features \n",
    "X5_df = pd.read_csv('X2_after_imputation_finl_rf.csv')\n",
    "X5_knn = X5_df.drop(['X3','X6','X7','X8'],axis=1)\n",
    "\n",
    "# Drop all the NaN values row so to create train set\n",
    "pure_knn_df=X5_knn.dropna()\n",
    "knn_X_train= pure_knn_df.drop('X5',axis=1)\n",
    "knn_y_train = pure_knn_df.X5\n",
    "\n",
    "# Take the rows in which X5 has NaN values\n",
    "knn_X_test = X5_knn[X5_knn['X5'].isnull()].drop('X5',axis=1)\n",
    "\n",
    "# Filling the NA values of X4 by its mode\n",
    "M4= knn_X_test.mode()['X4']\n",
    "knn_X_test_fill = knn_X_test.fillna(np.array(M4)[0])"
   ]
  },
  {
   "cell_type": "code",
   "execution_count": 54,
   "metadata": {},
   "outputs": [
    {
     "name": "stdout",
     "output_type": "stream",
     "text": [
      "[[384   0]\n",
      " [  1 383]]\n"
     ]
    }
   ],
   "source": [
    "# Label the data in X5\n",
    "lab_enc = preprocessing.LabelEncoder()\n",
    "encoded_knn_y_train = lab_enc.fit_transform(knn_y_train)\n",
    "\n",
    "# Train KNN learner\n",
    "clf = KNeighborsClassifier(n_neighbors=5,weights='distance',algorithm='auto',leaf_size=30,p=2,metric='minkowski',\n",
    "                           metric_params=None,n_jobs=None)\n",
    "knn_trained_model = clf.fit(knn_X_train, encoded_knn_y_train)\n",
    "encoded_predicted_X5_values = knn_trained_model.predict(knn_X_test_fill)\n",
    "\n",
    "# Decode the the binary values in X5 \n",
    "predicted_X5_values = lab_enc.inverse_transform(encoded_predicted_X5_values)\n",
    "\n",
    "# Predict missing values' class\n",
    "X5_knn.X5[X5_knn.X5.isnull()]= predicted_X5_values\n",
    "\n",
    "# Compare with original values of X5 by using confusion matrix\n",
    "encoded_df1_X5 = lab_enc.fit_transform(df1.X5)\n",
    "encoded_X5_knn_X5 = lab_enc.fit_transform(X5_knn.X5)\n",
    "print(confusion_matrix(encoded_df1_X5,encoded_X5_knn_X5))\n",
    "\n",
    "\n",
    "# Finding the model accuracy by original data\n",
    "new_X_train = df1.drop(['X3','X6','X7','X8','X5'],axis=1)"
   ]
  },
  {
   "cell_type": "code",
   "execution_count": 55,
   "metadata": {},
   "outputs": [
    {
     "name": "stdout",
     "output_type": "stream",
     "text": [
      "0.9986979166666666\n"
     ]
    }
   ],
   "source": [
    "print(asc(encoded_df1_X5,encoded_X5_knn_X5))"
   ]
  },
  {
   "cell_type": "code",
   "execution_count": 56,
   "metadata": {},
   "outputs": [],
   "source": [
    "df3=pd.read_csv('X2_after_imputation_rf_with_X1_rf.csv')\n",
    "\n",
    "df_rest_features_ori = df3.drop('X5', axis = 1)\n",
    "df_rest_features_ori.to_csv('X5_after_imputation_knn.csv',sep=',', index = False, mode = 'w', header = True)\n",
    "\n",
    "df_new_read = pd.read_csv(\"X5_after_imputation_knn.csv\")\n",
    "X5_new = X5_knn.X5\n",
    "\n",
    "df_new_read['X5'] = X5_new\n",
    "\n",
    "df_new_read.to_csv('X5_after_imputation_knn.csv', index = False, mode = 'w', header = True)\n"
   ]
  },
  {
   "cell_type": "code",
   "execution_count": 57,
   "metadata": {},
   "outputs": [],
   "source": [
    "df_ori = pd.read_csv(\"X2_after_imputation_finl_rf.csv\")\n",
    "\n",
    "df_rest_features_ori = df_ori.drop('X5', axis = 1)\n",
    "\n",
    "df_rest_features_ori.to_csv('X5_after_imputation_finl_knn.csv',sep=',', index = False, mode = 'w', header = True)\n",
    "\n",
    "df_new_read = pd.read_csv(\"X5_after_imputation_finl_knn.csv\")\n",
    "X5_new = X5_knn.X5\n",
    "\n",
    "df_new_read['X5'] = X5_new\n",
    "\n",
    "df_new_read.to_csv('X5_after_imputation_finl_knn.csv', index = False, mode = 'w', header = True)\n"
   ]
  },
  {
   "cell_type": "markdown",
   "metadata": {},
   "source": [
    "### 2) using logistic regression"
   ]
  },
  {
   "cell_type": "code",
   "execution_count": 58,
   "metadata": {},
   "outputs": [
    {
     "name": "stderr",
     "output_type": "stream",
     "text": [
      "C:\\Users\\Admin\\Anaconda3\\lib\\site-packages\\sklearn\\linear_model\\logistic.py:432: FutureWarning: Default solver will be changed to 'lbfgs' in 0.22. Specify a solver to silence this warning.\n",
      "  FutureWarning)\n"
     ]
    },
    {
     "data": {
      "text/plain": [
       "LogisticRegression(C=1.0, class_weight=None, dual=False, fit_intercept=True,\n",
       "                   intercept_scaling=1, l1_ratio=None, max_iter=100,\n",
       "                   multi_class='warn', n_jobs=None, penalty='l2',\n",
       "                   random_state=None, solver='warn', tol=0.0001, verbose=0,\n",
       "                   warm_start=False)"
      ]
     },
     "execution_count": 58,
     "metadata": {},
     "output_type": "execute_result"
    }
   ],
   "source": [
    "from sklearn.linear_model import LogisticRegression\n",
    "from sklearn import preprocessing\n",
    "X5_lr= X5_df.drop(['X3','X6','X7','X8'],axis=1)\n",
    "log_X_train = knn_X_train\n",
    "log_y_train = encoded_knn_y_train\n",
    "log_X_test = knn_X_test_fill\n",
    "logmodel = LogisticRegression()\n",
    "logmodel.fit(log_X_train,log_y_train)\n"
   ]
  },
  {
   "cell_type": "code",
   "execution_count": 59,
   "metadata": {},
   "outputs": [],
   "source": [
    "predicted_X5_values = logmodel.predict(log_X_test)\n",
    "predicted_X5_values_lr = lab_enc.inverse_transform(predicted_X5_values)\n"
   ]
  },
  {
   "cell_type": "code",
   "execution_count": 60,
   "metadata": {},
   "outputs": [
    {
     "name": "stdout",
     "output_type": "stream",
     "text": [
      "[[384   0]\n",
      " [  5 379]]\n"
     ]
    }
   ],
   "source": [
    "X5_lr.X5[X5_lr.X5.isnull()]= predicted_X5_values_lr\n",
    "encoded_X5_lr_X5 = lab_enc.fit_transform(X5_lr.X5)\n",
    "print(confusion_matrix(encoded_df1_X5,encoded_X5_lr_X5))"
   ]
  },
  {
   "cell_type": "code",
   "execution_count": 61,
   "metadata": {},
   "outputs": [
    {
     "name": "stdout",
     "output_type": "stream",
     "text": [
      "0.9934895833333334\n"
     ]
    }
   ],
   "source": [
    "print(asc(encoded_df1_X5,encoded_X5_lr_X5))"
   ]
  },
  {
   "cell_type": "code",
   "execution_count": 62,
   "metadata": {},
   "outputs": [],
   "source": [
    "df_rest_features_ori.to_csv('X5_after_imputation_lr.csv',sep=',', index = False, mode = 'w', header = True)\n",
    "\n",
    "df_new_read = pd.read_csv(\"X5_after_imputation_lr.csv\")\n",
    "X5_new = X5_lr.X5\n",
    "\n",
    "df_new_read['X5'] = X5_new\n",
    "\n",
    "df_new_read.to_csv('X5_after_imputation_lr.csv', index = False, mode = 'w', header = True)\n"
   ]
  },
  {
   "cell_type": "markdown",
   "metadata": {},
   "source": [
    "# Imputation of X4 after X1_rf, X2_rf, X5_knn, Y1, Y2"
   ]
  },
  {
   "cell_type": "markdown",
   "metadata": {},
   "source": [
    "### by KNN"
   ]
  },
  {
   "cell_type": "code",
   "execution_count": 63,
   "metadata": {},
   "outputs": [
    {
     "data": {
      "text/plain": [
       "0.9999846547314578"
      ]
     },
     "execution_count": 63,
     "metadata": {},
     "output_type": "execute_result"
    }
   ],
   "source": [
    "# import the libraries\n",
    "from sklearn.neighbors import KNeighborsRegressor\n",
    "\n",
    "# Saperate the required columns\n",
    "X4_df = pd.read_csv('X5_after_imputation_finl_knn.csv')\n",
    "knn_df_x4=X4_df.drop(['X3','X6','X7','X8'],axis=1)\n",
    "\n",
    "# Drop all the NaN values row so to create train set\n",
    "knn_df_x4_pure = knn_df_x4.dropna()\n",
    "x4_X_train = knn_df_x4_pure.drop('X4',axis=1)\n",
    "x4_y_train = knn_df_x4_pure.X4\n",
    "\n",
    "# Take the rows in which X4 has NaN values\n",
    "x4_X_test =  knn_df_x4[knn_df_x4['X4'].isnull()].drop('X4',axis=1)\n",
    "\n",
    "# Fit the model\n",
    "neigh = KNeighborsRegressor(n_neighbors=5)\n",
    "neigh.fit(x4_X_train, x4_y_train)\n",
    "\n",
    "# Predict new X4 values from KNN\n",
    "predicted_X4_values = neigh.predict(x4_X_test)\n",
    "\n",
    "# Fill the NaN values in X4 column in given data\n",
    "knn_df_x4.X4[knn_df_x4.X4.isnull()]= predicted_X4_values\n",
    "\n",
    "# Compare with original data\n",
    "\n",
    "r2_score(df1.X4,knn_df_x4.X4)"
   ]
  },
  {
   "cell_type": "code",
   "execution_count": 64,
   "metadata": {},
   "outputs": [],
   "source": [
    "df4=pd.read_csv('X5_after_imputation_knn.csv')\n",
    "\n",
    "df_rest_features_ori = df4.drop('X4', axis = 1)\n",
    "df_rest_features_ori.to_csv('X4_after_imputation_knn.csv',sep=',', index = False, mode = 'w', header = True)\n",
    "\n",
    "df_new_read = pd.read_csv(\"X4_after_imputation_knn.csv\")\n",
    "X4_new = knn_df_x4.X4\n",
    "\n",
    "df_new_read['X4'] = X4_new\n",
    "\n",
    "df_new_read.to_csv('X4_after_imputation_knn.csv', index = False, mode = 'w', header = True)\n"
   ]
  },
  {
   "cell_type": "code",
   "execution_count": 65,
   "metadata": {},
   "outputs": [],
   "source": [
    "df_ori = pd.read_csv(\"X5_after_imputation_finl_knn.csv\")\n",
    "\n",
    "df_rest_features_ori = df_ori.drop('X4', axis = 1)\n",
    "\n",
    "df_rest_features_ori.to_csv('X4_after_imputation_finl_knn.csv',sep=',', index = False, mode = 'w', header = True)\n",
    "\n",
    "df_new_read = pd.read_csv(\"X4_after_imputation_finl_knn.csv\")\n",
    "X4_new = knn_df_x4.X4\n",
    "\n",
    "df_new_read['X4'] = X4_new\n",
    "\n",
    "df_new_read.to_csv('X4_after_imputation_finl_knn.csv', index = False, mode = 'w', header = True)\n"
   ]
  },
  {
   "cell_type": "markdown",
   "metadata": {},
   "source": [
    "# Imptation of X7 using X1, X2, X4, X5, Y1, Y2"
   ]
  },
  {
   "cell_type": "markdown",
   "metadata": {},
   "source": [
    "### 1) using MLR"
   ]
  },
  {
   "cell_type": "code",
   "execution_count": 66,
   "metadata": {},
   "outputs": [],
   "source": [
    "X7_df = pd.read_csv(\"X4_after_imputation_finl_knn.csv\")"
   ]
  },
  {
   "cell_type": "code",
   "execution_count": 67,
   "metadata": {},
   "outputs": [],
   "source": [
    "X7_mlr = X7_df.drop(['X3','X6','X8'],axis = 1)\n",
    "X7_mlr_pure = X7_mlr.dropna()\n",
    "X_train = X7_mlr_pure.drop('X7',axis = 1)\n",
    "y_train1 = X7_mlr_pure.drop(['X1','X2','X4','X5','Y1','Y2'],axis = 1)\n",
    "y_train = y_train1.X7*X7_mlr_pure.X4\n",
    "X_test = X7_mlr[X7_mlr['X7'].isnull()].drop('X7',axis=1)\n"
   ]
  },
  {
   "cell_type": "code",
   "execution_count": null,
   "metadata": {},
   "outputs": [],
   "source": []
  },
  {
   "cell_type": "code",
   "execution_count": 68,
   "metadata": {},
   "outputs": [
    {
     "name": "stderr",
     "output_type": "stream",
     "text": [
      "C:\\Users\\Admin\\Anaconda3\\lib\\site-packages\\numpy\\core\\fromnumeric.py:2389: FutureWarning: Method .ptp is deprecated and will be removed in a future version. Use numpy.ptp instead.\n",
      "  return ptp(axis=axis, out=out, **kwargs)\n"
     ]
    },
    {
     "name": "stdout",
     "output_type": "stream",
     "text": [
      "                            OLS Regression Results                            \n",
      "==============================================================================\n",
      "Dep. Variable:                      y   R-squared:                       0.479\n",
      "Model:                            OLS   Adj. R-squared:                  0.474\n",
      "Method:                 Least Squares   F-statistic:                     104.7\n",
      "Date:                Mon, 28 Oct 2019   Prob (F-statistic):           2.25e-93\n",
      "Time:                        08:02:50   Log-Likelihood:                -3026.6\n",
      "No. Observations:                 691   AIC:                             6067.\n",
      "Df Residuals:                     684   BIC:                             6099.\n",
      "Df Model:                           6                                         \n",
      "Covariance Type:            nonrobust                                         \n",
      "==============================================================================\n",
      "                 coef    std err          t      P>|t|      [0.025      0.975]\n",
      "------------------------------------------------------------------------------\n",
      "const       -316.7511    130.713     -2.423      0.016    -573.398     -60.104\n",
      "Y1             4.4222      0.348     12.720      0.000       3.740       5.105\n",
      "Y2            -1.1306      0.371     -3.047      0.002      -1.859      -0.402\n",
      "X1           222.1265     71.981      3.086      0.002      80.796     363.457\n",
      "X2             0.0749      0.088      0.855      0.393      -0.097       0.247\n",
      "X5           -12.3304      2.292     -5.379      0.000     -16.831      -7.829\n",
      "X4             0.7497      0.093      8.074      0.000       0.567       0.932\n",
      "==============================================================================\n",
      "Omnibus:                       64.804   Durbin-Watson:                   0.304\n",
      "Prob(Omnibus):                  0.000   Jarque-Bera (JB):               20.453\n",
      "Skew:                          -0.061   Prob(JB):                     3.62e-05\n",
      "Kurtosis:                       2.166   Cond. No.                     1.42e+05\n",
      "==============================================================================\n",
      "\n",
      "Warnings:\n",
      "[1] Standard Errors assume that the covariance matrix of the errors is correctly specified.\n",
      "[2] The condition number is large, 1.42e+05. This might indicate that there are\n",
      "strong multicollinearity or other numerical problems.\n"
     ]
    }
   ],
   "source": [
    "regression_model = LinearRegression()\n",
    "regression_model.fit(X_train, y_train)\n",
    "RX = sm.add_constant(X_train)\n",
    "model = sm.OLS(y_train,RX)\n",
    "est = model.fit()\n",
    "print(est.summary())"
   ]
  },
  {
   "cell_type": "code",
   "execution_count": 69,
   "metadata": {},
   "outputs": [],
   "source": [
    "X7_mlr_predict1 = regression_model.predict(X_test)\n",
    "X7_mlr_predict = X7_mlr_predict1/X_test.X4\n",
    "X7_mlr.X7[X7_mlr.X7.isnull()]= X7_mlr_predict"
   ]
  },
  {
   "cell_type": "code",
   "execution_count": 70,
   "metadata": {},
   "outputs": [
    {
     "data": {
      "text/plain": [
       "0.9430113092504228"
      ]
     },
     "execution_count": 70,
     "metadata": {},
     "output_type": "execute_result"
    }
   ],
   "source": [
    "r2_score(df1.X7, X7_mlr.X7)"
   ]
  },
  {
   "cell_type": "markdown",
   "metadata": {},
   "source": [
    "### 2) Using KNN Regressor"
   ]
  },
  {
   "cell_type": "code",
   "execution_count": 71,
   "metadata": {},
   "outputs": [],
   "source": [
    "X7_knn = X7_df.drop(['X3','X6','X8'],axis = 1)\n",
    "X7_knn_pure = X7_knn.dropna()\n",
    "X_train = X7_knn_pure.drop('X7',axis = 1)\n",
    "y_train1 = X7_knn_pure.drop(['X1','X2','X4','X5','Y1','Y2'],axis = 1)\n",
    "y_train = y_train1.X7*X7_knn_pure.X4\n",
    "X_test = X7_knn[X7_knn['X7'].isnull()].drop('X7',axis=1)\n"
   ]
  },
  {
   "cell_type": "code",
   "execution_count": 72,
   "metadata": {},
   "outputs": [
    {
     "data": {
      "text/plain": [
       "KNeighborsRegressor(algorithm='auto', leaf_size=30, metric='minkowski',\n",
       "                    metric_params=None, n_jobs=None, n_neighbors=5, p=2,\n",
       "                    weights='uniform')"
      ]
     },
     "execution_count": 72,
     "metadata": {},
     "output_type": "execute_result"
    }
   ],
   "source": [
    "# Fit the model\n",
    "neigh = KNeighborsRegressor(n_neighbors=5)\n",
    "neigh.fit(X_train, y_train)"
   ]
  },
  {
   "cell_type": "code",
   "execution_count": 73,
   "metadata": {},
   "outputs": [],
   "source": [
    "# Predict new X7 values from KNN\n",
    "\n",
    "X7_knn_predict1 = neigh.predict(X_test)\n",
    "X7_knn_predict = X7_knn_predict1/X_test.X4"
   ]
  },
  {
   "cell_type": "code",
   "execution_count": 74,
   "metadata": {},
   "outputs": [],
   "source": [
    "# Fill the NaN values in X7 column in given data\n",
    "X7_knn.X7[X7_knn.X7.isnull()]= X7_knn_predict"
   ]
  },
  {
   "cell_type": "code",
   "execution_count": 75,
   "metadata": {},
   "outputs": [
    {
     "data": {
      "text/plain": [
       "0.9986850321395776"
      ]
     },
     "execution_count": 75,
     "metadata": {},
     "output_type": "execute_result"
    }
   ],
   "source": [
    "r2_score(df1.X7, X7_knn.X7)"
   ]
  },
  {
   "cell_type": "code",
   "execution_count": 76,
   "metadata": {},
   "outputs": [],
   "source": [
    "df7=pd.read_csv('X4_after_imputation_knn.csv')\n",
    "\n",
    "df_rest_features_ori = df7.drop('X7', axis = 1)\n",
    "df_rest_features_ori.to_csv('X7_after_imputation_knn.csv',sep=',', index = False, mode = 'w', header = True)\n",
    "\n",
    "df_new_read = pd.read_csv(\"X7_after_imputation_knn.csv\")\n",
    "X7_new = X7_knn.X7\n",
    "\n",
    "df_new_read['X7'] = X7_new\n",
    "\n",
    "df_new_read.to_csv('X7_after_imputation_knn.csv', index = False, mode = 'w', header = True)"
   ]
  },
  {
   "cell_type": "markdown",
   "metadata": {},
   "source": [
    "### 3) Using KNN Classifier"
   ]
  },
  {
   "cell_type": "code",
   "execution_count": 77,
   "metadata": {},
   "outputs": [],
   "source": [
    "from sklearn.neighbors import KNeighborsClassifier\n",
    "from sklearn import preprocessing\n",
    "from sklearn.metrics import confusion_matrix\n",
    "\n",
    "# Made a new dataframe for correlated features \n",
    "\n",
    "X7_knncl = X7_df.drop(['X3','X6','X8'],axis=1)\n",
    "\n",
    "# Drop all the NaN values row so to create train set\n",
    "pure_knn_df=X7_knncl.dropna()\n",
    "knn_X_train= pure_knn_df.drop('X7',axis=1)\n",
    "knn_y_train = pure_knn_df.X7\n",
    "\n",
    "# Take the rows in which X5 has NaN values\n",
    "knn_X_test = X7_knncl[X7_knncl['X7'].isnull()].drop('X7',axis=1)\n"
   ]
  },
  {
   "cell_type": "code",
   "execution_count": 78,
   "metadata": {},
   "outputs": [
    {
     "name": "stdout",
     "output_type": "stream",
     "text": [
      "[[ 48   0   0   0]\n",
      " [  0 240   0   0]\n",
      " [  0   0 240   0]\n",
      " [  0   0   0 240]]\n"
     ]
    }
   ],
   "source": [
    "# Label the data in X5\n",
    "lab_enc = preprocessing.LabelEncoder()\n",
    "encoded_knn_y_train = lab_enc.fit_transform(knn_y_train)\n",
    "\n",
    "# Train KNN learner\n",
    "clf = KNeighborsClassifier(n_neighbors=5,weights='distance',algorithm='auto',leaf_size=30,p=2,metric='minkowski',\n",
    "                           metric_params=None,n_jobs=None)\n",
    "knn_trained_model = clf.fit(knn_X_train, encoded_knn_y_train)\n",
    "encoded_predicted_X7_values = knn_trained_model.predict(knn_X_test)\n",
    "\n",
    "# Decode the the binary values in X5 \n",
    "predicted_X7_values = lab_enc.inverse_transform(encoded_predicted_X7_values)\n",
    "\n",
    "# Predict missing values' class\n",
    "X7_knncl.X7[X7_knncl.X7.isnull()]= predicted_X7_values\n",
    "\n",
    "# Compare with original values of X5 by using confusion matrix\n",
    "encoded_df1_X7 = lab_enc.fit_transform(df1.X7)\n",
    "encoded_X7_knn_X7 = lab_enc.fit_transform(X7_knncl.X7)\n",
    "print(confusion_matrix(encoded_df1_X7,encoded_X7_knn_X7))\n"
   ]
  },
  {
   "cell_type": "code",
   "execution_count": 79,
   "metadata": {},
   "outputs": [],
   "source": [
    "df_rest_features_ori = df7.drop('X7', axis = 1)\n",
    "df_rest_features_ori.to_csv('X7_after_imputation_knncl.csv',sep=',', index = False, mode = 'w', header = True)\n",
    "\n",
    "df_new_read = pd.read_csv(\"X7_after_imputation_knncl.csv\")\n",
    "X7_new = X7_knncl.X7\n",
    "\n",
    "df_new_read['X7'] = X7_new\n",
    "\n",
    "df_new_read.to_csv('X7_after_imputation_knncl.csv', index = False, mode = 'w', header = True)"
   ]
  },
  {
   "cell_type": "code",
   "execution_count": 80,
   "metadata": {},
   "outputs": [],
   "source": [
    "df_ori = pd.read_csv(\"X4_after_imputation_finl_knn.csv\")\n",
    "\n",
    "df_rest_features_ori = df_ori.drop('X7', axis = 1)\n",
    "\n",
    "df_rest_features_ori.to_csv('X7_after_imputation_finl_knn.csv',sep=',', index = False, mode = 'w', header = True)\n",
    "\n",
    "df_new_read = pd.read_csv(\"X7_after_imputation_finl_knn.csv\")\n",
    "X7_new = X7_knncl.X7\n",
    "\n",
    "df_new_read['X7'] = X7_new\n",
    "\n",
    "df_new_read.to_csv('X7_after_imputation_finl_knn.csv', index = False, mode = 'w', header = True)\n"
   ]
  },
  {
   "cell_type": "markdown",
   "metadata": {},
   "source": [
    "## Imputation of X3"
   ]
  },
  {
   "cell_type": "markdown",
   "metadata": {},
   "source": [
    "## 1) X3 by using linear regression"
   ]
  },
  {
   "cell_type": "code",
   "execution_count": 81,
   "metadata": {},
   "outputs": [],
   "source": [
    "X3_df = pd.read_csv(\"X7_after_imputation_finl_knn.csv\")"
   ]
  },
  {
   "cell_type": "code",
   "execution_count": 82,
   "metadata": {},
   "outputs": [],
   "source": [
    "X3_mlr = X3_df.drop(['X6','X8'],axis = 1)\n",
    "X3_mlr_pure = X3_mlr.dropna()\n",
    "X_train = X3_mlr_pure.drop('X3',axis = 1)\n",
    "y_train = X3_mlr_pure.X3\n",
    "X_test = X3_mlr[X3_mlr['X3'].isnull()].drop('X3',axis=1)\n"
   ]
  },
  {
   "cell_type": "code",
   "execution_count": 83,
   "metadata": {},
   "outputs": [
    {
     "name": "stdout",
     "output_type": "stream",
     "text": [
      "                            OLS Regression Results                            \n",
      "==============================================================================\n",
      "Dep. Variable:                     X3   R-squared:                       0.996\n",
      "Model:                            OLS   Adj. R-squared:                  0.996\n",
      "Method:                 Least Squares   F-statistic:                 2.661e+04\n",
      "Date:                Mon, 28 Oct 2019   Prob (F-statistic):               0.00\n",
      "Time:                        08:02:53   Log-Likelihood:                -1652.2\n",
      "No. Observations:                 691   AIC:                             3320.\n",
      "Df Residuals:                     683   BIC:                             3357.\n",
      "Df Model:                           7                                         \n",
      "Covariance Type:            nonrobust                                         \n",
      "==============================================================================\n",
      "                 coef    std err          t      P>|t|      [0.025      0.975]\n",
      "------------------------------------------------------------------------------\n",
      "const          3.5425     17.854      0.198      0.843     -31.512      38.597\n",
      "Y1             0.1068      0.056      1.913      0.056      -0.003       0.216\n",
      "Y2            -0.0469      0.051     -0.912      0.362      -0.148       0.054\n",
      "X1             1.5114      9.874      0.153      0.878     -17.876      20.899\n",
      "X2             0.9947      0.012     83.051      0.000       0.971       1.018\n",
      "X5            -0.5715      0.323     -1.767      0.078      -1.206       0.063\n",
      "X4            -1.9951      0.013   -154.589      0.000      -2.020      -1.970\n",
      "X7            -1.0718      1.035     -1.036      0.301      -3.103       0.960\n",
      "==============================================================================\n",
      "Omnibus:                      379.217   Durbin-Watson:                   2.000\n",
      "Prob(Omnibus):                  0.000   Jarque-Bera (JB):          2898950.833\n",
      "Skew:                           0.408   Prob(JB):                         0.00\n",
      "Kurtosis:                     320.311   Cond. No.                     1.41e+05\n",
      "==============================================================================\n",
      "\n",
      "Warnings:\n",
      "[1] Standard Errors assume that the covariance matrix of the errors is correctly specified.\n",
      "[2] The condition number is large, 1.41e+05. This might indicate that there are\n",
      "strong multicollinearity or other numerical problems.\n"
     ]
    },
    {
     "name": "stderr",
     "output_type": "stream",
     "text": [
      "C:\\Users\\Admin\\Anaconda3\\lib\\site-packages\\numpy\\core\\fromnumeric.py:2389: FutureWarning: Method .ptp is deprecated and will be removed in a future version. Use numpy.ptp instead.\n",
      "  return ptp(axis=axis, out=out, **kwargs)\n"
     ]
    }
   ],
   "source": [
    "regression_model = LinearRegression()\n",
    "regression_model.fit(X_train, y_train)\n",
    "RX = sm.add_constant(X_train)\n",
    "model = sm.OLS(y_train,RX)\n",
    "est = model.fit()\n",
    "print(est.summary())"
   ]
  },
  {
   "cell_type": "code",
   "execution_count": 84,
   "metadata": {},
   "outputs": [],
   "source": [
    "X3_mlr_predict = regression_model.predict(X_test)\n",
    "X3_mlr.X3[X3_mlr.X3.isnull()]= X3_mlr_predict"
   ]
  },
  {
   "cell_type": "code",
   "execution_count": 85,
   "metadata": {},
   "outputs": [
    {
     "data": {
      "text/plain": [
       "0.9999948541905687"
      ]
     },
     "execution_count": 85,
     "metadata": {},
     "output_type": "execute_result"
    }
   ],
   "source": [
    "r2_score(df1.X3, X3_mlr.X3)"
   ]
  },
  {
   "cell_type": "code",
   "execution_count": 86,
   "metadata": {},
   "outputs": [],
   "source": [
    "df3=pd.read_csv('X7_after_imputation_knncl.csv')\n",
    "\n",
    "df_rest_features_ori = df3.drop('X3', axis = 1)\n",
    "df_rest_features_ori.to_csv('X3_after_imputation_mlr.csv',sep=',', index = False, mode = 'w', header = True)\n",
    "\n",
    "df_new_read = pd.read_csv(\"X3_after_imputation_mlr.csv\")\n",
    "X3_new = X3_mlr.X3\n",
    "\n",
    "df_new_read['X3'] = X3_new\n",
    "\n",
    "df_new_read.to_csv('X3_after_imputation_mlr.csv', index = False, mode = 'w', header = True)"
   ]
  },
  {
   "cell_type": "markdown",
   "metadata": {},
   "source": [
    "## 2) X3 by Decision trees"
   ]
  },
  {
   "cell_type": "code",
   "execution_count": 87,
   "metadata": {},
   "outputs": [],
   "source": [
    "X3_dt = X3_df.drop(['X6','X8'],axis = 1)\n",
    "X3_dt_pure = X3_dt.dropna()\n",
    "X_train = X3_dt_pure.drop('X3',axis = 1)\n",
    "y_train = X3_dt_pure.X3\n",
    "X_test = X3_dt[X3_dt['X3'].isnull()].drop('X3',axis=1)"
   ]
  },
  {
   "cell_type": "code",
   "execution_count": 88,
   "metadata": {},
   "outputs": [],
   "source": [
    "from sklearn.tree import DecisionTreeRegressor\n",
    "regr_dt = DecisionTreeRegressor(random_state=0)\n",
    "regr_dt.fit(X_train, y_train)\n",
    "predicted_X3 = regr_dt.predict(X_test)\n",
    "X3_dt.X3[X3_dt.X3.isnull()]= predicted_X3"
   ]
  },
  {
   "cell_type": "code",
   "execution_count": 89,
   "metadata": {},
   "outputs": [
    {
     "data": {
      "text/plain": [
       "1.0"
      ]
     },
     "execution_count": 89,
     "metadata": {},
     "output_type": "execute_result"
    }
   ],
   "source": [
    "r2_score(df1.X3,X3_dt.X3)"
   ]
  },
  {
   "cell_type": "code",
   "execution_count": 90,
   "metadata": {},
   "outputs": [],
   "source": [
    "df_rest_features_ori.to_csv('X3_after_imputation_dt.csv',sep=',', index = False, mode = 'w', header = True)\n",
    "\n",
    "df_new_read = pd.read_csv(\"X3_after_imputation_dt.csv\")\n",
    "X3_new = X3_dt.X3\n",
    "\n",
    "df_new_read['X3'] = X3_new\n",
    "\n",
    "df_new_read.to_csv('X3_after_imputation_dt.csv', index = False, mode = 'w', header = True)"
   ]
  },
  {
   "cell_type": "markdown",
   "metadata": {},
   "source": [
    "## 3) X3 by KNN"
   ]
  },
  {
   "cell_type": "code",
   "execution_count": 95,
   "metadata": {},
   "outputs": [
    {
     "data": {
      "text/plain": [
       "0.9999798976608187"
      ]
     },
     "execution_count": 95,
     "metadata": {},
     "output_type": "execute_result"
    }
   ],
   "source": [
    "# import the libraries\n",
    "from sklearn.neighbors import KNeighborsRegressor\n",
    "\n",
    "X3_knn = X3_df.drop(['X6','X8'],axis = 1)\n",
    "X3_knn_pure = X3_knn.dropna()\n",
    "X_train = X3_knn_pure.drop('X3',axis = 1)\n",
    "y_train = X3_knn_pure.X3\n",
    "X_test = X3_knn[X3_knn['X3'].isnull()].drop('X3',axis=1)\n",
    "\n",
    "# Fit the model\n",
    "neigh = KNeighborsRegressor(n_neighbors=i+1)\n",
    "neigh.fit(X_train, y_train)\n",
    "\n",
    "# Predict new X4 values from KNN\n",
    "predicted_X3 = neigh.predict(X_test)\n",
    "\n",
    "# Fill the NaN values in X4 column in given data\n",
    "X3_knn.X3[X3_knn.X3.isnull()]= predicted_X3\n",
    "\n",
    "# Compare with original data\n",
    "\n",
    "r2_score(df1.X3,X3_knn.X3)\n",
    "  "
   ]
  },
  {
   "cell_type": "code",
   "execution_count": 96,
   "metadata": {},
   "outputs": [],
   "source": [
    "df_rest_features_ori.to_csv('X3_after_imputation_knn.csv',sep=',', index = False, mode = 'w', header = True)\n",
    "\n",
    "df_new_read = pd.read_csv(\"X3_after_imputation_knn.csv\")\n",
    "X3_new = X3_knn.X3\n",
    "\n",
    "df_new_read['X3'] = X3_new\n",
    "\n",
    "df_new_read.to_csv('X3_after_imputation_knn.csv', index = False, mode = 'w', header = True)"
   ]
  },
  {
   "cell_type": "code",
   "execution_count": 97,
   "metadata": {},
   "outputs": [],
   "source": [
    "df_ori = pd.read_csv(\"X7_after_imputation_finl_knn.csv\")\n",
    "\n",
    "df_rest_features_ori = df_ori.drop('X3', axis = 1)\n",
    "\n",
    "df_rest_features_ori.to_csv('X3_after_imputation_finl_knn.csv',sep=',', index = False, mode = 'w', header = True)\n",
    "\n",
    "df_new_read = pd.read_csv(\"X3_after_imputation_finl_knn.csv\")\n",
    "X3_new = X3_knn.X3\n",
    "\n",
    "df_new_read['X3'] = X3_new\n",
    "\n",
    "df_new_read.to_csv('X3_after_imputation_finl_knn.csv', index = False, mode = 'w', header = True)\n"
   ]
  },
  {
   "cell_type": "markdown",
   "metadata": {},
   "source": [
    "# Imputation of X6"
   ]
  },
  {
   "cell_type": "markdown",
   "metadata": {},
   "source": [
    "### Making training and testing sets for X6"
   ]
  },
  {
   "cell_type": "code",
   "execution_count": 98,
   "metadata": {},
   "outputs": [],
   "source": [
    "import numpy as np\n",
    "import pandas as pd \n",
    "from sklearn.metrics import confusion_matrix as cm\n",
    "from sklearn.metrics import accuracy_score as asc\n",
    "from sklearn.metrics import r2_score as r2\n",
    "\n",
    "df = pd.read_csv(\"knock_0.csv\")\n",
    "\n",
    "df.head()\n",
    "X6_0 = df['X6']\n",
    "\n",
    "X6_imp = X6_0.fillna(6)\n",
    "X6_imp.to_csv('X6_imputation.csv',sep=',', index = False, mode = 'w', header = True)\n",
    "\n",
    "df_imp = pd.read_csv(\"X6_imputation.csv\")\n",
    "\n",
    "Y1 = df.Y1\n",
    "Y2 = df.Y2\n",
    "\n",
    "df_imp['Y1'] = Y1\n",
    "df_imp['Y2'] = Y2\n",
    "df_imp.to_csv('X6_imputation.csv', index = False, mode = 'w', header = True)\n",
    "\n",
    "df_imp6 = pd.read_csv(\"X6_imputation.csv\")\n",
    "X6 = df_imp6.iloc[:,0].values\n",
    "y1 = df_imp6.iloc[:,1].values\n",
    "y2 = df_imp6.iloc[:,2].values\n",
    "x_train = []\n",
    "x_test = []\n",
    "y_test = []\n",
    "y_train = []\n",
    "\n",
    "for i in range(len(X6)):\n",
    "    if X6[i] == 6:\n",
    "        x_test.append(X6[i])\n",
    "    else:\n",
    "        x_train.append(X6[i])\n",
    "\n",
    "x_test1 = np.array(x_test).reshape(1, 77)\n",
    "x_train1 = np.array(x_train).reshape(1,691)\n",
    "x_train = x_train1[0]\n",
    "\n",
    "for i in range(len(X6)):\n",
    "    c=[]\n",
    "    if X6[i] == 6:\n",
    "        Y1_val = y1[i]\n",
    "        Y2_val = y2[i]\n",
    "        c.append(Y1_val)\n",
    "        c.append(Y2_val)\n",
    "        y_test.append(c)\n",
    "    else:\n",
    "         Y1_val = y1[i]\n",
    "         Y2_val = y2[i]\n",
    "         c.append(Y1_val)\n",
    "         c.append(Y2_val)\n",
    "         y_train.append(c)\n",
    "\n",
    "y_test = np.array(y_test)\n",
    "y_train = np.array(y_train)"
   ]
  },
  {
   "cell_type": "markdown",
   "metadata": {},
   "source": [
    "### 1) Using LDA using Y1 and Y2"
   ]
  },
  {
   "cell_type": "code",
   "execution_count": 99,
   "metadata": {},
   "outputs": [],
   "source": [
    "from sklearn.discriminant_analysis import LinearDiscriminantAnalysis as LDA\n",
    "\n",
    "lda = LDA()\n",
    "\n",
    "imputation_model_lda = lda.fit(y_train, x_train)\n",
    "\n",
    "pred_lda = lda.predict(y_test)\n",
    "\n",
    "count = 0\n",
    "a = 0\n",
    "for i in range(len(X6)):\n",
    "    if X6[i] == 6:\n",
    "        rep = pred_lda[count]\n",
    "        X6[i] =  rep\n",
    "        count = count + 1\n",
    "    else:\n",
    "        a = a+1\n",
    "\n",
    "df_ori = pd.read_excel(\"ENB2012_data.xlsx\")\n",
    "\n",
    "X6_ori = df_ori.iloc[:,5].values\n",
    "\n"
   ]
  },
  {
   "cell_type": "code",
   "execution_count": 100,
   "metadata": {},
   "outputs": [
    {
     "data": {
      "text/plain": [
       "array([[172,  13,   0,   7],\n",
       "       [  0, 186,   0,   6],\n",
       "       [  3,  11, 170,   8],\n",
       "       [  3,   8,   0, 181]], dtype=int64)"
      ]
     },
     "execution_count": 100,
     "metadata": {},
     "output_type": "execute_result"
    }
   ],
   "source": [
    "cm(df_ori.X6, X6)"
   ]
  },
  {
   "cell_type": "code",
   "execution_count": 101,
   "metadata": {},
   "outputs": [
    {
     "data": {
      "text/plain": [
       "0.9231770833333334"
      ]
     },
     "execution_count": 101,
     "metadata": {},
     "output_type": "execute_result"
    }
   ],
   "source": [
    "asc(df_ori.X6, X6)"
   ]
  },
  {
   "cell_type": "code",
   "execution_count": 102,
   "metadata": {},
   "outputs": [
    {
     "data": {
      "text/plain": [
       "0.2706222865412446"
      ]
     },
     "execution_count": 102,
     "metadata": {},
     "output_type": "execute_result"
    }
   ],
   "source": [
    "# for model fitted data sets\n",
    "asc(lda.predict(y_train), x_train)"
   ]
  },
  {
   "cell_type": "code",
   "execution_count": 103,
   "metadata": {},
   "outputs": [],
   "source": [
    "df_ori = pd.read_excel(\"ENB2012_data.xlsx\")\n",
    "y_ori = df_ori.drop(['X1','X2', 'X3', 'X4', 'X5', 'X6', 'X8', 'X7'], axis = 1)"
   ]
  },
  {
   "cell_type": "code",
   "execution_count": 104,
   "metadata": {},
   "outputs": [
    {
     "data": {
      "text/plain": [
       "0.2669270833333333"
      ]
     },
     "execution_count": 104,
     "metadata": {},
     "output_type": "execute_result"
    }
   ],
   "source": [
    "# for original unknocked data\n",
    "asc(lda.predict(y_ori), X6_ori)"
   ]
  },
  {
   "cell_type": "code",
   "execution_count": 105,
   "metadata": {},
   "outputs": [],
   "source": [
    "df_ori1 = pd.read_csv('X3_after_imputation_knn.csv')\n",
    "df_rest_features_ori = df_ori1.drop('X6', axis = 1)\n",
    "\n",
    "df_rest_features_ori.to_csv('X6_after_imputation_lda.csv',sep=',', index = False, mode = 'w', header = True)\n",
    "\n",
    "df_new_read = pd.read_csv(\"X6_after_imputation_lda.csv\")\n",
    "X6_new = X6\n",
    "\n",
    "df_new_read['X6'] = X6_new\n",
    "\n",
    "df_new_read.to_csv('X6_after_imputation_lda.csv', index = False, mode = 'w', header = True)\n",
    "\n",
    "df_y = pd.read_csv(\"X6_after_imputation_lda.csv\")\n",
    "Y1 = df_ori.Y1\n",
    "Y2 = df_ori.Y2\n",
    "\n",
    "df_y['Y1'] = Y1\n",
    "df_y['Y2'] = Y2\n",
    "df_y.to_csv('X6_after_imputation_lda.csv', index = False, mode = 'w', header = True)"
   ]
  },
  {
   "cell_type": "markdown",
   "metadata": {},
   "source": [
    "### 2) Using QDA"
   ]
  },
  {
   "cell_type": "code",
   "execution_count": null,
   "metadata": {},
   "outputs": [],
   "source": [
    "from sklearn.discriminant_analysis import QuadraticDiscriminantAnalysis as QDA\n",
    "\n",
    "qda = QDA()\n",
    "\n",
    "imputation_model = qda.fit(y_train, x_train)\n",
    "\n",
    "pred = qda.predict(y_test)\n",
    "\n",
    "count = 0\n",
    "a = 0\n",
    "for i in range(len(X6)):\n",
    "    if X6[i] == 6:\n",
    "        rep = pred[count]\n",
    "        X6[i] =  rep\n",
    "        count = count + 1\n",
    "    else:\n",
    "        a = a+1\n",
    "\n",
    "df_ori = pd.read_excel(\"ENB2012_data.xlsx\")\n",
    "\n",
    "X6_ori = df_ori.iloc[:,5].values"
   ]
  },
  {
   "cell_type": "code",
   "execution_count": null,
   "metadata": {},
   "outputs": [],
   "source": [
    "cm(df_ori.X6, X6)"
   ]
  },
  {
   "cell_type": "code",
   "execution_count": null,
   "metadata": {},
   "outputs": [],
   "source": [
    "asc(df_ori.X6, X6)"
   ]
  },
  {
   "cell_type": "code",
   "execution_count": null,
   "metadata": {},
   "outputs": [],
   "source": [
    "r2( x_train, qda.predict(y_train))"
   ]
  },
  {
   "cell_type": "code",
   "execution_count": null,
   "metadata": {},
   "outputs": [],
   "source": [
    "# for model fitted data sets\n",
    "asc(qda.predict(y_train), x_train)"
   ]
  },
  {
   "cell_type": "code",
   "execution_count": null,
   "metadata": {},
   "outputs": [],
   "source": [
    "# for original unknocked data\n",
    "asc(qda.predict(y_ori), X6_ori)"
   ]
  },
  {
   "cell_type": "code",
   "execution_count": null,
   "metadata": {},
   "outputs": [],
   "source": [
    "df_rest_features_ori = df_ori1.drop('X6', axis = 1)\n",
    "\n",
    "df_rest_features_ori.to_csv('X6_after_imputation.csv',sep=',', index = False, mode = 'w', header = True)\n",
    "\n",
    "df_new_read = pd.read_csv(\"X6_after_imputation.csv\")\n",
    "X6_new = X6\n",
    "\n",
    "df_new_read['X6'] = X6_new\n",
    "\n",
    "df_new_read.to_csv('X6_after_imputation.csv', index = False, mode = 'w', header = True)\n",
    "\n",
    "df_y = pd.read_csv(\"X6_after_imputation.csv\")\n",
    "Y1 = df_ori.Y1\n",
    "Y2 = df_ori.Y2\n",
    "\n",
    "df_y['Y1'] = Y1\n",
    "df_y['Y2'] = Y2\n",
    "df_y.to_csv('X6_after_imputation.csv', index = False, mode = 'w', header = True)\n"
   ]
  },
  {
   "cell_type": "markdown",
   "metadata": {},
   "source": [
    "### 3) Using KNN classifier with optimum k"
   ]
  },
  {
   "cell_type": "code",
   "execution_count": null,
   "metadata": {},
   "outputs": [],
   "source": [
    "from sklearn.neighbors import KNeighborsClassifier\n",
    "k_list = []\n",
    "asc_list = []\n",
    "df_ori = pd.read_excel(\"ENB2012_data.xlsx\")\n",
    "for i in range(30):\n",
    "    df = pd.read_csv(\"knock_0.csv\")\n",
    "    X6_knncl = df.X6\n",
    "    KN = KNeighborsClassifier(n_neighbors = i+1)\n",
    "    KNN = KN.fit(y_train, x_train)\n",
    "    pred_KNN = KNN.predict(y_test)\n",
    "    X6_knncl[X6_knncl.isnull()]= pred_KNN\n",
    "    count = 0\n",
    "    a = 0    \n",
    "    asc_val = asc(df_ori.X6, X6_knncl)\n",
    "    asc_list.append(asc_val)\n",
    "    k_list.append(i+1) "
   ]
  },
  {
   "cell_type": "code",
   "execution_count": null,
   "metadata": {},
   "outputs": [],
   "source": [
    "plt.scatter(k_list, asc_list)\n",
    "plt.xlabel('K')\n",
    "plt.ylabel(\"Accuracy\")\n",
    "plt.title(\"Accuracy vs K\")"
   ]
  },
  {
   "cell_type": "code",
   "execution_count": null,
   "metadata": {
    "scrolled": true
   },
   "outputs": [],
   "source": [
    "np.max(asc_list)"
   ]
  },
  {
   "cell_type": "code",
   "execution_count": null,
   "metadata": {},
   "outputs": [],
   "source": [
    "asc_list.index(np.max(asc_list)) + 1"
   ]
  },
  {
   "cell_type": "markdown",
   "metadata": {},
   "source": [
    "thus highest accuracy is for k = 1"
   ]
  },
  {
   "cell_type": "markdown",
   "metadata": {},
   "source": [
    "### 4) Using ANN with 10 neurons in hidden layer and 5 hidden layer"
   ]
  },
  {
   "cell_type": "markdown",
   "metadata": {},
   "source": [
    "we tried different values for number of hidden layers and number of neurons in each layer and found this combination to be most optimum"
   ]
  },
  {
   "cell_type": "code",
   "execution_count": null,
   "metadata": {},
   "outputs": [],
   "source": [
    "from sklearn.neural_network import MLPClassifier\n",
    "\n",
    "nn = MLPClassifier(hidden_layer_sizes = (10,10,10,10,10,), max_iter = 200, solver = 'lbfgs')\n",
    "\n",
    "nn_5_2 = nn.fit(y_train, x_train)\n",
    "\n",
    "pred_nn5 = nn_5_2.predict(y_test)\n",
    "\n",
    "count = 0\n",
    "a = 0\n",
    "for i in range(len(X6)):\n",
    "    if X6[i] == 6:\n",
    "        rep = pred_nn5[count]\n",
    "        X6[i] =  rep\n",
    "        count = count + 1\n",
    "    else:\n",
    "        a = a+1\n",
    "\n",
    "df_ori = pd.read_excel(\"ENB2012_data.xlsx\")\n",
    "\n",
    "X6_ori = df_ori.iloc[:,5].values\n"
   ]
  },
  {
   "cell_type": "code",
   "execution_count": null,
   "metadata": {},
   "outputs": [],
   "source": [
    "cm(df_ori.X6, X6)"
   ]
  },
  {
   "cell_type": "code",
   "execution_count": null,
   "metadata": {},
   "outputs": [],
   "source": [
    "asc(df_ori.X6, X6)"
   ]
  },
  {
   "cell_type": "code",
   "execution_count": null,
   "metadata": {},
   "outputs": [],
   "source": [
    "# for model fitted data sets\n",
    "asc(nn_5_2.predict(y_train), x_train)"
   ]
  },
  {
   "cell_type": "code",
   "execution_count": null,
   "metadata": {},
   "outputs": [],
   "source": [
    "# for original unknocked data\n",
    "asc(nn_5_2.predict(y_ori), X6_ori)"
   ]
  },
  {
   "cell_type": "code",
   "execution_count": null,
   "metadata": {},
   "outputs": [],
   "source": [
    "df_rest_features_ori = df_ori1.drop('X6', axis = 1)\n",
    "\n",
    "df_rest_features_ori.to_csv('X6_after_imputation_ANN5.csv',sep=',', index = False, mode = 'w', header = True)\n",
    "\n",
    "df_new_read = pd.read_csv(\"X6_after_imputation_ANN5.csv\")\n",
    "X6_new = X6\n",
    "\n",
    "df_new_read['X6'] = X6_new\n",
    "\n",
    "df_new_read.to_csv('X6_after_imputation_ANN5.csv', index = False, mode = 'w', header = True)\n",
    "\n",
    "df_y = pd.read_csv(\"X6_after_imputation_ANN5.csv\")\n",
    "Y1 = df_ori.Y1\n",
    "Y2 = df_ori.Y2\n",
    "\n",
    "df_y['Y1'] = Y1\n",
    "df_y['Y2'] = Y2\n",
    "df_y.to_csv('X6_after_imputation_ANN5.csv', index = False, mode = 'w', header = True)"
   ]
  },
  {
   "cell_type": "markdown",
   "metadata": {},
   "source": [
    "### 5) Using Decision Tree classifier"
   ]
  },
  {
   "cell_type": "code",
   "execution_count": null,
   "metadata": {},
   "outputs": [],
   "source": [
    "from sklearn.tree import DecisionTreeClassifier\n",
    "\n",
    "dt = DecisionTreeClassifier(random_state=0)\n",
    "\n",
    "dt_model = dt.fit(y_train,x_train)\n",
    "\n",
    "pred_dt = dt_model.predict(y_test)\n",
    "\n",
    "count = 0\n",
    "a = 0\n",
    "for i in range(len(X6)):\n",
    "    if X6[i] == 6:\n",
    "        rep = pred_dt[count]\n",
    "        X6[i] =  rep\n",
    "        count = count + 1\n",
    "    else:\n",
    "        a = a+1\n",
    "\n",
    "df_ori = pd.read_excel(\"ENB2012_data.xlsx\")\n",
    "\n",
    "X6_ori = df_ori.iloc[:,5].values"
   ]
  },
  {
   "cell_type": "code",
   "execution_count": null,
   "metadata": {},
   "outputs": [],
   "source": [
    "cm(df_ori.X6, X6)"
   ]
  },
  {
   "cell_type": "code",
   "execution_count": null,
   "metadata": {},
   "outputs": [],
   "source": [
    "asc(df_ori.X6, X6)"
   ]
  },
  {
   "cell_type": "code",
   "execution_count": null,
   "metadata": {},
   "outputs": [],
   "source": [
    "# for model fitted data sets\n",
    "asc(dt_model.predict(y_train), x_train)"
   ]
  },
  {
   "cell_type": "code",
   "execution_count": null,
   "metadata": {},
   "outputs": [],
   "source": [
    "# for original unknocked data\n",
    "asc(dt_model.predict(y_ori), X6_ori)"
   ]
  },
  {
   "cell_type": "code",
   "execution_count": null,
   "metadata": {},
   "outputs": [],
   "source": [
    "df_rest_features_ori = df_ori1.drop('X6', axis = 1)\n",
    "\n",
    "df_rest_features_ori.to_csv('X6_after_imputation_Dt.csv',sep=',', index = False, mode = 'w', header = True)\n",
    "\n",
    "df_new_read = pd.read_csv(\"X6_after_imputation_Dt.csv\")\n",
    "X6_new = X6\n",
    "\n",
    "df_new_read['X6'] = X6_new\n",
    "\n",
    "df_new_read.to_csv('X6_after_imputation_Dt.csv', index = False, mode = 'w', header = True)\n",
    "\n",
    "df_y = pd.read_csv(\"X6_after_imputation_Dt.csv\")\n",
    "Y1 = df_ori.Y1\n",
    "Y2 = df_ori.Y2\n",
    "\n",
    "df_y['Y1'] = Y1\n",
    "df_y['Y2'] = Y2\n",
    "df_y.to_csv('X6_after_imputation_Dt.csv', index = False, mode = 'w', header = True)"
   ]
  },
  {
   "cell_type": "code",
   "execution_count": null,
   "metadata": {},
   "outputs": [],
   "source": [
    "df_ori = pd.read_csv(\"X3_after_imputation_finl_knn.csv\")\n",
    "\n",
    "df_rest_features_ori = df_ori.drop('X6', axis = 1)\n",
    "\n",
    "df_rest_features_ori.to_csv('X6_after_imputation_finl_dt.csv',sep=',', index = False, mode = 'w', header = True)\n",
    "\n",
    "df_new_read = pd.read_csv(\"X6_after_imputation_finl_dt.csv\")\n",
    "\n",
    "\n",
    "df_new_read['X6'] = X6_new\n",
    "\n",
    "df_new_read.to_csv('X6_after_imputation_finl_dt.csv', index = False, mode = 'w', header = True)"
   ]
  },
  {
   "cell_type": "markdown",
   "metadata": {},
   "source": [
    "# Imputation of X8"
   ]
  },
  {
   "cell_type": "markdown",
   "metadata": {},
   "source": [
    "### 1) Using LDA"
   ]
  },
  {
   "cell_type": "code",
   "execution_count": null,
   "metadata": {},
   "outputs": [],
   "source": [
    "import numpy as np\n",
    "import pandas as pd \n",
    "from sklearn.metrics import confusion_matrix as cm\n",
    "from sklearn.metrics import accuracy_score as asc\n",
    "from sklearn.metrics import r2_score as r2\n",
    "\n",
    "df = pd.read_csv(\"knock_0.csv\")\n",
    "\n",
    "df.head()\n",
    "X8_0 = df['X8']\n",
    "\n",
    "X8_imp = X8_0.fillna(6)\n",
    "\n",
    "X8_imp.describe()\n",
    "\n",
    "X8_imp.to_csv('X8_imputation.csv',sep=',', index = False, mode = 'w', header = True)\n",
    "\n",
    "df_imp = pd.read_csv(\"X8_imputation.csv\")\n",
    "\n",
    "Y1 = df.Y1\n",
    "Y2 = df.Y2\n",
    "\n",
    "df_imp['Y1'] = Y1\n",
    "df_imp['Y2'] = Y2\n",
    "df_imp.to_csv('X8_imputation.csv', index = False, mode = 'w', header = True)\n",
    "\n",
    "df_imp8 = pd.read_csv(\"X8_imputation.csv\")\n",
    "X8 = df_imp8.iloc[:,0].values\n",
    "y1 = df_imp8.iloc[:,1].values\n",
    "y2 = df_imp8.iloc[:,2].values\n",
    "x_train = []\n",
    "x_test = []\n",
    "y_test = []\n",
    "y_train = []\n",
    "\n",
    "for i in range(len(X8)):\n",
    "    if X8[i] == 6:\n",
    "        x_test.append(X8[i])\n",
    "    else:\n",
    "        x_train.append(X8[i])\n",
    "\n",
    "x_test1 = np.array(x_test).reshape(1, 77)\n",
    "x_train1 = np.array(x_train).reshape(1,691)\n",
    "x_train = x_train1[0]\n",
    "\n",
    "for i in range(len(X8)):\n",
    "    c=[]\n",
    "    if X8[i] == 6:\n",
    "        Y1_val = y1[i]\n",
    "        Y2_val = y2[i]\n",
    "        c.append(Y1_val)\n",
    "        c.append(Y2_val)\n",
    "        y_test.append(c)\n",
    "    else:\n",
    "         Y1_val = y1[i]\n",
    "         Y2_val = y2[i]\n",
    "         c.append(Y1_val)\n",
    "         c.append(Y2_val)\n",
    "         y_train.append(c)\n",
    "\n",
    "y_test = np.array(y_test)\n",
    "y_train = np.array(y_train)\n",
    "df_ori = pd.read_excel(\"ENB2012_data.xlsx\")\n",
    "y_ori = df_ori.drop(['X1','X2', 'X3', 'X4', 'X5', 'X6', 'X8', 'X7'], axis = 1)\n",
    "from sklearn.discriminant_analysis import LinearDiscriminantAnalysis as LDA\n",
    "lda = LDA()\n",
    "imputation_model_lda = lda.fit(y_train, x_train)\n",
    "pred_lda = lda.predict(y_test)\n",
    "count = 0\n",
    "a = 0\n",
    "for i in range(len(X8)):\n",
    "    if X8[i] == 6:\n",
    "        rep = pred_lda[count]\n",
    "        X8[i] =  rep\n",
    "        count = count + 1\n",
    "    else:\n",
    "        a = a+1\n",
    "X8_ori = df_ori.iloc[:,7].values"
   ]
  },
  {
   "cell_type": "code",
   "execution_count": null,
   "metadata": {},
   "outputs": [],
   "source": [
    "df_ori1 = pd.read_csv('X6_after_imputation_Dt.csv')\n",
    "df_rest_features_ori = df_ori1.drop('X8', axis = 1)\n",
    "df_rest_features_ori.to_csv('X8_after_imputation_lda.csv',sep=',', index = False, mode = 'w', header = True)\n",
    "df_new_read = pd.read_csv(\"X8_after_imputation_lda.csv\")\n",
    "X8_new = X8\n",
    "\n",
    "df_new_read['X8'] = X8_new\n",
    "\n",
    "df_new_read.to_csv('X8_after_imputation_lda.csv', index = False, mode = 'w', header = True)\n",
    "df_y = pd.read_csv(\"X8_after_imputation_lda.csv\")\n",
    "Y1 = df_ori.Y1\n",
    "Y2 = df_ori.Y2\n",
    "\n",
    "df_y['Y1'] = Y1\n",
    "df_y['Y2'] = Y2\n",
    "df_y.to_csv('X8_after_imputation_lda.csv', index = False, mode = 'w', header = True)"
   ]
  },
  {
   "cell_type": "code",
   "execution_count": null,
   "metadata": {},
   "outputs": [],
   "source": [
    "cm(df_ori.X8, X8)"
   ]
  },
  {
   "cell_type": "code",
   "execution_count": null,
   "metadata": {},
   "outputs": [],
   "source": [
    "asc(df_ori.X8, X8)"
   ]
  },
  {
   "cell_type": "code",
   "execution_count": null,
   "metadata": {},
   "outputs": [],
   "source": [
    "# for model fitted data sets\n",
    "asc(lda.predict(y_train), x_train)"
   ]
  },
  {
   "cell_type": "code",
   "execution_count": null,
   "metadata": {},
   "outputs": [],
   "source": [
    "# for original unknocked data\n",
    "asc(lda.predict(y_ori), X8_ori)"
   ]
  },
  {
   "cell_type": "markdown",
   "metadata": {},
   "source": [
    "### 2) Using QDA"
   ]
  },
  {
   "cell_type": "code",
   "execution_count": null,
   "metadata": {},
   "outputs": [],
   "source": [
    "import numpy as np\n",
    "import pandas as pd \n",
    "from sklearn.metrics import confusion_matrix as cm\n",
    "from sklearn.metrics import accuracy_score as asc\n",
    "from sklearn.metrics import r2_score as r2\n",
    "\n",
    "df = pd.read_csv(\"knock_0.csv\")\n",
    "\n",
    "df.head()\n",
    "X8_0 = df['X8']\n",
    "\n",
    "X8_imp = X8_0.fillna(6)\n",
    "\n",
    "X8_imp.describe()\n",
    "\n",
    "X8_imp.to_csv('X8_imputation.csv',sep=',', index = False, mode = 'w', header = True)\n",
    "\n",
    "df_imp = pd.read_csv(\"X8_imputation.csv\")\n",
    "\n",
    "Y1 = df.Y1\n",
    "Y2 = df.Y2\n",
    "\n",
    "df_imp['Y1'] = Y1\n",
    "df_imp['Y2'] = Y2\n",
    "df_imp.to_csv('X8_imputation.csv', index = False, mode = 'w', header = True)\n",
    "\n",
    "df_imp8 = pd.read_csv(\"X8_imputation.csv\")\n",
    "X8 = df_imp8.iloc[:,0].values\n",
    "y1 = df_imp8.iloc[:,1].values\n",
    "y2 = df_imp8.iloc[:,2].values\n",
    "x_train = []\n",
    "x_test = []\n",
    "y_test = []\n",
    "y_train = []\n",
    "\n",
    "for i in range(len(X8)):\n",
    "    if X8[i] == 6:\n",
    "        x_test.append(X8[i])\n",
    "    else:\n",
    "        x_train.append(X8[i])\n",
    "\n",
    "x_test1 = np.array(x_test).reshape(1, 77)\n",
    "x_train1 = np.array(x_train).reshape(1,691)\n",
    "x_train = x_train1[0]\n",
    "\n",
    "for i in range(len(X8)):\n",
    "    c=[]\n",
    "    if X8[i] == 6:\n",
    "        Y1_val = y1[i]\n",
    "        Y2_val = y2[i]\n",
    "        c.append(Y1_val)\n",
    "        c.append(Y2_val)\n",
    "        y_test.append(c)\n",
    "    else:\n",
    "         Y1_val = y1[i]\n",
    "         Y2_val = y2[i]\n",
    "         c.append(Y1_val)\n",
    "         c.append(Y2_val)\n",
    "         y_train.append(c)\n",
    "\n",
    "y_test = np.array(y_test)\n",
    "y_train = np.array(y_train)\n",
    "df_ori = pd.read_excel(\"ENB2012_data.xlsx\")\n",
    "y_ori = df_ori.drop(['X1','X2', 'X3', 'X4', 'X5', 'X6', 'X8', 'X7'], axis = 1)\n",
    "from sklearn.discriminant_analysis import QuadraticDiscriminantAnalysis as QDA\n",
    "qda = QDA()\n",
    "imputation_model = qda.fit(y_train, x_train)\n",
    "pred = qda.predict(y_test)\n",
    "count = 0\n",
    "a = 0\n",
    "for i in range(len(X8)):\n",
    "    if X8[i] == 6:\n",
    "        rep = pred[count]\n",
    "        X8[i] =  rep\n",
    "        count = count + 1\n",
    "    else:\n",
    "        a = a+1\n",
    "df_ori = pd.read_excel(\"ENB2012_data.xlsx\")\n",
    "X8_ori = df_ori.iloc[:,7].values"
   ]
  },
  {
   "cell_type": "code",
   "execution_count": null,
   "metadata": {},
   "outputs": [],
   "source": [
    "df_rest_features_ori = df_ori1.drop('X8', axis = 1)\n",
    "df_rest_features_ori.to_csv('X8_after_imputation.csv',sep=',', index = False, mode = 'w', header = True)\n",
    "df_new_read = pd.read_csv(\"X8_after_imputation.csv\")\n",
    "X8_new = X8\n",
    "\n",
    "df_new_read['X8'] = X8_new\n",
    "\n",
    "df_new_read.to_csv('X8_after_imputation.csv', index = False, mode = 'w', header = True)\n",
    "df_y = pd.read_csv(\"X8_after_imputation.csv\")\n",
    "Y1 = df_ori.Y1\n",
    "Y2 = df_ori.Y2\n",
    "\n",
    "df_y['Y1'] = Y1\n",
    "df_y['Y2'] = Y2\n",
    "df_y.to_csv('X8_after_imputation.csv', index = False, mode = 'w', header = True)"
   ]
  },
  {
   "cell_type": "code",
   "execution_count": null,
   "metadata": {},
   "outputs": [],
   "source": [
    "cm(df_ori.X8, X8)"
   ]
  },
  {
   "cell_type": "code",
   "execution_count": null,
   "metadata": {},
   "outputs": [],
   "source": [
    "asc(df_ori.X8, X8)"
   ]
  },
  {
   "cell_type": "code",
   "execution_count": null,
   "metadata": {},
   "outputs": [],
   "source": [
    "# for model fitted data sets\n",
    "asc(qda.predict(y_train), x_train)"
   ]
  },
  {
   "cell_type": "code",
   "execution_count": null,
   "metadata": {},
   "outputs": [],
   "source": [
    "# for original unknocked data\n",
    "asc(qda.predict(y_ori), X8_ori)"
   ]
  },
  {
   "cell_type": "markdown",
   "metadata": {},
   "source": [
    "### 3) Using KNN with optimum value of K"
   ]
  },
  {
   "cell_type": "code",
   "execution_count": null,
   "metadata": {},
   "outputs": [],
   "source": [
    "import numpy as np\n",
    "import pandas as pd \n",
    "from sklearn.metrics import confusion_matrix as cm\n",
    "from sklearn.metrics import accuracy_score as asc\n",
    "from sklearn.metrics import r2_score as r2\n",
    "\n",
    "df = pd.read_csv(\"knock_0.csv\")\n",
    "\n",
    "df.head()\n",
    "X8_0 = df['X8']\n",
    "\n",
    "X8_imp = X8_0.fillna(6)\n",
    "\n",
    "X8_imp.describe()\n",
    "\n",
    "X8_imp.to_csv('X8_imputation.csv',sep=',', index = False, mode = 'w', header = True)\n",
    "\n",
    "df_imp = pd.read_csv(\"X8_imputation.csv\")\n",
    "\n",
    "Y1 = df.Y1\n",
    "Y2 = df.Y2\n",
    "\n",
    "df_imp['Y1'] = Y1\n",
    "df_imp['Y2'] = Y2\n",
    "df_imp.to_csv('X8_imputation.csv', index = False, mode = 'w', header = True)\n",
    "\n",
    "df_imp8 = pd.read_csv(\"X8_imputation.csv\")\n",
    "X8 = df_imp8.iloc[:,0].values\n",
    "y1 = df_imp8.iloc[:,1].values\n",
    "y2 = df_imp8.iloc[:,2].values\n",
    "x_train = []\n",
    "x_test = []\n",
    "y_test = []\n",
    "y_train = []\n",
    "\n",
    "for i in range(len(X8)):\n",
    "    if X8[i] == 6:\n",
    "        x_test.append(X8[i])\n",
    "    else:\n",
    "        x_train.append(X8[i])\n",
    "\n",
    "x_test1 = np.array(x_test).reshape(1, 77)\n",
    "x_train1 = np.array(x_train).reshape(1,691)\n",
    "x_train = x_train1[0]\n",
    "\n",
    "for i in range(len(X8)):\n",
    "    c=[]\n",
    "    if X8[i] == 6:\n",
    "        Y1_val = y1[i]\n",
    "        Y2_val = y2[i]\n",
    "        c.append(Y1_val)\n",
    "        c.append(Y2_val)\n",
    "        y_test.append(c)\n",
    "    else:\n",
    "         Y1_val = y1[i]\n",
    "         Y2_val = y2[i]\n",
    "         c.append(Y1_val)\n",
    "         c.append(Y2_val)\n",
    "         y_train.append(c)\n",
    "\n",
    "y_test = np.array(y_test)\n",
    "y_train = np.array(y_train)\n",
    "df_ori = pd.read_excel(\"ENB2012_data.xlsx\")\n",
    "y_ori = df_ori.drop(['X1','X2', 'X3', 'X4', 'X5', 'X6', 'X8', 'X7'], axis = 1)\n",
    "from sklearn.neighbors import KNeighborsClassifier\n",
    "k_list = []\n",
    "asc_list = []\n",
    "df_ori = pd.read_excel(\"ENB2012_data.xlsx\")\n",
    "for i in range(30):\n",
    "    df = pd.read_csv(\"knock_0.csv\")\n",
    "    X8_knncl = df.X8\n",
    "    KN = KNeighborsClassifier(n_neighbors = i+1)\n",
    "    KNN = KN.fit(y_train, x_train)\n",
    "    pred_KNN = KNN.predict(y_test)\n",
    "    X8_knncl[X8_knncl.isnull()]= pred_KNN\n",
    "    count = 0\n",
    "    a = 0    \n",
    "    asc_val = asc(df_ori.X8, X8_knncl)\n",
    "    asc_list.append(asc_val)\n",
    "    k_list.append(i+1)"
   ]
  },
  {
   "cell_type": "code",
   "execution_count": null,
   "metadata": {},
   "outputs": [],
   "source": [
    "plt.scatter(k_list, asc_list)\n",
    "plt.xlabel('K')\n",
    "plt.ylabel('Accuracy')\n",
    "plt.title(\"Accuracy vs K\")"
   ]
  },
  {
   "cell_type": "code",
   "execution_count": null,
   "metadata": {},
   "outputs": [],
   "source": [
    "np.max(asc_list)"
   ]
  },
  {
   "cell_type": "code",
   "execution_count": null,
   "metadata": {},
   "outputs": [],
   "source": [
    "asc_list.index(np.max(asc_list)) + 1"
   ]
  },
  {
   "cell_type": "markdown",
   "metadata": {},
   "source": [
    "thus highest accuracy is for k = 1"
   ]
  },
  {
   "cell_type": "markdown",
   "metadata": {},
   "source": [
    "### 4) Using ANN with 10 neurons in hidden layer and 5 hidden layer"
   ]
  },
  {
   "cell_type": "code",
   "execution_count": null,
   "metadata": {},
   "outputs": [],
   "source": [
    "import numpy as np\n",
    "import pandas as pd \n",
    "from sklearn.metrics import confusion_matrix as cm\n",
    "from sklearn.metrics import accuracy_score as asc\n",
    "from sklearn.metrics import r2_score as r2\n",
    "\n",
    "df = pd.read_csv(\"knock_0.csv\")\n",
    "\n",
    "df.head()\n",
    "X8_0 = df['X8']\n",
    "\n",
    "X8_imp = X8_0.fillna(6)\n",
    "\n",
    "X8_imp.describe()\n",
    "\n",
    "X8_imp.to_csv('X8_imputation.csv',sep=',', index = False, mode = 'w', header = True)\n",
    "\n",
    "df_imp = pd.read_csv(\"X8_imputation.csv\")\n",
    "\n",
    "Y1 = df.Y1\n",
    "Y2 = df.Y2\n",
    "\n",
    "df_imp['Y1'] = Y1\n",
    "df_imp['Y2'] = Y2\n",
    "df_imp.to_csv('X8_imputation.csv', index = False, mode = 'w', header = True)\n",
    "\n",
    "df_imp8 = pd.read_csv(\"X8_imputation.csv\")\n",
    "X8 = df_imp8.iloc[:,0].values\n",
    "y1 = df_imp8.iloc[:,1].values\n",
    "y2 = df_imp8.iloc[:,2].values\n",
    "x_train = []\n",
    "x_test = []\n",
    "y_test = []\n",
    "y_train = []\n",
    "\n",
    "for i in range(len(X8)):\n",
    "    if X8[i] == 6:\n",
    "        x_test.append(X8[i])\n",
    "    else:\n",
    "        x_train.append(X8[i])\n",
    "\n",
    "x_test1 = np.array(x_test).reshape(1, 77)\n",
    "x_train1 = np.array(x_train).reshape(1,691)\n",
    "x_train = x_train1[0]\n",
    "\n",
    "for i in range(len(X8)):\n",
    "    c=[]\n",
    "    if X8[i] == 6:\n",
    "        Y1_val = y1[i]\n",
    "        Y2_val = y2[i]\n",
    "        c.append(Y1_val)\n",
    "        c.append(Y2_val)\n",
    "        y_test.append(c)\n",
    "    else:\n",
    "         Y1_val = y1[i]\n",
    "         Y2_val = y2[i]\n",
    "         c.append(Y1_val)\n",
    "         c.append(Y2_val)\n",
    "         y_train.append(c)\n",
    "\n",
    "y_test = np.array(y_test)\n",
    "y_train = np.array(y_train)\n",
    "df_ori = pd.read_excel(\"ENB2012_data.xlsx\")\n",
    "y_ori = df_ori.drop(['X1','X2', 'X3', 'X4', 'X5', 'X6', 'X8', 'X7'], axis = 1)\n",
    "from sklearn.neural_network import MLPClassifier\n",
    "\n",
    "nn = MLPClassifier(hidden_layer_sizes = (10,10,10,10,10,), max_iter = 200, solver = 'lbfgs')\n",
    "\n",
    "nn_5_2 = nn.fit(y_train, x_train)\n",
    "\n",
    "pred_nn5 = nn_5_2.predict(y_test)\n",
    "\n",
    "count = 0\n",
    "a = 0\n",
    "for i in range(len(X8)):\n",
    "    if X8[i] == 6:\n",
    "        rep = pred_nn5[count]\n",
    "        X8[i] =  rep\n",
    "        count = count + 1\n",
    "    else:\n",
    "        a = a+1\n",
    "\n",
    "df_ori = pd.read_excel(\"ENB2012_data.xlsx\")\n",
    "\n",
    "X8_ori = df_ori.iloc[:,7].values"
   ]
  },
  {
   "cell_type": "code",
   "execution_count": null,
   "metadata": {},
   "outputs": [],
   "source": [
    "cm(df_ori.X8, X8)"
   ]
  },
  {
   "cell_type": "code",
   "execution_count": null,
   "metadata": {},
   "outputs": [],
   "source": [
    "asc(df_ori.X8, X8)"
   ]
  },
  {
   "cell_type": "code",
   "execution_count": null,
   "metadata": {},
   "outputs": [],
   "source": [
    "# for model fitted data sets\n",
    "asc(nn_5_2.predict(y_train), x_train)"
   ]
  },
  {
   "cell_type": "code",
   "execution_count": null,
   "metadata": {},
   "outputs": [],
   "source": [
    "# for original unknocked data\n",
    "asc(nn_5_2.predict(y_ori), X8_ori)"
   ]
  },
  {
   "cell_type": "code",
   "execution_count": null,
   "metadata": {},
   "outputs": [],
   "source": [
    "df_rest_features_ori = df_ori1.drop('X8', axis = 1)\n",
    "df_rest_features_ori.to_csv('X8_after_imputation_ANN5.csv',sep=',', index = False, mode = 'w', header = True)\n",
    "\n",
    "df_new_read = pd.read_csv(\"X8_after_imputation_ANN5.csv\")\n",
    "X8_new = X8\n",
    "\n",
    "df_new_read['X8'] = X8_new\n",
    "\n",
    "df_new_read.to_csv('X8_after_imputation_ANN5.csv', index = False, mode = 'w', header = True)\n",
    "\n",
    "df_y = pd.read_csv(\"X8_after_imputation_ANN5.csv\")\n",
    "Y1 = df_ori.Y1\n",
    "Y2 = df_ori.Y2\n",
    "\n",
    "df_y['Y1'] = Y1\n",
    "df_y['Y2'] = Y2\n",
    "df_y.to_csv('X8_after_imputation_ANN5.csv', index = False, mode = 'w', header = True)"
   ]
  },
  {
   "cell_type": "markdown",
   "metadata": {},
   "source": [
    "### 5) using Decision Trees Classifier"
   ]
  },
  {
   "cell_type": "code",
   "execution_count": null,
   "metadata": {},
   "outputs": [],
   "source": [
    "import numpy as np\n",
    "import pandas as pd \n",
    "from sklearn.metrics import confusion_matrix as cm\n",
    "from sklearn.metrics import accuracy_score as asc\n",
    "from sklearn.metrics import r2_score as r2\n",
    "\n",
    "df = pd.read_csv(\"knock_0.csv\")\n",
    "\n",
    "df.head()\n",
    "X8_0 = df['X8']\n",
    "\n",
    "X8_imp = X8_0.fillna(6)\n",
    "\n",
    "X8_imp.describe()\n",
    "\n",
    "X8_imp.to_csv('X8_imputation.csv',sep=',', index = False, mode = 'w', header = True)\n",
    "\n",
    "df_imp = pd.read_csv(\"X8_imputation.csv\")\n",
    "\n",
    "Y1 = df.Y1\n",
    "Y2 = df.Y2\n",
    "\n",
    "df_imp['Y1'] = Y1\n",
    "df_imp['Y2'] = Y2\n",
    "df_imp.to_csv('X8_imputation.csv', index = False, mode = 'w', header = True)\n",
    "\n",
    "df_imp8 = pd.read_csv(\"X8_imputation.csv\")\n",
    "X8 = df_imp8.iloc[:,0].values\n",
    "y1 = df_imp8.iloc[:,1].values\n",
    "y2 = df_imp8.iloc[:,2].values\n",
    "x_train = []\n",
    "x_test = []\n",
    "y_test = []\n",
    "y_train = []\n",
    "\n",
    "for i in range(len(X8)):\n",
    "    if X8[i] == 6:\n",
    "        x_test.append(X8[i])\n",
    "    else:\n",
    "        x_train.append(X8[i])\n",
    "\n",
    "x_test1 = np.array(x_test).reshape(1, 77)\n",
    "x_train1 = np.array(x_train).reshape(1,691)\n",
    "x_train = x_train1[0]\n",
    "\n",
    "for i in range(len(X8)):\n",
    "    c=[]\n",
    "    if X8[i] == 6:\n",
    "        Y1_val = y1[i]\n",
    "        Y2_val = y2[i]\n",
    "        c.append(Y1_val)\n",
    "        c.append(Y2_val)\n",
    "        y_test.append(c)\n",
    "    else:\n",
    "         Y1_val = y1[i]\n",
    "         Y2_val = y2[i]\n",
    "         c.append(Y1_val)\n",
    "         c.append(Y2_val)\n",
    "         y_train.append(c)\n",
    "\n",
    "y_test = np.array(y_test)\n",
    "y_train = np.array(y_train)\n",
    "df_ori = pd.read_excel(\"ENB2012_data.xlsx\")\n",
    "y_ori = df_ori.drop(['X1','X2', 'X3', 'X4', 'X5', 'X6', 'X8', 'X7'], axis = 1)\n",
    "from sklearn.tree import DecisionTreeClassifier\n",
    "\n",
    "dt = DecisionTreeClassifier(random_state=0)\n",
    "\n",
    "dt_model = dt.fit(y_train,x_train)\n",
    "\n",
    "pred_dt = dt_model.predict(y_test)\n",
    "\n",
    "count = 0\n",
    "a = 0\n",
    "for i in range(len(X8)):\n",
    "    if X8[i] == 6:\n",
    "        rep = pred_dt[count]\n",
    "        X8[i] =  rep\n",
    "        count = count + 1\n",
    "    else:\n",
    "        a = a+1\n",
    "\n",
    "df_ori = pd.read_excel(\"ENB2012_data.xlsx\")\n",
    "\n",
    "X8_ori = df_ori.iloc[:,7].values"
   ]
  },
  {
   "cell_type": "code",
   "execution_count": null,
   "metadata": {},
   "outputs": [],
   "source": [
    "cm(df_ori.X8, X8)"
   ]
  },
  {
   "cell_type": "code",
   "execution_count": null,
   "metadata": {},
   "outputs": [],
   "source": [
    "asc(df_ori.X8, X8)"
   ]
  },
  {
   "cell_type": "code",
   "execution_count": null,
   "metadata": {},
   "outputs": [],
   "source": [
    "# for model fitted data sets\n",
    "asc(dt_model.predict(y_train), x_train)"
   ]
  },
  {
   "cell_type": "code",
   "execution_count": null,
   "metadata": {},
   "outputs": [],
   "source": [
    "# for original unknocked data\n",
    "asc(dt_model.predict(y_ori), X8_ori)"
   ]
  },
  {
   "cell_type": "code",
   "execution_count": null,
   "metadata": {},
   "outputs": [],
   "source": [
    "df_rest_features_ori = df_ori1.drop('X8', axis = 1)\n",
    "\n",
    "df_rest_features_ori.to_csv('X8_after_imputation_Dt.csv',sep=',', index = False, mode = 'w', header = True)\n",
    "\n",
    "df_new_read = pd.read_csv(\"X8_after_imputation_Dt.csv\")\n",
    "X8_new = X8\n",
    "\n",
    "df_new_read['X8'] = X8_new\n",
    "\n",
    "df_new_read.to_csv('X8_after_imputation_Dt.csv', index = False, mode = 'w', header = True)\n",
    "\n",
    "df_y = pd.read_csv(\"X8_after_imputation_Dt.csv\")\n",
    "Y1 = df_ori.Y1\n",
    "Y2 = df_ori.Y2\n",
    "\n",
    "df_y['Y1'] = Y1\n",
    "df_y['Y2'] = Y2\n",
    "df_y.to_csv('X8_after_imputation_Dt.csv', index = False, mode = 'w', header = True)"
   ]
  },
  {
   "cell_type": "code",
   "execution_count": null,
   "metadata": {},
   "outputs": [],
   "source": [
    "df_ori = pd.read_csv(\"X6_after_imputation_finl_dt.csv\")\n",
    "\n",
    "df_rest_features_ori = df_ori.drop('X8', axis = 1)\n",
    "\n",
    "df_rest_features_ori.to_csv('X8_after_imputation_finl_dt.csv',sep=',', index = False, mode = 'w', header = True)\n",
    "\n",
    "df_new_read = pd.read_csv(\"X8_after_imputation_finl_dt.csv\")\n",
    "\n",
    "\n",
    "df_new_read['X8'] = X8_new\n",
    "\n",
    "df_new_read.to_csv('X8_after_imputation_finl_dt.csv', index = False, mode = 'w', header = True)"
   ]
  },
  {
   "cell_type": "markdown",
   "metadata": {},
   "source": [
    "# Preparing final .csv"
   ]
  },
  {
   "cell_type": "code",
   "execution_count": null,
   "metadata": {},
   "outputs": [],
   "source": [
    "df = pd.read_csv('X8_after_imputation_finl_dt.csv')"
   ]
  },
  {
   "cell_type": "code",
   "execution_count": null,
   "metadata": {},
   "outputs": [],
   "source": [
    "X1 = df.X1\n",
    "X2 = df.X2\n",
    "X3 = df.X3\n",
    "X4 = df.X4\n",
    "X5 = df.X5\n",
    "X6 = df.X6\n",
    "X7 = df.X7\n",
    "X8 = df.X8\n",
    "Y1 = df.Y1\n",
    "Y2 = df.Y2\n"
   ]
  },
  {
   "cell_type": "code",
   "execution_count": null,
   "metadata": {},
   "outputs": [],
   "source": [
    "import pandas as pd\n",
    "data = {'X1':X1, \n",
    "        'X2':X2,\n",
    "        'X3':X3,\n",
    "        'X4':X4,\n",
    "        'X5':X5,\n",
    "        'X6':X6,\n",
    "        'X7':X7,\n",
    "        'X8':X8, \n",
    "        'Y1':Y1,\n",
    "        'Y2':Y2}"
   ]
  },
  {
   "cell_type": "code",
   "execution_count": null,
   "metadata": {},
   "outputs": [],
   "source": [
    "df_final = pd.DataFrame(data)"
   ]
  },
  {
   "cell_type": "code",
   "execution_count": null,
   "metadata": {},
   "outputs": [],
   "source": [
    "df_final.to_csv('final_imputed.csv', index = False, mode = 'w', header = True)"
   ]
  }
 ],
 "metadata": {
  "kernelspec": {
   "display_name": "Python 3",
   "language": "python",
   "name": "python3"
  },
  "language_info": {
   "codemirror_mode": {
    "name": "ipython",
    "version": 3
   },
   "file_extension": ".py",
   "mimetype": "text/x-python",
   "name": "python",
   "nbconvert_exporter": "python",
   "pygments_lexer": "ipython3",
   "version": "3.7.3"
  }
 },
 "nbformat": 4,
 "nbformat_minor": 2
}
