{
 "cells": [
  {
   "cell_type": "code",
   "execution_count": 1,
   "metadata": {},
   "outputs": [],
   "source": [
    "import numpy as np\n",
    "import pandas as pd\n",
    "import matplotlib.pyplot as plt\n",
    "import statsmodels.api as sm \n",
    "import seaborn as sns\n",
    "from sklearn.metrics import accuracy_score as asc"
   ]
  },
  {
   "cell_type": "code",
   "execution_count": 38,
   "metadata": {},
   "outputs": [
    {
     "data": {
      "text/html": [
       "<div>\n",
       "<style scoped>\n",
       "    .dataframe tbody tr th:only-of-type {\n",
       "        vertical-align: middle;\n",
       "    }\n",
       "\n",
       "    .dataframe tbody tr th {\n",
       "        vertical-align: top;\n",
       "    }\n",
       "\n",
       "    .dataframe thead th {\n",
       "        text-align: right;\n",
       "    }\n",
       "</style>\n",
       "<table border=\"1\" class=\"dataframe\">\n",
       "  <thead>\n",
       "    <tr style=\"text-align: right;\">\n",
       "      <th></th>\n",
       "      <th>X1</th>\n",
       "      <th>X2</th>\n",
       "      <th>X3</th>\n",
       "      <th>X4</th>\n",
       "      <th>X5</th>\n",
       "      <th>X6</th>\n",
       "      <th>X7</th>\n",
       "      <th>X8</th>\n",
       "      <th>Y1</th>\n",
       "      <th>Y2</th>\n",
       "    </tr>\n",
       "  </thead>\n",
       "  <tbody>\n",
       "    <tr>\n",
       "      <th>0</th>\n",
       "      <td>0.98</td>\n",
       "      <td>514.5</td>\n",
       "      <td>294.0</td>\n",
       "      <td>110.25</td>\n",
       "      <td>7.0</td>\n",
       "      <td>2.0</td>\n",
       "      <td>0.0</td>\n",
       "      <td>0.0</td>\n",
       "      <td>15.55</td>\n",
       "      <td>21.33</td>\n",
       "    </tr>\n",
       "    <tr>\n",
       "      <th>1</th>\n",
       "      <td>0.98</td>\n",
       "      <td>514.5</td>\n",
       "      <td>294.0</td>\n",
       "      <td>110.25</td>\n",
       "      <td>7.0</td>\n",
       "      <td>3.0</td>\n",
       "      <td>0.0</td>\n",
       "      <td>0.0</td>\n",
       "      <td>15.55</td>\n",
       "      <td>21.33</td>\n",
       "    </tr>\n",
       "    <tr>\n",
       "      <th>2</th>\n",
       "      <td>0.98</td>\n",
       "      <td>514.5</td>\n",
       "      <td>NaN</td>\n",
       "      <td>110.25</td>\n",
       "      <td>7.0</td>\n",
       "      <td>4.0</td>\n",
       "      <td>0.0</td>\n",
       "      <td>NaN</td>\n",
       "      <td>15.55</td>\n",
       "      <td>21.33</td>\n",
       "    </tr>\n",
       "    <tr>\n",
       "      <th>3</th>\n",
       "      <td>0.98</td>\n",
       "      <td>514.5</td>\n",
       "      <td>294.0</td>\n",
       "      <td>NaN</td>\n",
       "      <td>7.0</td>\n",
       "      <td>5.0</td>\n",
       "      <td>0.0</td>\n",
       "      <td>0.0</td>\n",
       "      <td>15.55</td>\n",
       "      <td>21.33</td>\n",
       "    </tr>\n",
       "    <tr>\n",
       "      <th>4</th>\n",
       "      <td>0.90</td>\n",
       "      <td>563.5</td>\n",
       "      <td>318.5</td>\n",
       "      <td>NaN</td>\n",
       "      <td>7.0</td>\n",
       "      <td>2.0</td>\n",
       "      <td>0.0</td>\n",
       "      <td>0.0</td>\n",
       "      <td>20.84</td>\n",
       "      <td>28.28</td>\n",
       "    </tr>\n",
       "  </tbody>\n",
       "</table>\n",
       "</div>"
      ],
      "text/plain": [
       "     X1     X2     X3      X4   X5   X6   X7   X8     Y1     Y2\n",
       "0  0.98  514.5  294.0  110.25  7.0  2.0  0.0  0.0  15.55  21.33\n",
       "1  0.98  514.5  294.0  110.25  7.0  3.0  0.0  0.0  15.55  21.33\n",
       "2  0.98  514.5    NaN  110.25  7.0  4.0  0.0  NaN  15.55  21.33\n",
       "3  0.98  514.5  294.0     NaN  7.0  5.0  0.0  0.0  15.55  21.33\n",
       "4  0.90  563.5  318.5     NaN  7.0  2.0  0.0  0.0  20.84  28.28"
      ]
     },
     "execution_count": 38,
     "metadata": {},
     "output_type": "execute_result"
    }
   ],
   "source": [
    "multi_reg_df = pd.read_csv(\"knocked_data.csv\")\n",
    "multi_reg_df.head()"
   ]
  },
  {
   "cell_type": "markdown",
   "metadata": {},
   "source": [
    "# Imputation by using mean"
   ]
  },
  {
   "cell_type": "code",
   "execution_count": 49,
   "metadata": {},
   "outputs": [],
   "source": [
    "X1 = multi_reg_df.drop(['X2','X3','X4','X5','X6','X7','X8','Y2','Y1'],axis=1)\n",
    "X2 = multi_reg_df.drop(['X1','X3','X4','X5','X6','X7','X8','Y2','Y1'],axis=1)\n",
    "X3 = multi_reg_df.drop(['X2','X1','X4','X5','X6','X7','X8','Y2','Y1'],axis=1)\n",
    "X4 = multi_reg_df.drop(['X2','X3','X1','X5','X6','X7','X8','Y2','Y1'],axis=1)\n",
    "X5 = multi_reg_df.drop(['X2','X3','X4','X1','X6','X7','X8','Y2','Y1'],axis=1)\n",
    "X6 = multi_reg_df.drop(['X2','X3','X4','X5','X1','X7','X8','Y2','Y1'],axis=1)\n",
    "X7 = multi_reg_df.drop(['X2','X3','X4','X5','X6','X1','X8','Y2','Y1'],axis=1)\n",
    "X8 = multi_reg_df.drop(['X2','X3','X4','X5','X6','X7','X1','Y2','Y1'],axis=1)"
   ]
  },
  {
   "cell_type": "code",
   "execution_count": 50,
   "metadata": {},
   "outputs": [],
   "source": [
    "X1.X1[X1.X1.isnull()]= X1.X1.mean()\n",
    "X2.X2[X2.X2.isnull()]= X2.X2.mean()\n",
    "X3.X3[X3.X3.isnull()]= X3.X3.mean()\n",
    "X4.X4[X4.X4.isnull()]= X4.X4.mean()\n",
    "X5.X5[X5.X5.isnull()]= X5.X5.mean()\n",
    "X6.X6[X6.X6.isnull()]= X6.X6.mean()\n",
    "X7.X7[X7.X7.isnull()]= X7.X7.mean()\n",
    "X8.X8[X8.X8.isnull()]= X8.X8.mean()"
   ]
  },
  {
   "cell_type": "code",
   "execution_count": 52,
   "metadata": {},
   "outputs": [
    {
     "name": "stdout",
     "output_type": "stream",
     "text": [
      "0.8996299660660224\n",
      "0.9126095767671759\n",
      "0.9044357262383216\n",
      "0.9000185099959066\n",
      "0.8997356046628033\n",
      "0.8996918900088869\n",
      "0.8977519991665626\n",
      "0.8907218765934636\n"
     ]
    }
   ],
   "source": [
    "from sklearn.metrics import r2_score\n",
    "df1 = pd.read_excel('ENB2012_data.xlsx')\n",
    "print(r2_score(df1.X1,X1))\n",
    "print(r2_score(df1.X2,X2))\n",
    "print(r2_score(df1.X3,X3))\n",
    "print(r2_score(df1.X4,X4))\n",
    "print(r2_score(df1.X5,X5))\n",
    "print(r2_score(df1.X6,X6))\n",
    "print(r2_score(df1.X7,X7))\n",
    "print(r2_score(df1.X8,X8))"
   ]
  },
  {
   "cell_type": "markdown",
   "metadata": {},
   "source": [
    "# Imputation by using median"
   ]
  },
  {
   "cell_type": "code",
   "execution_count": 55,
   "metadata": {},
   "outputs": [],
   "source": [
    "X1_med = multi_reg_df.drop(['X2','X3','X4','X5','X6','X7','X8','Y2','Y1'],axis=1)\n",
    "X2_med = multi_reg_df.drop(['X1','X3','X4','X5','X6','X7','X8','Y2','Y1'],axis=1)\n",
    "X3_med = multi_reg_df.drop(['X2','X1','X4','X5','X6','X7','X8','Y2','Y1'],axis=1)\n",
    "X4_med = multi_reg_df.drop(['X2','X3','X1','X5','X6','X7','X8','Y2','Y1'],axis=1)\n",
    "X5_med = multi_reg_df.drop(['X2','X3','X4','X1','X6','X7','X8','Y2','Y1'],axis=1)\n",
    "X6_med = multi_reg_df.drop(['X2','X3','X4','X5','X1','X7','X8','Y2','Y1'],axis=1)\n",
    "X7_med = multi_reg_df.drop(['X2','X3','X4','X5','X6','X1','X8','Y2','Y1'],axis=1)\n",
    "X8_med = multi_reg_df.drop(['X2','X3','X4','X5','X6','X7','X1','Y2','Y1'],axis=1)"
   ]
  },
  {
   "cell_type": "code",
   "execution_count": 60,
   "metadata": {},
   "outputs": [],
   "source": [
    "X1_med.X1[X1_med.X1.isnull()]= X1_med.X1.median()\n",
    "X2_med.X2[X2_med.X2.isnull()]= X2_med.X2.median()\n",
    "X3_med.X3[X3_med.X3.isnull()]= X3_med.X3.median()\n",
    "X4_med.X4[X4_med.X4.isnull()]= X4_med.X4.median()\n",
    "X5_med.X5[X5_med.X5.isnull()]= X5_med.X5.median()\n",
    "X6_med.X6[X6_med.X6.isnull()]= X6_med.X6.median()\n",
    "X7_med.X7[X7_med.X7.isnull()]= X7_med.X7.median()\n",
    "X8_med.X8[X8_med.X8.isnull()]= X8_med.X8.median()"
   ]
  },
  {
   "cell_type": "code",
   "execution_count": 61,
   "metadata": {},
   "outputs": [
    {
     "name": "stdout",
     "output_type": "stream",
     "text": [
      "0.9005111553042073\n",
      "0.9071073157611619\n",
      "0.90625\n",
      "0.7888107416879795\n",
      "0.796875\n",
      "0.8614583333333333\n",
      "0.8943985307621671\n",
      "0.8899728997289973\n"
     ]
    }
   ],
   "source": [
    "from sklearn.metrics import r2_score\n",
    "df1 = pd.read_excel('ENB2012_data.xlsx')\n",
    "print(r2_score(df1.X1,X1_med))\n",
    "print(r2_score(df1.X2,X2_med))\n",
    "print(r2_score(df1.X3,X3_med))\n",
    "print(r2_score(df1.X4,X4_med))\n",
    "print(r2_score(df1.X5,X5_med))\n",
    "print(r2_score(df1.X6,X6_med))\n",
    "print(r2_score(df1.X7,X7_med))\n",
    "print(r2_score(df1.X8,X8_med))"
   ]
  },
  {
   "cell_type": "markdown",
   "metadata": {},
   "source": [
    "# imputation by using mode"
   ]
  },
  {
   "cell_type": "code",
   "execution_count": 100,
   "metadata": {},
   "outputs": [],
   "source": [
    "X1_mod = multi_reg_df.drop(['X2','X3','X4','X5','X6','X7','X8','Y2','Y1'],axis=1)\n",
    "X2_mod = multi_reg_df.drop(['X1','X3','X4','X5','X6','X7','X8','Y2','Y1'],axis=1)\n",
    "X3_mod = multi_reg_df.drop(['X2','X1','X4','X5','X6','X7','X8','Y2','Y1'],axis=1)\n",
    "X4_mod = multi_reg_df.drop(['X2','X3','X1','X5','X6','X7','X8','Y2','Y1'],axis=1)\n",
    "X5_mod = multi_reg_df.drop(['X2','X3','X4','X1','X6','X7','X8','Y2','Y1'],axis=1)\n",
    "X6_mod = multi_reg_df.drop(['X2','X3','X4','X5','X1','X7','X8','Y2','Y1'],axis=1)\n",
    "X7_mod1 = multi_reg_df.drop(['X2','X3','X4','X5','X6','X1','X8','Y2','Y1'],axis=1)\n",
    "X7_mod2 = multi_reg_df.drop(['X2','X3','X4','X5','X6','X1','X8','Y2','Y1'],axis=1)\n",
    "X8_mod = multi_reg_df.drop(['X2','X3','X4','X5','X6','X7','X1','Y2','Y1'],axis=1)"
   ]
  },
  {
   "cell_type": "code",
   "execution_count": 101,
   "metadata": {},
   "outputs": [
    {
     "name": "stdout",
     "output_type": "stream",
     "text": [
      "0    0.74\n",
      "dtype: float64\n",
      "0    514.5\n",
      "dtype: float64\n",
      "0    318.5\n",
      "dtype: float64\n",
      "0    220.5\n",
      "dtype: float64\n",
      "0    7.0\n",
      "dtype: float64\n",
      "0    2.0\n",
      "dtype: float64\n",
      "0    0.25\n",
      "1    0.40\n",
      "dtype: float64\n",
      "0    2.0\n",
      "dtype: float64\n"
     ]
    }
   ],
   "source": [
    "print(X1_mod.X1.mode())\n",
    "print(X2_mod.X2.mode())\n",
    "print(X3_mod.X3.mode())\n",
    "print(X4_mod.X4.mode())\n",
    "print(X5_mod.X5.mode())\n",
    "print(X6_mod.X6.mode())\n",
    "print(X7_mod1.X7.mode())\n",
    "print(X8_mod.X8.mode())"
   ]
  },
  {
   "cell_type": "code",
   "execution_count": 102,
   "metadata": {},
   "outputs": [],
   "source": [
    "X1_mod.X1[X1_mod.X1.isnull()]= 0.74\n",
    "X2_mod.X2[X2_mod.X2.isnull()]= 514.5\n",
    "X3_mod.X3[X3_mod.X3.isnull()]= 318.5\n",
    "X4_mod.X4[X4_mod.X4.isnull()]= 220.5\n",
    "X5_mod.X5[X5_mod.X5.isnull()]= 7.0\n",
    "X6_mod.X6[X6_mod.X6.isnull()]= 2.0\n",
    "X7_mod1.X7[X7_mod1.X7.isnull()]= 0.25\n",
    "X7_mod2.X7[X7_mod2.X7.isnull()]= 0.4\n",
    "X8_mod.X8[X8_mod.X8.isnull()]= 2.0"
   ]
  },
  {
   "cell_type": "code",
   "execution_count": 103,
   "metadata": {},
   "outputs": [
    {
     "name": "stdout",
     "output_type": "stream",
     "text": [
      "0.8992526878379218\n",
      "0.6268154922001076\n",
      "0.90625\n",
      "0.7888107416879795\n",
      "0.796875\n",
      "0.6625\n",
      "0.8943985307621671\n",
      "0.719742883379247\n",
      "0.8601626016260162\n"
     ]
    }
   ],
   "source": [
    "print(r2_score(df1.X1,X1_mod))\n",
    "print(r2_score(df1.X2,X2_mod))\n",
    "print(r2_score(df1.X3,X3_mod))\n",
    "print(r2_score(df1.X4,X4_mod))\n",
    "print(r2_score(df1.X5,X5_mod))\n",
    "print(r2_score(df1.X6,X6_mod))\n",
    "print(r2_score(df1.X7,X7_mod1))\n",
    "print(r2_score(df1.X7,X7_mod2))\n",
    "print(r2_score(df1.X8,X8_mod))"
   ]
  },
  {
   "cell_type": "code",
   "execution_count": 111,
   "metadata": {},
   "outputs": [
    {
     "name": "stdout",
     "output_type": "stream",
     "text": [
      "[[ 2.09513222e-03 -2.53660009e-01  8.07951040e-01 -5.30805524e-01\n",
      "   3.29645632e-02  3.98098345e-03  2.66529721e-04  3.20007976e-03]]\n",
      "[0.00593686]\n"
     ]
    }
   ],
   "source": [
    "from sklearn.preprocessing import Normalizer\n",
    "from sklearn.decomposition import PCA\n",
    "df_ori = pd.read_excel(\"ENB2012_data.xlsx\")\n",
    "Y1 = df_ori.iloc[:,8].values  # Y1 is heating load\n",
    "Y2 = df_ori.iloc[:,9].values  # Y2 is cooling load\n",
    "X = df_ori.iloc[:,[0,1, 2, 3, 4, 5, 6, 7]].values\n",
    "pca = PCA(n_components=1)\n",
    "normalizer = Normalizer(copy=False)\n",
    "X_norm = normalizer.fit_transform(X)\n",
    "X_reduced = pca.fit_transform(X_norm)\n",
    "print(pca.components_)# it gives individual component along that pca\n",
    "print(pca.explained_variance_)# it gives total variance explained along the pca"
   ]
  }
 ],
 "metadata": {
  "kernelspec": {
   "display_name": "Python 3",
   "language": "python",
   "name": "python3"
  },
  "language_info": {
   "codemirror_mode": {
    "name": "ipython",
    "version": 3
   },
   "file_extension": ".py",
   "mimetype": "text/x-python",
   "name": "python",
   "nbconvert_exporter": "python",
   "pygments_lexer": "ipython3",
   "version": "3.7.3"
  }
 },
 "nbformat": 4,
 "nbformat_minor": 2
}
